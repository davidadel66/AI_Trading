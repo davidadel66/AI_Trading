{
 "cells": [
  {
   "cell_type": "code",
   "execution_count": 3,
   "metadata": {},
   "outputs": [
    {
     "name": "stdout",
     "output_type": "stream",
     "text": [
      "Connection successful: {'message': 'You successfully sent a request'}\n"
     ]
    }
   ],
   "source": [
    "import pandas as pd\n",
    "import numpy as np\n",
    "from matplotlib import pyplot as plt\n",
    "import plotly\n",
    "from retrieveData import DataHandler\n",
    "import datetime as dt\n",
    "import os\n",
    "import plotly.express as px\n",
    "from plotly.graph_objs import Figure\n",
    "import plotly.io as pio\n",
    "from typing import List, Union, Optional\n",
    "from scipy import stats\n",
    "\n",
    "\n",
    "file_path = '/Users/davidboktor/Documents/Tiingo_API.txt'\n",
    "handler = DataHandler(file_path)\n",
    "\n",
    "\n",
    "test = handler.test_connections()\n"
   ]
  },
  {
   "cell_type": "code",
   "execution_count": 4,
   "metadata": {},
   "outputs": [
    {
     "name": "stderr",
     "output_type": "stream",
     "text": [
      "ERROR:retrieveData:Unexpected error for ABC: 'date'\n"
     ]
    },
    {
     "name": "stdout",
     "output_type": "stream",
     "text": [
      "Number of Tickers: 502\n",
      "Historical data will be from 2015-01-01 to 2024-08-23\n"
     ]
    },
    {
     "name": "stderr",
     "output_type": "stream",
     "text": [
      "INFO:retrieveData:Successfully fetched data for ADSK\n",
      "INFO:retrieveData:Successfully fetched data for ADBE\n",
      "INFO:retrieveData:Successfully fetched data for AAPL\n",
      "INFO:retrieveData:Successfully fetched data for ACN\n",
      "INFO:retrieveData:Successfully fetched data for AAL\n",
      "INFO:retrieveData:Successfully fetched data for ABBV\n",
      "INFO:retrieveData:Successfully fetched data for ADP\n",
      "INFO:retrieveData:Successfully fetched data for ABT\n",
      "INFO:retrieveData:Successfully fetched data for AAP\n",
      "INFO:retrieveData:Successfully fetched data for A\n",
      "INFO:retrieveData:Successfully fetched data for ADM\n",
      "INFO:retrieveData:Successfully fetched data for AEE\n",
      "INFO:retrieveData:Successfully fetched data for ADI\n",
      "INFO:retrieveData:Successfully fetched data for AEP\n",
      "INFO:retrieveData:Successfully fetched data for ABMD\n",
      "INFO:retrieveData:Successfully fetched data for AIG\n",
      "INFO:retrieveData:Successfully fetched data for AKAM\n",
      "INFO:retrieveData:Successfully fetched data for AFL\n",
      "INFO:retrieveData:Successfully fetched data for ALGN\n",
      "INFO:retrieveData:Successfully fetched data for ALL\n",
      "INFO:retrieveData:Successfully fetched data for AJG\n",
      "INFO:retrieveData:Successfully fetched data for AES\n",
      "INFO:retrieveData:Successfully fetched data for AMAT\n",
      "INFO:retrieveData:Successfully fetched data for ALK\n",
      "INFO:retrieveData:Successfully fetched data for ALB\n",
      "INFO:retrieveData:Successfully fetched data for AMCR\n",
      "INFO:retrieveData:Successfully fetched data for AIZ\n",
      "ERROR:retrieveData:Unexpected error for ANTM: 'date'\n",
      "INFO:retrieveData:Successfully fetched data for AME\n",
      "INFO:retrieveData:Successfully fetched data for AMD\n",
      "INFO:retrieveData:Successfully fetched data for ANSS\n",
      "INFO:retrieveData:Successfully fetched data for AMGN\n",
      "INFO:retrieveData:Successfully fetched data for AMZN\n",
      "INFO:retrieveData:Successfully fetched data for ANET\n",
      "INFO:retrieveData:Successfully fetched data for AMP\n",
      "INFO:retrieveData:Successfully fetched data for AOS\n",
      "INFO:retrieveData:Successfully fetched data for AON\n",
      "INFO:retrieveData:Successfully fetched data for APH\n",
      "INFO:retrieveData:Successfully fetched data for AMT\n",
      "INFO:retrieveData:Successfully fetched data for APD\n",
      "INFO:retrieveData:Successfully fetched data for ALLE\n",
      "INFO:retrieveData:Successfully fetched data for APTV\n",
      "INFO:retrieveData:Successfully fetched data for ARE\n",
      "INFO:retrieveData:Successfully fetched data for ATO\n",
      "INFO:retrieveData:Successfully fetched data for AVGO\n",
      "INFO:retrieveData:Successfully fetched data for AVB\n",
      "INFO:retrieveData:Successfully fetched data for AWK\n",
      "INFO:retrieveData:Successfully fetched data for AXP\n",
      "INFO:retrieveData:Successfully fetched data for APA\n",
      "INFO:retrieveData:Successfully fetched data for AZO\n",
      "INFO:retrieveData:Successfully fetched data for BA\n",
      "INFO:retrieveData:Successfully fetched data for ATVI\n",
      "INFO:retrieveData:Successfully fetched data for BAX\n",
      "INFO:retrieveData:Successfully fetched data for BBWI\n",
      "INFO:retrieveData:Successfully fetched data for AVY\n",
      "INFO:retrieveData:Successfully fetched data for BDX\n",
      "INFO:retrieveData:Successfully fetched data for BAC\n",
      "INFO:retrieveData:Successfully fetched data for BEN\n",
      "ERROR:retrieveData:Unexpected error for BLL: 'date'\n",
      "INFO:retrieveData:Successfully fetched data for BIIB\n",
      "INFO:retrieveData:Successfully fetched data for BIO\n",
      "INFO:retrieveData:Successfully fetched data for BK\n",
      "INFO:retrieveData:Successfully fetched data for BKR\n",
      "INFO:retrieveData:Successfully fetched data for BBY\n",
      "INFO:retrieveData:Successfully fetched data for BKNG\n",
      "INFO:retrieveData:Successfully fetched data for BLK\n",
      "INFO:retrieveData:Successfully fetched data for BMY\n",
      "INFO:retrieveData:Successfully fetched data for BSX\n",
      "INFO:retrieveData:Successfully fetched data for BWA\n",
      "INFO:retrieveData:Successfully fetched data for BRO\n",
      "INFO:retrieveData:Successfully fetched data for C\n",
      "INFO:retrieveData:Successfully fetched data for CAG\n",
      "INFO:retrieveData:Successfully fetched data for BXP\n",
      "INFO:retrieveData:Successfully fetched data for BR\n",
      "INFO:retrieveData:Successfully fetched data for CBRE\n",
      "INFO:retrieveData:Successfully fetched data for CBOE\n",
      "INFO:retrieveData:Successfully fetched data for CAH\n",
      "INFO:retrieveData:Successfully fetched data for CCL\n",
      "INFO:retrieveData:Successfully fetched data for CAT\n",
      "INFO:retrieveData:Successfully fetched data for CARR\n",
      "INFO:retrieveData:Successfully fetched data for CB\n",
      "INFO:retrieveData:Successfully fetched data for CCI\n",
      "INFO:retrieveData:Successfully fetched data for CDNS\n",
      "INFO:retrieveData:Successfully fetched data for CDAY\n",
      "INFO:retrieveData:Successfully fetched data for CDW\n",
      "INFO:retrieveData:Successfully fetched data for CE\n",
      "INFO:retrieveData:Successfully fetched data for CFG\n",
      "INFO:retrieveData:Successfully fetched data for CERN\n",
      "INFO:retrieveData:Successfully fetched data for CHD\n",
      "INFO:retrieveData:Successfully fetched data for CHRW\n",
      "INFO:retrieveData:Successfully fetched data for CF\n",
      "INFO:retrieveData:Successfully fetched data for CHTR\n",
      "INFO:retrieveData:Successfully fetched data for CLX\n",
      "INFO:retrieveData:Successfully fetched data for CINF\n",
      "INFO:retrieveData:Successfully fetched data for CL\n",
      "INFO:retrieveData:Successfully fetched data for CME\n",
      "INFO:retrieveData:Successfully fetched data for CMCSA\n",
      "INFO:retrieveData:Successfully fetched data for CMG\n",
      "INFO:retrieveData:Successfully fetched data for CMA\n",
      "INFO:retrieveData:Successfully fetched data for CMI\n",
      "INFO:retrieveData:Successfully fetched data for CMS\n",
      "INFO:retrieveData:Successfully fetched data for CNC\n",
      "INFO:retrieveData:Successfully fetched data for COP\n",
      "INFO:retrieveData:Successfully fetched data for CNP\n",
      "INFO:retrieveData:Successfully fetched data for COO\n",
      "INFO:retrieveData:Successfully fetched data for CPB\n",
      "INFO:retrieveData:Successfully fetched data for CRL\n",
      "INFO:retrieveData:Successfully fetched data for CRM\n",
      "INFO:retrieveData:Successfully fetched data for CSX\n",
      "INFO:retrieveData:Successfully fetched data for CSCO\n",
      "INFO:retrieveData:Successfully fetched data for COF\n",
      "INFO:retrieveData:Successfully fetched data for CTAS\n",
      "INFO:retrieveData:Successfully fetched data for COST\n",
      "INFO:retrieveData:Successfully fetched data for CTLT\n",
      "INFO:retrieveData:Successfully fetched data for CTRA\n",
      "INFO:retrieveData:Successfully fetched data for CTVA\n",
      "INFO:retrieveData:Successfully fetched data for CTSH\n",
      "INFO:retrieveData:Successfully fetched data for CVS\n",
      "INFO:retrieveData:Successfully fetched data for CZR\n",
      "INFO:retrieveData:Successfully fetched data for CTXS\n",
      "INFO:retrieveData:Successfully fetched data for CVX\n",
      "INFO:retrieveData:Successfully fetched data for D\n",
      "INFO:retrieveData:Successfully fetched data for CPRT\n",
      "INFO:retrieveData:Successfully fetched data for DE\n",
      "INFO:retrieveData:Successfully fetched data for DFS\n",
      "INFO:retrieveData:Successfully fetched data for DAL\n",
      "INFO:retrieveData:Successfully fetched data for DD\n",
      "INFO:retrieveData:Successfully fetched data for DHI\n",
      "INFO:retrieveData:Successfully fetched data for DHR\n",
      "INFO:retrieveData:Successfully fetched data for DG\n",
      "INFO:retrieveData:Successfully fetched data for DISCA\n",
      "INFO:retrieveData:Successfully fetched data for DGX\n",
      "INFO:retrieveData:Successfully fetched data for DIS\n",
      "INFO:retrieveData:Successfully fetched data for DISCK\n",
      "INFO:retrieveData:Successfully fetched data for DLR\n",
      "INFO:retrieveData:Successfully fetched data for DLTR\n",
      "INFO:retrieveData:Successfully fetched data for DOW\n",
      "INFO:retrieveData:Successfully fetched data for DPZ\n",
      "INFO:retrieveData:Successfully fetched data for DOV\n",
      "INFO:retrieveData:Successfully fetched data for DRI\n",
      "INFO:retrieveData:Successfully fetched data for DISH\n",
      "INFO:retrieveData:Successfully fetched data for DRE\n",
      "INFO:retrieveData:Successfully fetched data for DVA\n",
      "INFO:retrieveData:Successfully fetched data for DUK\n",
      "INFO:retrieveData:Successfully fetched data for DVN\n",
      "INFO:retrieveData:Successfully fetched data for DTE\n",
      "INFO:retrieveData:Successfully fetched data for EA\n",
      "INFO:retrieveData:Successfully fetched data for ECL\n",
      "INFO:retrieveData:Successfully fetched data for CI\n",
      "INFO:retrieveData:Successfully fetched data for EBAY\n",
      "INFO:retrieveData:Successfully fetched data for ED\n",
      "INFO:retrieveData:Successfully fetched data for DXCM\n",
      "INFO:retrieveData:Successfully fetched data for EIX\n",
      "INFO:retrieveData:Successfully fetched data for EFX\n",
      "INFO:retrieveData:Successfully fetched data for ENPH\n",
      "INFO:retrieveData:Successfully fetched data for EMR\n",
      "INFO:retrieveData:Successfully fetched data for EOG\n",
      "INFO:retrieveData:Successfully fetched data for DXC\n",
      "INFO:retrieveData:Successfully fetched data for EQR\n",
      "INFO:retrieveData:Successfully fetched data for EL\n",
      "INFO:retrieveData:Successfully fetched data for EMN\n",
      "INFO:retrieveData:Successfully fetched data for ETSY\n",
      "INFO:retrieveData:Successfully fetched data for EVRG\n",
      "INFO:retrieveData:Successfully fetched data for ETR\n",
      "INFO:retrieveData:Successfully fetched data for ESS\n",
      "INFO:retrieveData:Successfully fetched data for EW\n",
      "INFO:retrieveData:Successfully fetched data for EQIX\n",
      "INFO:retrieveData:Successfully fetched data for ES\n",
      "INFO:retrieveData:Successfully fetched data for ETN\n",
      "INFO:retrieveData:Successfully fetched data for EXPD\n",
      "INFO:retrieveData:Successfully fetched data for EXPE\n",
      "ERROR:retrieveData:Unexpected error for FBHS: 'date'\n",
      "INFO:retrieveData:Successfully fetched data for EXR\n",
      "ERROR:retrieveData:Unexpected error for FB: 'date'\n",
      "INFO:retrieveData:Successfully fetched data for FAST\n",
      "INFO:retrieveData:Successfully fetched data for FANG\n",
      "INFO:retrieveData:Successfully fetched data for FFIV\n",
      "ERROR:retrieveData:Unexpected error for FLT: 'date'\n",
      "INFO:retrieveData:Successfully fetched data for FE\n",
      "INFO:retrieveData:Successfully fetched data for F\n",
      "INFO:retrieveData:Successfully fetched data for FDX\n",
      "INFO:retrieveData:Successfully fetched data for FCX\n",
      "INFO:retrieveData:Successfully fetched data for FISV\n",
      "INFO:retrieveData:Successfully fetched data for FIS\n",
      "INFO:retrieveData:Successfully fetched data for FOX\n",
      "INFO:retrieveData:Successfully fetched data for FOXA\n",
      "INFO:retrieveData:Successfully fetched data for FMC\n",
      "ERROR:retrieveData:Unexpected error for FRC: 'date'\n",
      "INFO:retrieveData:Successfully fetched data for EXC\n",
      "INFO:retrieveData:Successfully fetched data for FTNT\n",
      "INFO:retrieveData:Successfully fetched data for FITB\n",
      "INFO:retrieveData:Successfully fetched data for FTV\n",
      "INFO:retrieveData:Successfully fetched data for FRT\n",
      "INFO:retrieveData:Successfully fetched data for GD\n",
      "INFO:retrieveData:Successfully fetched data for GE\n",
      "INFO:retrieveData:Successfully fetched data for GILD\n",
      "INFO:retrieveData:Successfully fetched data for GIS\n",
      "ERROR:retrieveData:Unexpected error for GPS: 'date'\n",
      "INFO:retrieveData:Successfully fetched data for GNRC\n",
      "INFO:retrieveData:Successfully fetched data for GLW\n",
      "INFO:retrieveData:Successfully fetched data for GOOGL\n",
      "INFO:retrieveData:Successfully fetched data for GPC\n",
      "INFO:retrieveData:Successfully fetched data for GM\n",
      "INFO:retrieveData:Successfully fetched data for GPN\n",
      "INFO:retrieveData:Successfully fetched data for GRMN\n",
      "INFO:retrieveData:Successfully fetched data for GOOG\n",
      "INFO:retrieveData:Successfully fetched data for GL\n",
      "INFO:retrieveData:Successfully fetched data for GS\n",
      "INFO:retrieveData:Successfully fetched data for GWW\n",
      "INFO:retrieveData:Successfully fetched data for HAS\n",
      "INFO:retrieveData:Successfully fetched data for HAL\n",
      "INFO:retrieveData:Successfully fetched data for HBAN\n",
      "INFO:retrieveData:Successfully fetched data for HBI\n",
      "INFO:retrieveData:Successfully fetched data for HD\n",
      "INFO:retrieveData:Successfully fetched data for HII\n",
      "INFO:retrieveData:Successfully fetched data for HCA\n",
      "INFO:retrieveData:Successfully fetched data for HLT\n",
      "INFO:retrieveData:Successfully fetched data for HIG\n",
      "INFO:retrieveData:Successfully fetched data for HON\n",
      "INFO:retrieveData:Successfully fetched data for HES\n",
      "INFO:retrieveData:Successfully fetched data for HSIC\n",
      "INFO:retrieveData:Successfully fetched data for HRL\n",
      "INFO:retrieveData:Successfully fetched data for HPQ\n",
      "INFO:retrieveData:Successfully fetched data for HSY\n",
      "INFO:retrieveData:Successfully fetched data for HST\n",
      "INFO:retrieveData:Successfully fetched data for HUM\n",
      "INFO:retrieveData:Successfully fetched data for HOLX\n",
      "INFO:retrieveData:Successfully fetched data for HPE\n",
      "INFO:retrieveData:Successfully fetched data for IEX\n",
      "INFO:retrieveData:Successfully fetched data for HWM\n",
      "INFO:retrieveData:Successfully fetched data for ICE\n",
      "INFO:retrieveData:Successfully fetched data for IBM\n",
      "INFO:retrieveData:Successfully fetched data for INFO\n",
      "INFO:retrieveData:Successfully fetched data for INTU\n",
      "INFO:retrieveData:Successfully fetched data for INTC\n",
      "INFO:retrieveData:Successfully fetched data for IP\n",
      "INFO:retrieveData:Successfully fetched data for IFF\n",
      "INFO:retrieveData:Successfully fetched data for IPGP\n",
      "INFO:retrieveData:Successfully fetched data for IPG\n",
      "INFO:retrieveData:Successfully fetched data for IQV\n",
      "INFO:retrieveData:Successfully fetched data for ILMN\n",
      "INFO:retrieveData:Successfully fetched data for IR\n",
      "INFO:retrieveData:Successfully fetched data for ISRG\n",
      "INFO:retrieveData:Successfully fetched data for IRM\n",
      "INFO:retrieveData:Successfully fetched data for IT\n",
      "INFO:retrieveData:Successfully fetched data for ITW\n",
      "INFO:retrieveData:Successfully fetched data for IDXX\n",
      "INFO:retrieveData:Successfully fetched data for JCI\n",
      "INFO:retrieveData:Successfully fetched data for JKHY\n",
      "INFO:retrieveData:Successfully fetched data for J\n",
      "INFO:retrieveData:Successfully fetched data for IVZ\n",
      "INFO:retrieveData:Successfully fetched data for JPM\n",
      "INFO:retrieveData:Successfully fetched data for JNPR\n",
      "INFO:retrieveData:Successfully fetched data for JBHT\n",
      "INFO:retrieveData:Successfully fetched data for INCY\n",
      "INFO:retrieveData:Successfully fetched data for K\n",
      "INFO:retrieveData:Successfully fetched data for KEYS\n",
      "INFO:retrieveData:Successfully fetched data for JNJ\n",
      "INFO:retrieveData:Successfully fetched data for KEY\n",
      "INFO:retrieveData:Successfully fetched data for KMB\n",
      "INFO:retrieveData:Successfully fetched data for KLAC\n",
      "INFO:retrieveData:Successfully fetched data for KMX\n",
      "INFO:retrieveData:Successfully fetched data for KO\n",
      "INFO:retrieveData:Successfully fetched data for KHC\n",
      "INFO:retrieveData:Successfully fetched data for KIM\n",
      "INFO:retrieveData:Successfully fetched data for LEN\n",
      "INFO:retrieveData:Successfully fetched data for KMI\n",
      "INFO:retrieveData:Successfully fetched data for LEG\n",
      "INFO:retrieveData:Successfully fetched data for LH\n",
      "INFO:retrieveData:Successfully fetched data for L\n",
      "INFO:retrieveData:Successfully fetched data for LHX\n",
      "INFO:retrieveData:Successfully fetched data for KR\n",
      "INFO:retrieveData:Successfully fetched data for LDOS\n",
      "INFO:retrieveData:Successfully fetched data for LIN\n",
      "INFO:retrieveData:Successfully fetched data for LKQ\n",
      "INFO:retrieveData:Successfully fetched data for LLY\n",
      "INFO:retrieveData:Successfully fetched data for LMT\n",
      "INFO:retrieveData:Successfully fetched data for LNC\n",
      "INFO:retrieveData:Successfully fetched data for LNT\n",
      "INFO:retrieveData:Successfully fetched data for LOW\n",
      "INFO:retrieveData:Successfully fetched data for LVS\n",
      "INFO:retrieveData:Successfully fetched data for LUMN\n",
      "INFO:retrieveData:Successfully fetched data for LW\n",
      "INFO:retrieveData:Successfully fetched data for LUV\n",
      "INFO:retrieveData:Successfully fetched data for LYB\n",
      "INFO:retrieveData:Successfully fetched data for LYV\n",
      "INFO:retrieveData:Successfully fetched data for KSU\n",
      "INFO:retrieveData:Successfully fetched data for MA\n",
      "INFO:retrieveData:Successfully fetched data for LRCX\n",
      "INFO:retrieveData:Successfully fetched data for MAR\n",
      "INFO:retrieveData:Successfully fetched data for MAS\n",
      "INFO:retrieveData:Successfully fetched data for MCD\n",
      "INFO:retrieveData:Successfully fetched data for MCK\n",
      "INFO:retrieveData:Successfully fetched data for MCHP\n",
      "INFO:retrieveData:Successfully fetched data for MDT\n",
      "INFO:retrieveData:Successfully fetched data for MDLZ\n",
      "INFO:retrieveData:Successfully fetched data for MCO\n",
      "INFO:retrieveData:Successfully fetched data for MHK\n",
      "INFO:retrieveData:Successfully fetched data for MET\n",
      "INFO:retrieveData:Successfully fetched data for MKC\n",
      "INFO:retrieveData:Successfully fetched data for MGM\n",
      "INFO:retrieveData:Successfully fetched data for MAA\n",
      "INFO:retrieveData:Successfully fetched data for MKTX\n",
      "INFO:retrieveData:Successfully fetched data for MLM\n",
      "INFO:retrieveData:Successfully fetched data for MMC\n",
      "INFO:retrieveData:Successfully fetched data for MNST\n",
      "INFO:retrieveData:Successfully fetched data for MMM\n",
      "INFO:retrieveData:Successfully fetched data for MO\n",
      "INFO:retrieveData:Successfully fetched data for MOS\n",
      "INFO:retrieveData:Successfully fetched data for MPWR\n",
      "INFO:retrieveData:Successfully fetched data for MRO\n",
      "INFO:retrieveData:Successfully fetched data for MS\n",
      "INFO:retrieveData:Successfully fetched data for MSCI\n",
      "INFO:retrieveData:Successfully fetched data for MSI\n",
      "INFO:retrieveData:Successfully fetched data for MTB\n",
      "INFO:retrieveData:Successfully fetched data for MRNA\n",
      "INFO:retrieveData:Successfully fetched data for MPC\n",
      "INFO:retrieveData:Successfully fetched data for MTCH\n",
      "INFO:retrieveData:Successfully fetched data for MRK\n",
      "INFO:retrieveData:Successfully fetched data for MTD\n",
      "INFO:retrieveData:Successfully fetched data for MU\n",
      "INFO:retrieveData:Successfully fetched data for NCLH\n",
      "INFO:retrieveData:Successfully fetched data for NDAQ\n",
      "INFO:retrieveData:Successfully fetched data for NEM\n",
      "INFO:retrieveData:Successfully fetched data for NFLX\n",
      "INFO:retrieveData:Successfully fetched data for NI\n",
      "INFO:retrieveData:Successfully fetched data for NKE\n",
      "INFO:retrieveData:Successfully fetched data for NOC\n",
      "INFO:retrieveData:Successfully fetched data for NLOK\n",
      "INFO:retrieveData:Successfully fetched data for NLSN\n",
      "INFO:retrieveData:Successfully fetched data for NRG\n",
      "INFO:retrieveData:Successfully fetched data for MSFT\n",
      "INFO:retrieveData:Successfully fetched data for NTAP\n",
      "INFO:retrieveData:Successfully fetched data for NSC\n",
      "INFO:retrieveData:Successfully fetched data for NTRS\n",
      "INFO:retrieveData:Successfully fetched data for NUE\n",
      "INFO:retrieveData:Successfully fetched data for NEE\n",
      "INFO:retrieveData:Successfully fetched data for NWL\n",
      "INFO:retrieveData:Successfully fetched data for NWS\n",
      "INFO:retrieveData:Successfully fetched data for NVDA\n",
      "INFO:retrieveData:Successfully fetched data for NOW\n",
      "INFO:retrieveData:Successfully fetched data for NWSA\n",
      "INFO:retrieveData:Successfully fetched data for O\n",
      "INFO:retrieveData:Successfully fetched data for OGN\n",
      "INFO:retrieveData:Successfully fetched data for NXPI\n",
      "INFO:retrieveData:Successfully fetched data for NVR\n",
      "INFO:retrieveData:Successfully fetched data for OMC\n",
      "INFO:retrieveData:Successfully fetched data for ORLY\n",
      "INFO:retrieveData:Successfully fetched data for OTIS\n",
      "INFO:retrieveData:Successfully fetched data for OKE\n",
      "ERROR:retrieveData:Unexpected error for PEAK: 'date'\n",
      "INFO:retrieveData:Successfully fetched data for ORCL\n",
      "INFO:retrieveData:Successfully fetched data for OXY\n",
      "INFO:retrieveData:Successfully fetched data for PAYC\n",
      "INFO:retrieveData:Successfully fetched data for PENN\n",
      "INFO:retrieveData:Successfully fetched data for PCAR\n",
      "INFO:retrieveData:Successfully fetched data for ODFL\n",
      "INFO:retrieveData:Successfully fetched data for PAYX\n",
      "INFO:retrieveData:Successfully fetched data for PEP\n",
      "INFO:retrieveData:Successfully fetched data for PFE\n",
      "INFO:retrieveData:Successfully fetched data for PBCT\n",
      "ERROR:retrieveData:Unexpected error for PKI: 'date'\n",
      "INFO:retrieveData:Successfully fetched data for PG\n",
      "INFO:retrieveData:Successfully fetched data for PEG\n",
      "INFO:retrieveData:Successfully fetched data for PGR\n",
      "INFO:retrieveData:Successfully fetched data for PH\n",
      "INFO:retrieveData:Successfully fetched data for PFG\n",
      "INFO:retrieveData:Successfully fetched data for PHM\n",
      "INFO:retrieveData:Successfully fetched data for PKG\n",
      "INFO:retrieveData:Successfully fetched data for PM\n",
      "INFO:retrieveData:Successfully fetched data for PNC\n",
      "INFO:retrieveData:Successfully fetched data for PNR\n",
      "INFO:retrieveData:Successfully fetched data for PNW\n",
      "INFO:retrieveData:Successfully fetched data for PPG\n",
      "INFO:retrieveData:Successfully fetched data for PPL\n",
      "INFO:retrieveData:Successfully fetched data for PLD\n",
      "INFO:retrieveData:Successfully fetched data for PRU\n",
      "INFO:retrieveData:Successfully fetched data for POOL\n",
      "INFO:retrieveData:Successfully fetched data for PSX\n",
      "INFO:retrieveData:Successfully fetched data for PWR\n",
      "ERROR:retrieveData:Unexpected error for RE: 'date'\n",
      "INFO:retrieveData:Successfully fetched data for PSA\n",
      "INFO:retrieveData:Successfully fetched data for PTC\n",
      "INFO:retrieveData:Successfully fetched data for PVH\n",
      "INFO:retrieveData:Successfully fetched data for QCOM\n",
      "INFO:retrieveData:Successfully fetched data for PXD\n",
      "INFO:retrieveData:Successfully fetched data for QRVO\n",
      "INFO:retrieveData:Successfully fetched data for REGN\n",
      "INFO:retrieveData:Successfully fetched data for PYPL\n",
      "INFO:retrieveData:Successfully fetched data for RCL\n",
      "INFO:retrieveData:Successfully fetched data for RF\n",
      "INFO:retrieveData:Successfully fetched data for RJF\n",
      "INFO:retrieveData:Successfully fetched data for RHI\n",
      "INFO:retrieveData:Successfully fetched data for RL\n",
      "INFO:retrieveData:Successfully fetched data for RMD\n",
      "INFO:retrieveData:Successfully fetched data for ROL\n",
      "INFO:retrieveData:Successfully fetched data for ROP\n",
      "INFO:retrieveData:Successfully fetched data for RTX\n",
      "INFO:retrieveData:Successfully fetched data for REG\n",
      "INFO:retrieveData:Successfully fetched data for ROST\n",
      "INFO:retrieveData:Successfully fetched data for SBUX\n",
      "INFO:retrieveData:Successfully fetched data for SBAC\n",
      "INFO:retrieveData:Successfully fetched data for ROK\n",
      "INFO:retrieveData:Successfully fetched data for SHW\n",
      "INFO:retrieveData:Successfully fetched data for RSG\n",
      "INFO:retrieveData:Successfully fetched data for SIVB\n",
      "INFO:retrieveData:Successfully fetched data for SJM\n",
      "INFO:retrieveData:Successfully fetched data for SEE\n",
      "INFO:retrieveData:Successfully fetched data for SLB\n",
      "INFO:retrieveData:Successfully fetched data for SNPS\n",
      "INFO:retrieveData:Successfully fetched data for SNA\n",
      "INFO:retrieveData:Successfully fetched data for SO\n",
      "INFO:retrieveData:Successfully fetched data for SPGI\n",
      "INFO:retrieveData:Successfully fetched data for SPG\n",
      "INFO:retrieveData:Successfully fetched data for STE\n",
      "INFO:retrieveData:Successfully fetched data for SRE\n",
      "INFO:retrieveData:Successfully fetched data for SWK\n",
      "INFO:retrieveData:Successfully fetched data for STX\n",
      "INFO:retrieveData:Successfully fetched data for STZ\n",
      "INFO:retrieveData:Successfully fetched data for SWKS\n",
      "INFO:retrieveData:Successfully fetched data for STT\n",
      "INFO:retrieveData:Successfully fetched data for SYF\n",
      "INFO:retrieveData:Successfully fetched data for SYK\n",
      "INFO:retrieveData:Successfully fetched data for TDY\n",
      "INFO:retrieveData:Successfully fetched data for T\n",
      "INFO:retrieveData:Successfully fetched data for TDG\n",
      "INFO:retrieveData:Successfully fetched data for TAP\n",
      "INFO:retrieveData:Successfully fetched data for TECH\n",
      "INFO:retrieveData:Successfully fetched data for TEL\n",
      "INFO:retrieveData:Successfully fetched data for SYY\n",
      "INFO:retrieveData:Successfully fetched data for TER\n",
      "INFO:retrieveData:Successfully fetched data for TFX\n",
      "INFO:retrieveData:Successfully fetched data for TFC\n",
      "INFO:retrieveData:Successfully fetched data for TGT\n",
      "INFO:retrieveData:Successfully fetched data for TMO\n",
      "INFO:retrieveData:Successfully fetched data for TJX\n",
      "INFO:retrieveData:Successfully fetched data for TMUS\n",
      "INFO:retrieveData:Successfully fetched data for TROW\n",
      "INFO:retrieveData:Successfully fetched data for TRV\n",
      "INFO:retrieveData:Successfully fetched data for TSCO\n",
      "INFO:retrieveData:Successfully fetched data for TSLA\n",
      "INFO:retrieveData:Successfully fetched data for TPR\n",
      "INFO:retrieveData:Successfully fetched data for TSN\n",
      "INFO:retrieveData:Successfully fetched data for TTWO\n",
      "INFO:retrieveData:Successfully fetched data for TRMB\n",
      "INFO:retrieveData:Successfully fetched data for TYL\n",
      "INFO:retrieveData:Successfully fetched data for SCHW\n",
      "INFO:retrieveData:Successfully fetched data for TXN\n",
      "INFO:retrieveData:Successfully fetched data for TXT\n",
      "INFO:retrieveData:Successfully fetched data for TWTR\n",
      "INFO:retrieveData:Successfully fetched data for TT\n",
      "INFO:retrieveData:Successfully fetched data for UA\n",
      "INFO:retrieveData:Successfully fetched data for UAL\n",
      "INFO:retrieveData:Successfully fetched data for UAA\n",
      "INFO:retrieveData:Successfully fetched data for ULTA\n",
      "INFO:retrieveData:Successfully fetched data for UHS\n",
      "INFO:retrieveData:Successfully fetched data for UNP\n",
      "INFO:retrieveData:Successfully fetched data for UPS\n",
      "INFO:retrieveData:Successfully fetched data for URI\n",
      "INFO:retrieveData:Successfully fetched data for V\n",
      "INFO:retrieveData:Successfully fetched data for USB\n",
      "INFO:retrieveData:Successfully fetched data for VFC\n",
      "INFO:retrieveData:Successfully fetched data for UNH\n",
      "INFO:retrieveData:Successfully fetched data for VIAC\n",
      "INFO:retrieveData:Successfully fetched data for VRTX\n",
      "INFO:retrieveData:Successfully fetched data for VNO\n",
      "INFO:retrieveData:Successfully fetched data for VRSK\n",
      "INFO:retrieveData:Successfully fetched data for VTR\n",
      "INFO:retrieveData:Successfully fetched data for VTRS\n",
      "INFO:retrieveData:Successfully fetched data for VMC\n",
      "INFO:retrieveData:Successfully fetched data for VZ\n",
      "INFO:retrieveData:Successfully fetched data for VRSN\n",
      "INFO:retrieveData:Successfully fetched data for WAT\n",
      "ERROR:retrieveData:Unexpected error for WLTW: 'date'\n",
      "INFO:retrieveData:Successfully fetched data for WDC\n",
      "INFO:retrieveData:Successfully fetched data for WBA\n",
      "INFO:retrieveData:Successfully fetched data for WEC\n",
      "INFO:retrieveData:Successfully fetched data for WAB\n",
      "INFO:retrieveData:Successfully fetched data for WELL\n",
      "INFO:retrieveData:Successfully fetched data for WFC\n",
      "INFO:retrieveData:Successfully fetched data for WHR\n",
      "INFO:retrieveData:Successfully fetched data for WM\n",
      "INFO:retrieveData:Successfully fetched data for WRK\n",
      "INFO:retrieveData:Successfully fetched data for WMB\n",
      "INFO:retrieveData:Successfully fetched data for WRB\n",
      "INFO:retrieveData:Successfully fetched data for WMT\n",
      "INFO:retrieveData:Successfully fetched data for VLO\n",
      "INFO:retrieveData:Successfully fetched data for WST\n",
      "INFO:retrieveData:Successfully fetched data for WU\n",
      "INFO:retrieveData:Successfully fetched data for WYNN\n",
      "INFO:retrieveData:Successfully fetched data for WY\n",
      "INFO:retrieveData:Successfully fetched data for XEL\n",
      "INFO:retrieveData:Successfully fetched data for XOM\n",
      "INFO:retrieveData:Successfully fetched data for XRAY\n",
      "INFO:retrieveData:Successfully fetched data for XLNX\n",
      "INFO:retrieveData:Successfully fetched data for XYL\n",
      "INFO:retrieveData:Successfully fetched data for YUM\n",
      "INFO:retrieveData:Successfully fetched data for ZBRA\n",
      "INFO:retrieveData:Successfully fetched data for ZBH\n",
      "INFO:retrieveData:Successfully fetched data for ZION\n",
      "INFO:retrieveData:Successfully fetched data for ZTS\n",
      "/Users/davidboktor/code/AI_Trading/retrieveData.py:104: PerformanceWarning: DataFrame is highly fragmented.  This is usually the result of calling `frame.insert` many times, which has poor performance.  Consider joining all columns at once using pd.concat(axis=1) instead. To get a de-fragmented frame, use `newframe = frame.copy()`\n",
      "  combined_df[ticker] = df['adjClose']\n",
      "/Users/davidboktor/code/AI_Trading/retrieveData.py:104: PerformanceWarning: DataFrame is highly fragmented.  This is usually the result of calling `frame.insert` many times, which has poor performance.  Consider joining all columns at once using pd.concat(axis=1) instead. To get a de-fragmented frame, use `newframe = frame.copy()`\n",
      "  combined_df[ticker] = df['adjClose']\n",
      "/Users/davidboktor/code/AI_Trading/retrieveData.py:104: PerformanceWarning: DataFrame is highly fragmented.  This is usually the result of calling `frame.insert` many times, which has poor performance.  Consider joining all columns at once using pd.concat(axis=1) instead. To get a de-fragmented frame, use `newframe = frame.copy()`\n",
      "  combined_df[ticker] = df['adjClose']\n",
      "/Users/davidboktor/code/AI_Trading/retrieveData.py:104: PerformanceWarning: DataFrame is highly fragmented.  This is usually the result of calling `frame.insert` many times, which has poor performance.  Consider joining all columns at once using pd.concat(axis=1) instead. To get a de-fragmented frame, use `newframe = frame.copy()`\n",
      "  combined_df[ticker] = df['adjClose']\n",
      "/Users/davidboktor/code/AI_Trading/retrieveData.py:104: PerformanceWarning: DataFrame is highly fragmented.  This is usually the result of calling `frame.insert` many times, which has poor performance.  Consider joining all columns at once using pd.concat(axis=1) instead. To get a de-fragmented frame, use `newframe = frame.copy()`\n",
      "  combined_df[ticker] = df['adjClose']\n",
      "/Users/davidboktor/code/AI_Trading/retrieveData.py:104: PerformanceWarning: DataFrame is highly fragmented.  This is usually the result of calling `frame.insert` many times, which has poor performance.  Consider joining all columns at once using pd.concat(axis=1) instead. To get a de-fragmented frame, use `newframe = frame.copy()`\n",
      "  combined_df[ticker] = df['adjClose']\n",
      "/Users/davidboktor/code/AI_Trading/retrieveData.py:104: PerformanceWarning: DataFrame is highly fragmented.  This is usually the result of calling `frame.insert` many times, which has poor performance.  Consider joining all columns at once using pd.concat(axis=1) instead. To get a de-fragmented frame, use `newframe = frame.copy()`\n",
      "  combined_df[ticker] = df['adjClose']\n",
      "/Users/davidboktor/code/AI_Trading/retrieveData.py:104: PerformanceWarning: DataFrame is highly fragmented.  This is usually the result of calling `frame.insert` many times, which has poor performance.  Consider joining all columns at once using pd.concat(axis=1) instead. To get a de-fragmented frame, use `newframe = frame.copy()`\n",
      "  combined_df[ticker] = df['adjClose']\n",
      "/Users/davidboktor/code/AI_Trading/retrieveData.py:104: PerformanceWarning: DataFrame is highly fragmented.  This is usually the result of calling `frame.insert` many times, which has poor performance.  Consider joining all columns at once using pd.concat(axis=1) instead. To get a de-fragmented frame, use `newframe = frame.copy()`\n",
      "  combined_df[ticker] = df['adjClose']\n",
      "/Users/davidboktor/code/AI_Trading/retrieveData.py:104: PerformanceWarning: DataFrame is highly fragmented.  This is usually the result of calling `frame.insert` many times, which has poor performance.  Consider joining all columns at once using pd.concat(axis=1) instead. To get a de-fragmented frame, use `newframe = frame.copy()`\n",
      "  combined_df[ticker] = df['adjClose']\n",
      "/Users/davidboktor/code/AI_Trading/retrieveData.py:104: PerformanceWarning: DataFrame is highly fragmented.  This is usually the result of calling `frame.insert` many times, which has poor performance.  Consider joining all columns at once using pd.concat(axis=1) instead. To get a de-fragmented frame, use `newframe = frame.copy()`\n",
      "  combined_df[ticker] = df['adjClose']\n",
      "/Users/davidboktor/code/AI_Trading/retrieveData.py:104: PerformanceWarning: DataFrame is highly fragmented.  This is usually the result of calling `frame.insert` many times, which has poor performance.  Consider joining all columns at once using pd.concat(axis=1) instead. To get a de-fragmented frame, use `newframe = frame.copy()`\n",
      "  combined_df[ticker] = df['adjClose']\n",
      "/Users/davidboktor/code/AI_Trading/retrieveData.py:104: PerformanceWarning: DataFrame is highly fragmented.  This is usually the result of calling `frame.insert` many times, which has poor performance.  Consider joining all columns at once using pd.concat(axis=1) instead. To get a de-fragmented frame, use `newframe = frame.copy()`\n",
      "  combined_df[ticker] = df['adjClose']\n",
      "/Users/davidboktor/code/AI_Trading/retrieveData.py:104: PerformanceWarning: DataFrame is highly fragmented.  This is usually the result of calling `frame.insert` many times, which has poor performance.  Consider joining all columns at once using pd.concat(axis=1) instead. To get a de-fragmented frame, use `newframe = frame.copy()`\n",
      "  combined_df[ticker] = df['adjClose']\n",
      "/Users/davidboktor/code/AI_Trading/retrieveData.py:104: PerformanceWarning: DataFrame is highly fragmented.  This is usually the result of calling `frame.insert` many times, which has poor performance.  Consider joining all columns at once using pd.concat(axis=1) instead. To get a de-fragmented frame, use `newframe = frame.copy()`\n",
      "  combined_df[ticker] = df['adjClose']\n",
      "/Users/davidboktor/code/AI_Trading/retrieveData.py:104: PerformanceWarning: DataFrame is highly fragmented.  This is usually the result of calling `frame.insert` many times, which has poor performance.  Consider joining all columns at once using pd.concat(axis=1) instead. To get a de-fragmented frame, use `newframe = frame.copy()`\n",
      "  combined_df[ticker] = df['adjClose']\n",
      "/Users/davidboktor/code/AI_Trading/retrieveData.py:104: PerformanceWarning: DataFrame is highly fragmented.  This is usually the result of calling `frame.insert` many times, which has poor performance.  Consider joining all columns at once using pd.concat(axis=1) instead. To get a de-fragmented frame, use `newframe = frame.copy()`\n",
      "  combined_df[ticker] = df['adjClose']\n",
      "/Users/davidboktor/code/AI_Trading/retrieveData.py:104: PerformanceWarning: DataFrame is highly fragmented.  This is usually the result of calling `frame.insert` many times, which has poor performance.  Consider joining all columns at once using pd.concat(axis=1) instead. To get a de-fragmented frame, use `newframe = frame.copy()`\n",
      "  combined_df[ticker] = df['adjClose']\n",
      "/Users/davidboktor/code/AI_Trading/retrieveData.py:104: PerformanceWarning: DataFrame is highly fragmented.  This is usually the result of calling `frame.insert` many times, which has poor performance.  Consider joining all columns at once using pd.concat(axis=1) instead. To get a de-fragmented frame, use `newframe = frame.copy()`\n",
      "  combined_df[ticker] = df['adjClose']\n",
      "/Users/davidboktor/code/AI_Trading/retrieveData.py:104: PerformanceWarning: DataFrame is highly fragmented.  This is usually the result of calling `frame.insert` many times, which has poor performance.  Consider joining all columns at once using pd.concat(axis=1) instead. To get a de-fragmented frame, use `newframe = frame.copy()`\n",
      "  combined_df[ticker] = df['adjClose']\n",
      "/Users/davidboktor/code/AI_Trading/retrieveData.py:104: PerformanceWarning: DataFrame is highly fragmented.  This is usually the result of calling `frame.insert` many times, which has poor performance.  Consider joining all columns at once using pd.concat(axis=1) instead. To get a de-fragmented frame, use `newframe = frame.copy()`\n",
      "  combined_df[ticker] = df['adjClose']\n",
      "/Users/davidboktor/code/AI_Trading/retrieveData.py:104: PerformanceWarning: DataFrame is highly fragmented.  This is usually the result of calling `frame.insert` many times, which has poor performance.  Consider joining all columns at once using pd.concat(axis=1) instead. To get a de-fragmented frame, use `newframe = frame.copy()`\n",
      "  combined_df[ticker] = df['adjClose']\n",
      "/Users/davidboktor/code/AI_Trading/retrieveData.py:104: PerformanceWarning: DataFrame is highly fragmented.  This is usually the result of calling `frame.insert` many times, which has poor performance.  Consider joining all columns at once using pd.concat(axis=1) instead. To get a de-fragmented frame, use `newframe = frame.copy()`\n",
      "  combined_df[ticker] = df['adjClose']\n",
      "/Users/davidboktor/code/AI_Trading/retrieveData.py:104: PerformanceWarning: DataFrame is highly fragmented.  This is usually the result of calling `frame.insert` many times, which has poor performance.  Consider joining all columns at once using pd.concat(axis=1) instead. To get a de-fragmented frame, use `newframe = frame.copy()`\n",
      "  combined_df[ticker] = df['adjClose']\n",
      "/Users/davidboktor/code/AI_Trading/retrieveData.py:104: PerformanceWarning: DataFrame is highly fragmented.  This is usually the result of calling `frame.insert` many times, which has poor performance.  Consider joining all columns at once using pd.concat(axis=1) instead. To get a de-fragmented frame, use `newframe = frame.copy()`\n",
      "  combined_df[ticker] = df['adjClose']\n",
      "/Users/davidboktor/code/AI_Trading/retrieveData.py:104: PerformanceWarning: DataFrame is highly fragmented.  This is usually the result of calling `frame.insert` many times, which has poor performance.  Consider joining all columns at once using pd.concat(axis=1) instead. To get a de-fragmented frame, use `newframe = frame.copy()`\n",
      "  combined_df[ticker] = df['adjClose']\n",
      "/Users/davidboktor/code/AI_Trading/retrieveData.py:104: PerformanceWarning: DataFrame is highly fragmented.  This is usually the result of calling `frame.insert` many times, which has poor performance.  Consider joining all columns at once using pd.concat(axis=1) instead. To get a de-fragmented frame, use `newframe = frame.copy()`\n",
      "  combined_df[ticker] = df['adjClose']\n",
      "/Users/davidboktor/code/AI_Trading/retrieveData.py:104: PerformanceWarning: DataFrame is highly fragmented.  This is usually the result of calling `frame.insert` many times, which has poor performance.  Consider joining all columns at once using pd.concat(axis=1) instead. To get a de-fragmented frame, use `newframe = frame.copy()`\n",
      "  combined_df[ticker] = df['adjClose']\n",
      "/Users/davidboktor/code/AI_Trading/retrieveData.py:104: PerformanceWarning: DataFrame is highly fragmented.  This is usually the result of calling `frame.insert` many times, which has poor performance.  Consider joining all columns at once using pd.concat(axis=1) instead. To get a de-fragmented frame, use `newframe = frame.copy()`\n",
      "  combined_df[ticker] = df['adjClose']\n",
      "/Users/davidboktor/code/AI_Trading/retrieveData.py:104: PerformanceWarning: DataFrame is highly fragmented.  This is usually the result of calling `frame.insert` many times, which has poor performance.  Consider joining all columns at once using pd.concat(axis=1) instead. To get a de-fragmented frame, use `newframe = frame.copy()`\n",
      "  combined_df[ticker] = df['adjClose']\n",
      "/Users/davidboktor/code/AI_Trading/retrieveData.py:104: PerformanceWarning: DataFrame is highly fragmented.  This is usually the result of calling `frame.insert` many times, which has poor performance.  Consider joining all columns at once using pd.concat(axis=1) instead. To get a de-fragmented frame, use `newframe = frame.copy()`\n",
      "  combined_df[ticker] = df['adjClose']\n",
      "/Users/davidboktor/code/AI_Trading/retrieveData.py:104: PerformanceWarning: DataFrame is highly fragmented.  This is usually the result of calling `frame.insert` many times, which has poor performance.  Consider joining all columns at once using pd.concat(axis=1) instead. To get a de-fragmented frame, use `newframe = frame.copy()`\n",
      "  combined_df[ticker] = df['adjClose']\n",
      "/Users/davidboktor/code/AI_Trading/retrieveData.py:104: PerformanceWarning: DataFrame is highly fragmented.  This is usually the result of calling `frame.insert` many times, which has poor performance.  Consider joining all columns at once using pd.concat(axis=1) instead. To get a de-fragmented frame, use `newframe = frame.copy()`\n",
      "  combined_df[ticker] = df['adjClose']\n",
      "/Users/davidboktor/code/AI_Trading/retrieveData.py:104: PerformanceWarning: DataFrame is highly fragmented.  This is usually the result of calling `frame.insert` many times, which has poor performance.  Consider joining all columns at once using pd.concat(axis=1) instead. To get a de-fragmented frame, use `newframe = frame.copy()`\n",
      "  combined_df[ticker] = df['adjClose']\n",
      "/Users/davidboktor/code/AI_Trading/retrieveData.py:104: PerformanceWarning: DataFrame is highly fragmented.  This is usually the result of calling `frame.insert` many times, which has poor performance.  Consider joining all columns at once using pd.concat(axis=1) instead. To get a de-fragmented frame, use `newframe = frame.copy()`\n",
      "  combined_df[ticker] = df['adjClose']\n",
      "/Users/davidboktor/code/AI_Trading/retrieveData.py:104: PerformanceWarning: DataFrame is highly fragmented.  This is usually the result of calling `frame.insert` many times, which has poor performance.  Consider joining all columns at once using pd.concat(axis=1) instead. To get a de-fragmented frame, use `newframe = frame.copy()`\n",
      "  combined_df[ticker] = df['adjClose']\n",
      "/Users/davidboktor/code/AI_Trading/retrieveData.py:104: PerformanceWarning: DataFrame is highly fragmented.  This is usually the result of calling `frame.insert` many times, which has poor performance.  Consider joining all columns at once using pd.concat(axis=1) instead. To get a de-fragmented frame, use `newframe = frame.copy()`\n",
      "  combined_df[ticker] = df['adjClose']\n",
      "/Users/davidboktor/code/AI_Trading/retrieveData.py:104: PerformanceWarning: DataFrame is highly fragmented.  This is usually the result of calling `frame.insert` many times, which has poor performance.  Consider joining all columns at once using pd.concat(axis=1) instead. To get a de-fragmented frame, use `newframe = frame.copy()`\n",
      "  combined_df[ticker] = df['adjClose']\n",
      "/Users/davidboktor/code/AI_Trading/retrieveData.py:104: PerformanceWarning: DataFrame is highly fragmented.  This is usually the result of calling `frame.insert` many times, which has poor performance.  Consider joining all columns at once using pd.concat(axis=1) instead. To get a de-fragmented frame, use `newframe = frame.copy()`\n",
      "  combined_df[ticker] = df['adjClose']\n",
      "/Users/davidboktor/code/AI_Trading/retrieveData.py:104: PerformanceWarning: DataFrame is highly fragmented.  This is usually the result of calling `frame.insert` many times, which has poor performance.  Consider joining all columns at once using pd.concat(axis=1) instead. To get a de-fragmented frame, use `newframe = frame.copy()`\n",
      "  combined_df[ticker] = df['adjClose']\n",
      "/Users/davidboktor/code/AI_Trading/retrieveData.py:104: PerformanceWarning: DataFrame is highly fragmented.  This is usually the result of calling `frame.insert` many times, which has poor performance.  Consider joining all columns at once using pd.concat(axis=1) instead. To get a de-fragmented frame, use `newframe = frame.copy()`\n",
      "  combined_df[ticker] = df['adjClose']\n",
      "/Users/davidboktor/code/AI_Trading/retrieveData.py:104: PerformanceWarning: DataFrame is highly fragmented.  This is usually the result of calling `frame.insert` many times, which has poor performance.  Consider joining all columns at once using pd.concat(axis=1) instead. To get a de-fragmented frame, use `newframe = frame.copy()`\n",
      "  combined_df[ticker] = df['adjClose']\n",
      "/Users/davidboktor/code/AI_Trading/retrieveData.py:104: PerformanceWarning: DataFrame is highly fragmented.  This is usually the result of calling `frame.insert` many times, which has poor performance.  Consider joining all columns at once using pd.concat(axis=1) instead. To get a de-fragmented frame, use `newframe = frame.copy()`\n",
      "  combined_df[ticker] = df['adjClose']\n",
      "/Users/davidboktor/code/AI_Trading/retrieveData.py:104: PerformanceWarning: DataFrame is highly fragmented.  This is usually the result of calling `frame.insert` many times, which has poor performance.  Consider joining all columns at once using pd.concat(axis=1) instead. To get a de-fragmented frame, use `newframe = frame.copy()`\n",
      "  combined_df[ticker] = df['adjClose']\n",
      "/Users/davidboktor/code/AI_Trading/retrieveData.py:104: PerformanceWarning: DataFrame is highly fragmented.  This is usually the result of calling `frame.insert` many times, which has poor performance.  Consider joining all columns at once using pd.concat(axis=1) instead. To get a de-fragmented frame, use `newframe = frame.copy()`\n",
      "  combined_df[ticker] = df['adjClose']\n",
      "/Users/davidboktor/code/AI_Trading/retrieveData.py:104: PerformanceWarning: DataFrame is highly fragmented.  This is usually the result of calling `frame.insert` many times, which has poor performance.  Consider joining all columns at once using pd.concat(axis=1) instead. To get a de-fragmented frame, use `newframe = frame.copy()`\n",
      "  combined_df[ticker] = df['adjClose']\n",
      "/Users/davidboktor/code/AI_Trading/retrieveData.py:104: PerformanceWarning: DataFrame is highly fragmented.  This is usually the result of calling `frame.insert` many times, which has poor performance.  Consider joining all columns at once using pd.concat(axis=1) instead. To get a de-fragmented frame, use `newframe = frame.copy()`\n",
      "  combined_df[ticker] = df['adjClose']\n",
      "/Users/davidboktor/code/AI_Trading/retrieveData.py:104: PerformanceWarning: DataFrame is highly fragmented.  This is usually the result of calling `frame.insert` many times, which has poor performance.  Consider joining all columns at once using pd.concat(axis=1) instead. To get a de-fragmented frame, use `newframe = frame.copy()`\n",
      "  combined_df[ticker] = df['adjClose']\n",
      "/Users/davidboktor/code/AI_Trading/retrieveData.py:104: PerformanceWarning: DataFrame is highly fragmented.  This is usually the result of calling `frame.insert` many times, which has poor performance.  Consider joining all columns at once using pd.concat(axis=1) instead. To get a de-fragmented frame, use `newframe = frame.copy()`\n",
      "  combined_df[ticker] = df['adjClose']\n",
      "/Users/davidboktor/code/AI_Trading/retrieveData.py:104: PerformanceWarning: DataFrame is highly fragmented.  This is usually the result of calling `frame.insert` many times, which has poor performance.  Consider joining all columns at once using pd.concat(axis=1) instead. To get a de-fragmented frame, use `newframe = frame.copy()`\n",
      "  combined_df[ticker] = df['adjClose']\n",
      "/Users/davidboktor/code/AI_Trading/retrieveData.py:104: PerformanceWarning: DataFrame is highly fragmented.  This is usually the result of calling `frame.insert` many times, which has poor performance.  Consider joining all columns at once using pd.concat(axis=1) instead. To get a de-fragmented frame, use `newframe = frame.copy()`\n",
      "  combined_df[ticker] = df['adjClose']\n",
      "/Users/davidboktor/code/AI_Trading/retrieveData.py:104: PerformanceWarning: DataFrame is highly fragmented.  This is usually the result of calling `frame.insert` many times, which has poor performance.  Consider joining all columns at once using pd.concat(axis=1) instead. To get a de-fragmented frame, use `newframe = frame.copy()`\n",
      "  combined_df[ticker] = df['adjClose']\n",
      "/Users/davidboktor/code/AI_Trading/retrieveData.py:104: PerformanceWarning: DataFrame is highly fragmented.  This is usually the result of calling `frame.insert` many times, which has poor performance.  Consider joining all columns at once using pd.concat(axis=1) instead. To get a de-fragmented frame, use `newframe = frame.copy()`\n",
      "  combined_df[ticker] = df['adjClose']\n",
      "/Users/davidboktor/code/AI_Trading/retrieveData.py:104: PerformanceWarning: DataFrame is highly fragmented.  This is usually the result of calling `frame.insert` many times, which has poor performance.  Consider joining all columns at once using pd.concat(axis=1) instead. To get a de-fragmented frame, use `newframe = frame.copy()`\n",
      "  combined_df[ticker] = df['adjClose']\n",
      "/Users/davidboktor/code/AI_Trading/retrieveData.py:104: PerformanceWarning: DataFrame is highly fragmented.  This is usually the result of calling `frame.insert` many times, which has poor performance.  Consider joining all columns at once using pd.concat(axis=1) instead. To get a de-fragmented frame, use `newframe = frame.copy()`\n",
      "  combined_df[ticker] = df['adjClose']\n",
      "/Users/davidboktor/code/AI_Trading/retrieveData.py:104: PerformanceWarning: DataFrame is highly fragmented.  This is usually the result of calling `frame.insert` many times, which has poor performance.  Consider joining all columns at once using pd.concat(axis=1) instead. To get a de-fragmented frame, use `newframe = frame.copy()`\n",
      "  combined_df[ticker] = df['adjClose']\n",
      "/Users/davidboktor/code/AI_Trading/retrieveData.py:104: PerformanceWarning: DataFrame is highly fragmented.  This is usually the result of calling `frame.insert` many times, which has poor performance.  Consider joining all columns at once using pd.concat(axis=1) instead. To get a de-fragmented frame, use `newframe = frame.copy()`\n",
      "  combined_df[ticker] = df['adjClose']\n",
      "/Users/davidboktor/code/AI_Trading/retrieveData.py:104: PerformanceWarning: DataFrame is highly fragmented.  This is usually the result of calling `frame.insert` many times, which has poor performance.  Consider joining all columns at once using pd.concat(axis=1) instead. To get a de-fragmented frame, use `newframe = frame.copy()`\n",
      "  combined_df[ticker] = df['adjClose']\n",
      "/Users/davidboktor/code/AI_Trading/retrieveData.py:104: PerformanceWarning: DataFrame is highly fragmented.  This is usually the result of calling `frame.insert` many times, which has poor performance.  Consider joining all columns at once using pd.concat(axis=1) instead. To get a de-fragmented frame, use `newframe = frame.copy()`\n",
      "  combined_df[ticker] = df['adjClose']\n",
      "/Users/davidboktor/code/AI_Trading/retrieveData.py:104: PerformanceWarning: DataFrame is highly fragmented.  This is usually the result of calling `frame.insert` many times, which has poor performance.  Consider joining all columns at once using pd.concat(axis=1) instead. To get a de-fragmented frame, use `newframe = frame.copy()`\n",
      "  combined_df[ticker] = df['adjClose']\n",
      "/Users/davidboktor/code/AI_Trading/retrieveData.py:104: PerformanceWarning: DataFrame is highly fragmented.  This is usually the result of calling `frame.insert` many times, which has poor performance.  Consider joining all columns at once using pd.concat(axis=1) instead. To get a de-fragmented frame, use `newframe = frame.copy()`\n",
      "  combined_df[ticker] = df['adjClose']\n",
      "/Users/davidboktor/code/AI_Trading/retrieveData.py:104: PerformanceWarning: DataFrame is highly fragmented.  This is usually the result of calling `frame.insert` many times, which has poor performance.  Consider joining all columns at once using pd.concat(axis=1) instead. To get a de-fragmented frame, use `newframe = frame.copy()`\n",
      "  combined_df[ticker] = df['adjClose']\n",
      "/Users/davidboktor/code/AI_Trading/retrieveData.py:104: PerformanceWarning: DataFrame is highly fragmented.  This is usually the result of calling `frame.insert` many times, which has poor performance.  Consider joining all columns at once using pd.concat(axis=1) instead. To get a de-fragmented frame, use `newframe = frame.copy()`\n",
      "  combined_df[ticker] = df['adjClose']\n",
      "/Users/davidboktor/code/AI_Trading/retrieveData.py:104: PerformanceWarning: DataFrame is highly fragmented.  This is usually the result of calling `frame.insert` many times, which has poor performance.  Consider joining all columns at once using pd.concat(axis=1) instead. To get a de-fragmented frame, use `newframe = frame.copy()`\n",
      "  combined_df[ticker] = df['adjClose']\n",
      "/Users/davidboktor/code/AI_Trading/retrieveData.py:104: PerformanceWarning: DataFrame is highly fragmented.  This is usually the result of calling `frame.insert` many times, which has poor performance.  Consider joining all columns at once using pd.concat(axis=1) instead. To get a de-fragmented frame, use `newframe = frame.copy()`\n",
      "  combined_df[ticker] = df['adjClose']\n",
      "/Users/davidboktor/code/AI_Trading/retrieveData.py:104: PerformanceWarning: DataFrame is highly fragmented.  This is usually the result of calling `frame.insert` many times, which has poor performance.  Consider joining all columns at once using pd.concat(axis=1) instead. To get a de-fragmented frame, use `newframe = frame.copy()`\n",
      "  combined_df[ticker] = df['adjClose']\n",
      "/Users/davidboktor/code/AI_Trading/retrieveData.py:104: PerformanceWarning: DataFrame is highly fragmented.  This is usually the result of calling `frame.insert` many times, which has poor performance.  Consider joining all columns at once using pd.concat(axis=1) instead. To get a de-fragmented frame, use `newframe = frame.copy()`\n",
      "  combined_df[ticker] = df['adjClose']\n",
      "/Users/davidboktor/code/AI_Trading/retrieveData.py:104: PerformanceWarning: DataFrame is highly fragmented.  This is usually the result of calling `frame.insert` many times, which has poor performance.  Consider joining all columns at once using pd.concat(axis=1) instead. To get a de-fragmented frame, use `newframe = frame.copy()`\n",
      "  combined_df[ticker] = df['adjClose']\n",
      "/Users/davidboktor/code/AI_Trading/retrieveData.py:104: PerformanceWarning: DataFrame is highly fragmented.  This is usually the result of calling `frame.insert` many times, which has poor performance.  Consider joining all columns at once using pd.concat(axis=1) instead. To get a de-fragmented frame, use `newframe = frame.copy()`\n",
      "  combined_df[ticker] = df['adjClose']\n",
      "/Users/davidboktor/code/AI_Trading/retrieveData.py:104: PerformanceWarning: DataFrame is highly fragmented.  This is usually the result of calling `frame.insert` many times, which has poor performance.  Consider joining all columns at once using pd.concat(axis=1) instead. To get a de-fragmented frame, use `newframe = frame.copy()`\n",
      "  combined_df[ticker] = df['adjClose']\n",
      "/Users/davidboktor/code/AI_Trading/retrieveData.py:104: PerformanceWarning: DataFrame is highly fragmented.  This is usually the result of calling `frame.insert` many times, which has poor performance.  Consider joining all columns at once using pd.concat(axis=1) instead. To get a de-fragmented frame, use `newframe = frame.copy()`\n",
      "  combined_df[ticker] = df['adjClose']\n",
      "/Users/davidboktor/code/AI_Trading/retrieveData.py:104: PerformanceWarning: DataFrame is highly fragmented.  This is usually the result of calling `frame.insert` many times, which has poor performance.  Consider joining all columns at once using pd.concat(axis=1) instead. To get a de-fragmented frame, use `newframe = frame.copy()`\n",
      "  combined_df[ticker] = df['adjClose']\n",
      "/Users/davidboktor/code/AI_Trading/retrieveData.py:104: PerformanceWarning: DataFrame is highly fragmented.  This is usually the result of calling `frame.insert` many times, which has poor performance.  Consider joining all columns at once using pd.concat(axis=1) instead. To get a de-fragmented frame, use `newframe = frame.copy()`\n",
      "  combined_df[ticker] = df['adjClose']\n",
      "/Users/davidboktor/code/AI_Trading/retrieveData.py:104: PerformanceWarning: DataFrame is highly fragmented.  This is usually the result of calling `frame.insert` many times, which has poor performance.  Consider joining all columns at once using pd.concat(axis=1) instead. To get a de-fragmented frame, use `newframe = frame.copy()`\n",
      "  combined_df[ticker] = df['adjClose']\n",
      "/Users/davidboktor/code/AI_Trading/retrieveData.py:104: PerformanceWarning: DataFrame is highly fragmented.  This is usually the result of calling `frame.insert` many times, which has poor performance.  Consider joining all columns at once using pd.concat(axis=1) instead. To get a de-fragmented frame, use `newframe = frame.copy()`\n",
      "  combined_df[ticker] = df['adjClose']\n",
      "/Users/davidboktor/code/AI_Trading/retrieveData.py:104: PerformanceWarning: DataFrame is highly fragmented.  This is usually the result of calling `frame.insert` many times, which has poor performance.  Consider joining all columns at once using pd.concat(axis=1) instead. To get a de-fragmented frame, use `newframe = frame.copy()`\n",
      "  combined_df[ticker] = df['adjClose']\n",
      "/Users/davidboktor/code/AI_Trading/retrieveData.py:104: PerformanceWarning: DataFrame is highly fragmented.  This is usually the result of calling `frame.insert` many times, which has poor performance.  Consider joining all columns at once using pd.concat(axis=1) instead. To get a de-fragmented frame, use `newframe = frame.copy()`\n",
      "  combined_df[ticker] = df['adjClose']\n",
      "/Users/davidboktor/code/AI_Trading/retrieveData.py:104: PerformanceWarning: DataFrame is highly fragmented.  This is usually the result of calling `frame.insert` many times, which has poor performance.  Consider joining all columns at once using pd.concat(axis=1) instead. To get a de-fragmented frame, use `newframe = frame.copy()`\n",
      "  combined_df[ticker] = df['adjClose']\n",
      "/Users/davidboktor/code/AI_Trading/retrieveData.py:104: PerformanceWarning: DataFrame is highly fragmented.  This is usually the result of calling `frame.insert` many times, which has poor performance.  Consider joining all columns at once using pd.concat(axis=1) instead. To get a de-fragmented frame, use `newframe = frame.copy()`\n",
      "  combined_df[ticker] = df['adjClose']\n",
      "/Users/davidboktor/code/AI_Trading/retrieveData.py:104: PerformanceWarning: DataFrame is highly fragmented.  This is usually the result of calling `frame.insert` many times, which has poor performance.  Consider joining all columns at once using pd.concat(axis=1) instead. To get a de-fragmented frame, use `newframe = frame.copy()`\n",
      "  combined_df[ticker] = df['adjClose']\n",
      "/Users/davidboktor/code/AI_Trading/retrieveData.py:104: PerformanceWarning: DataFrame is highly fragmented.  This is usually the result of calling `frame.insert` many times, which has poor performance.  Consider joining all columns at once using pd.concat(axis=1) instead. To get a de-fragmented frame, use `newframe = frame.copy()`\n",
      "  combined_df[ticker] = df['adjClose']\n",
      "/Users/davidboktor/code/AI_Trading/retrieveData.py:104: PerformanceWarning: DataFrame is highly fragmented.  This is usually the result of calling `frame.insert` many times, which has poor performance.  Consider joining all columns at once using pd.concat(axis=1) instead. To get a de-fragmented frame, use `newframe = frame.copy()`\n",
      "  combined_df[ticker] = df['adjClose']\n",
      "/Users/davidboktor/code/AI_Trading/retrieveData.py:104: PerformanceWarning: DataFrame is highly fragmented.  This is usually the result of calling `frame.insert` many times, which has poor performance.  Consider joining all columns at once using pd.concat(axis=1) instead. To get a de-fragmented frame, use `newframe = frame.copy()`\n",
      "  combined_df[ticker] = df['adjClose']\n",
      "/Users/davidboktor/code/AI_Trading/retrieveData.py:104: PerformanceWarning: DataFrame is highly fragmented.  This is usually the result of calling `frame.insert` many times, which has poor performance.  Consider joining all columns at once using pd.concat(axis=1) instead. To get a de-fragmented frame, use `newframe = frame.copy()`\n",
      "  combined_df[ticker] = df['adjClose']\n",
      "/Users/davidboktor/code/AI_Trading/retrieveData.py:104: PerformanceWarning: DataFrame is highly fragmented.  This is usually the result of calling `frame.insert` many times, which has poor performance.  Consider joining all columns at once using pd.concat(axis=1) instead. To get a de-fragmented frame, use `newframe = frame.copy()`\n",
      "  combined_df[ticker] = df['adjClose']\n",
      "/Users/davidboktor/code/AI_Trading/retrieveData.py:104: PerformanceWarning: DataFrame is highly fragmented.  This is usually the result of calling `frame.insert` many times, which has poor performance.  Consider joining all columns at once using pd.concat(axis=1) instead. To get a de-fragmented frame, use `newframe = frame.copy()`\n",
      "  combined_df[ticker] = df['adjClose']\n",
      "/Users/davidboktor/code/AI_Trading/retrieveData.py:104: PerformanceWarning: DataFrame is highly fragmented.  This is usually the result of calling `frame.insert` many times, which has poor performance.  Consider joining all columns at once using pd.concat(axis=1) instead. To get a de-fragmented frame, use `newframe = frame.copy()`\n",
      "  combined_df[ticker] = df['adjClose']\n",
      "/Users/davidboktor/code/AI_Trading/retrieveData.py:104: PerformanceWarning: DataFrame is highly fragmented.  This is usually the result of calling `frame.insert` many times, which has poor performance.  Consider joining all columns at once using pd.concat(axis=1) instead. To get a de-fragmented frame, use `newframe = frame.copy()`\n",
      "  combined_df[ticker] = df['adjClose']\n",
      "/Users/davidboktor/code/AI_Trading/retrieveData.py:104: PerformanceWarning: DataFrame is highly fragmented.  This is usually the result of calling `frame.insert` many times, which has poor performance.  Consider joining all columns at once using pd.concat(axis=1) instead. To get a de-fragmented frame, use `newframe = frame.copy()`\n",
      "  combined_df[ticker] = df['adjClose']\n",
      "/Users/davidboktor/code/AI_Trading/retrieveData.py:104: PerformanceWarning: DataFrame is highly fragmented.  This is usually the result of calling `frame.insert` many times, which has poor performance.  Consider joining all columns at once using pd.concat(axis=1) instead. To get a de-fragmented frame, use `newframe = frame.copy()`\n",
      "  combined_df[ticker] = df['adjClose']\n",
      "/Users/davidboktor/code/AI_Trading/retrieveData.py:104: PerformanceWarning: DataFrame is highly fragmented.  This is usually the result of calling `frame.insert` many times, which has poor performance.  Consider joining all columns at once using pd.concat(axis=1) instead. To get a de-fragmented frame, use `newframe = frame.copy()`\n",
      "  combined_df[ticker] = df['adjClose']\n",
      "/Users/davidboktor/code/AI_Trading/retrieveData.py:104: PerformanceWarning: DataFrame is highly fragmented.  This is usually the result of calling `frame.insert` many times, which has poor performance.  Consider joining all columns at once using pd.concat(axis=1) instead. To get a de-fragmented frame, use `newframe = frame.copy()`\n",
      "  combined_df[ticker] = df['adjClose']\n",
      "/Users/davidboktor/code/AI_Trading/retrieveData.py:104: PerformanceWarning: DataFrame is highly fragmented.  This is usually the result of calling `frame.insert` many times, which has poor performance.  Consider joining all columns at once using pd.concat(axis=1) instead. To get a de-fragmented frame, use `newframe = frame.copy()`\n",
      "  combined_df[ticker] = df['adjClose']\n",
      "/Users/davidboktor/code/AI_Trading/retrieveData.py:104: PerformanceWarning: DataFrame is highly fragmented.  This is usually the result of calling `frame.insert` many times, which has poor performance.  Consider joining all columns at once using pd.concat(axis=1) instead. To get a de-fragmented frame, use `newframe = frame.copy()`\n",
      "  combined_df[ticker] = df['adjClose']\n",
      "/Users/davidboktor/code/AI_Trading/retrieveData.py:104: PerformanceWarning: DataFrame is highly fragmented.  This is usually the result of calling `frame.insert` many times, which has poor performance.  Consider joining all columns at once using pd.concat(axis=1) instead. To get a de-fragmented frame, use `newframe = frame.copy()`\n",
      "  combined_df[ticker] = df['adjClose']\n",
      "/Users/davidboktor/code/AI_Trading/retrieveData.py:104: PerformanceWarning: DataFrame is highly fragmented.  This is usually the result of calling `frame.insert` many times, which has poor performance.  Consider joining all columns at once using pd.concat(axis=1) instead. To get a de-fragmented frame, use `newframe = frame.copy()`\n",
      "  combined_df[ticker] = df['adjClose']\n",
      "/Users/davidboktor/code/AI_Trading/retrieveData.py:104: PerformanceWarning: DataFrame is highly fragmented.  This is usually the result of calling `frame.insert` many times, which has poor performance.  Consider joining all columns at once using pd.concat(axis=1) instead. To get a de-fragmented frame, use `newframe = frame.copy()`\n",
      "  combined_df[ticker] = df['adjClose']\n",
      "/Users/davidboktor/code/AI_Trading/retrieveData.py:104: PerformanceWarning: DataFrame is highly fragmented.  This is usually the result of calling `frame.insert` many times, which has poor performance.  Consider joining all columns at once using pd.concat(axis=1) instead. To get a de-fragmented frame, use `newframe = frame.copy()`\n",
      "  combined_df[ticker] = df['adjClose']\n",
      "/Users/davidboktor/code/AI_Trading/retrieveData.py:104: PerformanceWarning: DataFrame is highly fragmented.  This is usually the result of calling `frame.insert` many times, which has poor performance.  Consider joining all columns at once using pd.concat(axis=1) instead. To get a de-fragmented frame, use `newframe = frame.copy()`\n",
      "  combined_df[ticker] = df['adjClose']\n",
      "/Users/davidboktor/code/AI_Trading/retrieveData.py:104: PerformanceWarning: DataFrame is highly fragmented.  This is usually the result of calling `frame.insert` many times, which has poor performance.  Consider joining all columns at once using pd.concat(axis=1) instead. To get a de-fragmented frame, use `newframe = frame.copy()`\n",
      "  combined_df[ticker] = df['adjClose']\n",
      "/Users/davidboktor/code/AI_Trading/retrieveData.py:104: PerformanceWarning: DataFrame is highly fragmented.  This is usually the result of calling `frame.insert` many times, which has poor performance.  Consider joining all columns at once using pd.concat(axis=1) instead. To get a de-fragmented frame, use `newframe = frame.copy()`\n",
      "  combined_df[ticker] = df['adjClose']\n",
      "/Users/davidboktor/code/AI_Trading/retrieveData.py:104: PerformanceWarning: DataFrame is highly fragmented.  This is usually the result of calling `frame.insert` many times, which has poor performance.  Consider joining all columns at once using pd.concat(axis=1) instead. To get a de-fragmented frame, use `newframe = frame.copy()`\n",
      "  combined_df[ticker] = df['adjClose']\n",
      "/Users/davidboktor/code/AI_Trading/retrieveData.py:104: PerformanceWarning: DataFrame is highly fragmented.  This is usually the result of calling `frame.insert` many times, which has poor performance.  Consider joining all columns at once using pd.concat(axis=1) instead. To get a de-fragmented frame, use `newframe = frame.copy()`\n",
      "  combined_df[ticker] = df['adjClose']\n",
      "/Users/davidboktor/code/AI_Trading/retrieveData.py:104: PerformanceWarning: DataFrame is highly fragmented.  This is usually the result of calling `frame.insert` many times, which has poor performance.  Consider joining all columns at once using pd.concat(axis=1) instead. To get a de-fragmented frame, use `newframe = frame.copy()`\n",
      "  combined_df[ticker] = df['adjClose']\n",
      "/Users/davidboktor/code/AI_Trading/retrieveData.py:104: PerformanceWarning: DataFrame is highly fragmented.  This is usually the result of calling `frame.insert` many times, which has poor performance.  Consider joining all columns at once using pd.concat(axis=1) instead. To get a de-fragmented frame, use `newframe = frame.copy()`\n",
      "  combined_df[ticker] = df['adjClose']\n",
      "/Users/davidboktor/code/AI_Trading/retrieveData.py:104: PerformanceWarning: DataFrame is highly fragmented.  This is usually the result of calling `frame.insert` many times, which has poor performance.  Consider joining all columns at once using pd.concat(axis=1) instead. To get a de-fragmented frame, use `newframe = frame.copy()`\n",
      "  combined_df[ticker] = df['adjClose']\n",
      "/Users/davidboktor/code/AI_Trading/retrieveData.py:104: PerformanceWarning: DataFrame is highly fragmented.  This is usually the result of calling `frame.insert` many times, which has poor performance.  Consider joining all columns at once using pd.concat(axis=1) instead. To get a de-fragmented frame, use `newframe = frame.copy()`\n",
      "  combined_df[ticker] = df['adjClose']\n",
      "/Users/davidboktor/code/AI_Trading/retrieveData.py:104: PerformanceWarning: DataFrame is highly fragmented.  This is usually the result of calling `frame.insert` many times, which has poor performance.  Consider joining all columns at once using pd.concat(axis=1) instead. To get a de-fragmented frame, use `newframe = frame.copy()`\n",
      "  combined_df[ticker] = df['adjClose']\n",
      "/Users/davidboktor/code/AI_Trading/retrieveData.py:104: PerformanceWarning: DataFrame is highly fragmented.  This is usually the result of calling `frame.insert` many times, which has poor performance.  Consider joining all columns at once using pd.concat(axis=1) instead. To get a de-fragmented frame, use `newframe = frame.copy()`\n",
      "  combined_df[ticker] = df['adjClose']\n",
      "/Users/davidboktor/code/AI_Trading/retrieveData.py:104: PerformanceWarning: DataFrame is highly fragmented.  This is usually the result of calling `frame.insert` many times, which has poor performance.  Consider joining all columns at once using pd.concat(axis=1) instead. To get a de-fragmented frame, use `newframe = frame.copy()`\n",
      "  combined_df[ticker] = df['adjClose']\n",
      "/Users/davidboktor/code/AI_Trading/retrieveData.py:104: PerformanceWarning: DataFrame is highly fragmented.  This is usually the result of calling `frame.insert` many times, which has poor performance.  Consider joining all columns at once using pd.concat(axis=1) instead. To get a de-fragmented frame, use `newframe = frame.copy()`\n",
      "  combined_df[ticker] = df['adjClose']\n",
      "/Users/davidboktor/code/AI_Trading/retrieveData.py:104: PerformanceWarning: DataFrame is highly fragmented.  This is usually the result of calling `frame.insert` many times, which has poor performance.  Consider joining all columns at once using pd.concat(axis=1) instead. To get a de-fragmented frame, use `newframe = frame.copy()`\n",
      "  combined_df[ticker] = df['adjClose']\n",
      "/Users/davidboktor/code/AI_Trading/retrieveData.py:104: PerformanceWarning: DataFrame is highly fragmented.  This is usually the result of calling `frame.insert` many times, which has poor performance.  Consider joining all columns at once using pd.concat(axis=1) instead. To get a de-fragmented frame, use `newframe = frame.copy()`\n",
      "  combined_df[ticker] = df['adjClose']\n",
      "/Users/davidboktor/code/AI_Trading/retrieveData.py:104: PerformanceWarning: DataFrame is highly fragmented.  This is usually the result of calling `frame.insert` many times, which has poor performance.  Consider joining all columns at once using pd.concat(axis=1) instead. To get a de-fragmented frame, use `newframe = frame.copy()`\n",
      "  combined_df[ticker] = df['adjClose']\n",
      "/Users/davidboktor/code/AI_Trading/retrieveData.py:104: PerformanceWarning: DataFrame is highly fragmented.  This is usually the result of calling `frame.insert` many times, which has poor performance.  Consider joining all columns at once using pd.concat(axis=1) instead. To get a de-fragmented frame, use `newframe = frame.copy()`\n",
      "  combined_df[ticker] = df['adjClose']\n",
      "/Users/davidboktor/code/AI_Trading/retrieveData.py:104: PerformanceWarning: DataFrame is highly fragmented.  This is usually the result of calling `frame.insert` many times, which has poor performance.  Consider joining all columns at once using pd.concat(axis=1) instead. To get a de-fragmented frame, use `newframe = frame.copy()`\n",
      "  combined_df[ticker] = df['adjClose']\n",
      "/Users/davidboktor/code/AI_Trading/retrieveData.py:104: PerformanceWarning: DataFrame is highly fragmented.  This is usually the result of calling `frame.insert` many times, which has poor performance.  Consider joining all columns at once using pd.concat(axis=1) instead. To get a de-fragmented frame, use `newframe = frame.copy()`\n",
      "  combined_df[ticker] = df['adjClose']\n",
      "/Users/davidboktor/code/AI_Trading/retrieveData.py:104: PerformanceWarning: DataFrame is highly fragmented.  This is usually the result of calling `frame.insert` many times, which has poor performance.  Consider joining all columns at once using pd.concat(axis=1) instead. To get a de-fragmented frame, use `newframe = frame.copy()`\n",
      "  combined_df[ticker] = df['adjClose']\n",
      "/Users/davidboktor/code/AI_Trading/retrieveData.py:104: PerformanceWarning: DataFrame is highly fragmented.  This is usually the result of calling `frame.insert` many times, which has poor performance.  Consider joining all columns at once using pd.concat(axis=1) instead. To get a de-fragmented frame, use `newframe = frame.copy()`\n",
      "  combined_df[ticker] = df['adjClose']\n",
      "/Users/davidboktor/code/AI_Trading/retrieveData.py:104: PerformanceWarning: DataFrame is highly fragmented.  This is usually the result of calling `frame.insert` many times, which has poor performance.  Consider joining all columns at once using pd.concat(axis=1) instead. To get a de-fragmented frame, use `newframe = frame.copy()`\n",
      "  combined_df[ticker] = df['adjClose']\n",
      "/Users/davidboktor/code/AI_Trading/retrieveData.py:104: PerformanceWarning: DataFrame is highly fragmented.  This is usually the result of calling `frame.insert` many times, which has poor performance.  Consider joining all columns at once using pd.concat(axis=1) instead. To get a de-fragmented frame, use `newframe = frame.copy()`\n",
      "  combined_df[ticker] = df['adjClose']\n",
      "/Users/davidboktor/code/AI_Trading/retrieveData.py:104: PerformanceWarning: DataFrame is highly fragmented.  This is usually the result of calling `frame.insert` many times, which has poor performance.  Consider joining all columns at once using pd.concat(axis=1) instead. To get a de-fragmented frame, use `newframe = frame.copy()`\n",
      "  combined_df[ticker] = df['adjClose']\n",
      "/Users/davidboktor/code/AI_Trading/retrieveData.py:104: PerformanceWarning: DataFrame is highly fragmented.  This is usually the result of calling `frame.insert` many times, which has poor performance.  Consider joining all columns at once using pd.concat(axis=1) instead. To get a de-fragmented frame, use `newframe = frame.copy()`\n",
      "  combined_df[ticker] = df['adjClose']\n",
      "/Users/davidboktor/code/AI_Trading/retrieveData.py:104: PerformanceWarning: DataFrame is highly fragmented.  This is usually the result of calling `frame.insert` many times, which has poor performance.  Consider joining all columns at once using pd.concat(axis=1) instead. To get a de-fragmented frame, use `newframe = frame.copy()`\n",
      "  combined_df[ticker] = df['adjClose']\n",
      "/Users/davidboktor/code/AI_Trading/retrieveData.py:104: PerformanceWarning: DataFrame is highly fragmented.  This is usually the result of calling `frame.insert` many times, which has poor performance.  Consider joining all columns at once using pd.concat(axis=1) instead. To get a de-fragmented frame, use `newframe = frame.copy()`\n",
      "  combined_df[ticker] = df['adjClose']\n",
      "/Users/davidboktor/code/AI_Trading/retrieveData.py:104: PerformanceWarning: DataFrame is highly fragmented.  This is usually the result of calling `frame.insert` many times, which has poor performance.  Consider joining all columns at once using pd.concat(axis=1) instead. To get a de-fragmented frame, use `newframe = frame.copy()`\n",
      "  combined_df[ticker] = df['adjClose']\n",
      "/Users/davidboktor/code/AI_Trading/retrieveData.py:104: PerformanceWarning: DataFrame is highly fragmented.  This is usually the result of calling `frame.insert` many times, which has poor performance.  Consider joining all columns at once using pd.concat(axis=1) instead. To get a de-fragmented frame, use `newframe = frame.copy()`\n",
      "  combined_df[ticker] = df['adjClose']\n",
      "/Users/davidboktor/code/AI_Trading/retrieveData.py:104: PerformanceWarning: DataFrame is highly fragmented.  This is usually the result of calling `frame.insert` many times, which has poor performance.  Consider joining all columns at once using pd.concat(axis=1) instead. To get a de-fragmented frame, use `newframe = frame.copy()`\n",
      "  combined_df[ticker] = df['adjClose']\n",
      "/Users/davidboktor/code/AI_Trading/retrieveData.py:104: PerformanceWarning: DataFrame is highly fragmented.  This is usually the result of calling `frame.insert` many times, which has poor performance.  Consider joining all columns at once using pd.concat(axis=1) instead. To get a de-fragmented frame, use `newframe = frame.copy()`\n",
      "  combined_df[ticker] = df['adjClose']\n",
      "/Users/davidboktor/code/AI_Trading/retrieveData.py:104: PerformanceWarning: DataFrame is highly fragmented.  This is usually the result of calling `frame.insert` many times, which has poor performance.  Consider joining all columns at once using pd.concat(axis=1) instead. To get a de-fragmented frame, use `newframe = frame.copy()`\n",
      "  combined_df[ticker] = df['adjClose']\n",
      "/Users/davidboktor/code/AI_Trading/retrieveData.py:104: PerformanceWarning: DataFrame is highly fragmented.  This is usually the result of calling `frame.insert` many times, which has poor performance.  Consider joining all columns at once using pd.concat(axis=1) instead. To get a de-fragmented frame, use `newframe = frame.copy()`\n",
      "  combined_df[ticker] = df['adjClose']\n",
      "/Users/davidboktor/code/AI_Trading/retrieveData.py:104: PerformanceWarning: DataFrame is highly fragmented.  This is usually the result of calling `frame.insert` many times, which has poor performance.  Consider joining all columns at once using pd.concat(axis=1) instead. To get a de-fragmented frame, use `newframe = frame.copy()`\n",
      "  combined_df[ticker] = df['adjClose']\n",
      "/Users/davidboktor/code/AI_Trading/retrieveData.py:104: PerformanceWarning: DataFrame is highly fragmented.  This is usually the result of calling `frame.insert` many times, which has poor performance.  Consider joining all columns at once using pd.concat(axis=1) instead. To get a de-fragmented frame, use `newframe = frame.copy()`\n",
      "  combined_df[ticker] = df['adjClose']\n",
      "/Users/davidboktor/code/AI_Trading/retrieveData.py:104: PerformanceWarning: DataFrame is highly fragmented.  This is usually the result of calling `frame.insert` many times, which has poor performance.  Consider joining all columns at once using pd.concat(axis=1) instead. To get a de-fragmented frame, use `newframe = frame.copy()`\n",
      "  combined_df[ticker] = df['adjClose']\n",
      "/Users/davidboktor/code/AI_Trading/retrieveData.py:104: PerformanceWarning: DataFrame is highly fragmented.  This is usually the result of calling `frame.insert` many times, which has poor performance.  Consider joining all columns at once using pd.concat(axis=1) instead. To get a de-fragmented frame, use `newframe = frame.copy()`\n",
      "  combined_df[ticker] = df['adjClose']\n",
      "/Users/davidboktor/code/AI_Trading/retrieveData.py:104: PerformanceWarning: DataFrame is highly fragmented.  This is usually the result of calling `frame.insert` many times, which has poor performance.  Consider joining all columns at once using pd.concat(axis=1) instead. To get a de-fragmented frame, use `newframe = frame.copy()`\n",
      "  combined_df[ticker] = df['adjClose']\n",
      "/Users/davidboktor/code/AI_Trading/retrieveData.py:104: PerformanceWarning: DataFrame is highly fragmented.  This is usually the result of calling `frame.insert` many times, which has poor performance.  Consider joining all columns at once using pd.concat(axis=1) instead. To get a de-fragmented frame, use `newframe = frame.copy()`\n",
      "  combined_df[ticker] = df['adjClose']\n",
      "/Users/davidboktor/code/AI_Trading/retrieveData.py:104: PerformanceWarning: DataFrame is highly fragmented.  This is usually the result of calling `frame.insert` many times, which has poor performance.  Consider joining all columns at once using pd.concat(axis=1) instead. To get a de-fragmented frame, use `newframe = frame.copy()`\n",
      "  combined_df[ticker] = df['adjClose']\n",
      "/Users/davidboktor/code/AI_Trading/retrieveData.py:104: PerformanceWarning: DataFrame is highly fragmented.  This is usually the result of calling `frame.insert` many times, which has poor performance.  Consider joining all columns at once using pd.concat(axis=1) instead. To get a de-fragmented frame, use `newframe = frame.copy()`\n",
      "  combined_df[ticker] = df['adjClose']\n",
      "/Users/davidboktor/code/AI_Trading/retrieveData.py:104: PerformanceWarning: DataFrame is highly fragmented.  This is usually the result of calling `frame.insert` many times, which has poor performance.  Consider joining all columns at once using pd.concat(axis=1) instead. To get a de-fragmented frame, use `newframe = frame.copy()`\n",
      "  combined_df[ticker] = df['adjClose']\n",
      "/Users/davidboktor/code/AI_Trading/retrieveData.py:104: PerformanceWarning: DataFrame is highly fragmented.  This is usually the result of calling `frame.insert` many times, which has poor performance.  Consider joining all columns at once using pd.concat(axis=1) instead. To get a de-fragmented frame, use `newframe = frame.copy()`\n",
      "  combined_df[ticker] = df['adjClose']\n",
      "/Users/davidboktor/code/AI_Trading/retrieveData.py:104: PerformanceWarning: DataFrame is highly fragmented.  This is usually the result of calling `frame.insert` many times, which has poor performance.  Consider joining all columns at once using pd.concat(axis=1) instead. To get a de-fragmented frame, use `newframe = frame.copy()`\n",
      "  combined_df[ticker] = df['adjClose']\n",
      "/Users/davidboktor/code/AI_Trading/retrieveData.py:104: PerformanceWarning: DataFrame is highly fragmented.  This is usually the result of calling `frame.insert` many times, which has poor performance.  Consider joining all columns at once using pd.concat(axis=1) instead. To get a de-fragmented frame, use `newframe = frame.copy()`\n",
      "  combined_df[ticker] = df['adjClose']\n",
      "/Users/davidboktor/code/AI_Trading/retrieveData.py:104: PerformanceWarning: DataFrame is highly fragmented.  This is usually the result of calling `frame.insert` many times, which has poor performance.  Consider joining all columns at once using pd.concat(axis=1) instead. To get a de-fragmented frame, use `newframe = frame.copy()`\n",
      "  combined_df[ticker] = df['adjClose']\n",
      "/Users/davidboktor/code/AI_Trading/retrieveData.py:104: PerformanceWarning: DataFrame is highly fragmented.  This is usually the result of calling `frame.insert` many times, which has poor performance.  Consider joining all columns at once using pd.concat(axis=1) instead. To get a de-fragmented frame, use `newframe = frame.copy()`\n",
      "  combined_df[ticker] = df['adjClose']\n",
      "/Users/davidboktor/code/AI_Trading/retrieveData.py:104: PerformanceWarning: DataFrame is highly fragmented.  This is usually the result of calling `frame.insert` many times, which has poor performance.  Consider joining all columns at once using pd.concat(axis=1) instead. To get a de-fragmented frame, use `newframe = frame.copy()`\n",
      "  combined_df[ticker] = df['adjClose']\n",
      "/Users/davidboktor/code/AI_Trading/retrieveData.py:104: PerformanceWarning: DataFrame is highly fragmented.  This is usually the result of calling `frame.insert` many times, which has poor performance.  Consider joining all columns at once using pd.concat(axis=1) instead. To get a de-fragmented frame, use `newframe = frame.copy()`\n",
      "  combined_df[ticker] = df['adjClose']\n",
      "/Users/davidboktor/code/AI_Trading/retrieveData.py:104: PerformanceWarning: DataFrame is highly fragmented.  This is usually the result of calling `frame.insert` many times, which has poor performance.  Consider joining all columns at once using pd.concat(axis=1) instead. To get a de-fragmented frame, use `newframe = frame.copy()`\n",
      "  combined_df[ticker] = df['adjClose']\n",
      "/Users/davidboktor/code/AI_Trading/retrieveData.py:104: PerformanceWarning: DataFrame is highly fragmented.  This is usually the result of calling `frame.insert` many times, which has poor performance.  Consider joining all columns at once using pd.concat(axis=1) instead. To get a de-fragmented frame, use `newframe = frame.copy()`\n",
      "  combined_df[ticker] = df['adjClose']\n",
      "/Users/davidboktor/code/AI_Trading/retrieveData.py:104: PerformanceWarning: DataFrame is highly fragmented.  This is usually the result of calling `frame.insert` many times, which has poor performance.  Consider joining all columns at once using pd.concat(axis=1) instead. To get a de-fragmented frame, use `newframe = frame.copy()`\n",
      "  combined_df[ticker] = df['adjClose']\n",
      "/Users/davidboktor/code/AI_Trading/retrieveData.py:104: PerformanceWarning: DataFrame is highly fragmented.  This is usually the result of calling `frame.insert` many times, which has poor performance.  Consider joining all columns at once using pd.concat(axis=1) instead. To get a de-fragmented frame, use `newframe = frame.copy()`\n",
      "  combined_df[ticker] = df['adjClose']\n",
      "/Users/davidboktor/code/AI_Trading/retrieveData.py:104: PerformanceWarning: DataFrame is highly fragmented.  This is usually the result of calling `frame.insert` many times, which has poor performance.  Consider joining all columns at once using pd.concat(axis=1) instead. To get a de-fragmented frame, use `newframe = frame.copy()`\n",
      "  combined_df[ticker] = df['adjClose']\n",
      "/Users/davidboktor/code/AI_Trading/retrieveData.py:104: PerformanceWarning: DataFrame is highly fragmented.  This is usually the result of calling `frame.insert` many times, which has poor performance.  Consider joining all columns at once using pd.concat(axis=1) instead. To get a de-fragmented frame, use `newframe = frame.copy()`\n",
      "  combined_df[ticker] = df['adjClose']\n",
      "/Users/davidboktor/code/AI_Trading/retrieveData.py:104: PerformanceWarning: DataFrame is highly fragmented.  This is usually the result of calling `frame.insert` many times, which has poor performance.  Consider joining all columns at once using pd.concat(axis=1) instead. To get a de-fragmented frame, use `newframe = frame.copy()`\n",
      "  combined_df[ticker] = df['adjClose']\n",
      "/Users/davidboktor/code/AI_Trading/retrieveData.py:104: PerformanceWarning: DataFrame is highly fragmented.  This is usually the result of calling `frame.insert` many times, which has poor performance.  Consider joining all columns at once using pd.concat(axis=1) instead. To get a de-fragmented frame, use `newframe = frame.copy()`\n",
      "  combined_df[ticker] = df['adjClose']\n",
      "/Users/davidboktor/code/AI_Trading/retrieveData.py:104: PerformanceWarning: DataFrame is highly fragmented.  This is usually the result of calling `frame.insert` many times, which has poor performance.  Consider joining all columns at once using pd.concat(axis=1) instead. To get a de-fragmented frame, use `newframe = frame.copy()`\n",
      "  combined_df[ticker] = df['adjClose']\n",
      "/Users/davidboktor/code/AI_Trading/retrieveData.py:104: PerformanceWarning: DataFrame is highly fragmented.  This is usually the result of calling `frame.insert` many times, which has poor performance.  Consider joining all columns at once using pd.concat(axis=1) instead. To get a de-fragmented frame, use `newframe = frame.copy()`\n",
      "  combined_df[ticker] = df['adjClose']\n",
      "/Users/davidboktor/code/AI_Trading/retrieveData.py:104: PerformanceWarning: DataFrame is highly fragmented.  This is usually the result of calling `frame.insert` many times, which has poor performance.  Consider joining all columns at once using pd.concat(axis=1) instead. To get a de-fragmented frame, use `newframe = frame.copy()`\n",
      "  combined_df[ticker] = df['adjClose']\n",
      "/Users/davidboktor/code/AI_Trading/retrieveData.py:104: PerformanceWarning: DataFrame is highly fragmented.  This is usually the result of calling `frame.insert` many times, which has poor performance.  Consider joining all columns at once using pd.concat(axis=1) instead. To get a de-fragmented frame, use `newframe = frame.copy()`\n",
      "  combined_df[ticker] = df['adjClose']\n",
      "/Users/davidboktor/code/AI_Trading/retrieveData.py:104: PerformanceWarning: DataFrame is highly fragmented.  This is usually the result of calling `frame.insert` many times, which has poor performance.  Consider joining all columns at once using pd.concat(axis=1) instead. To get a de-fragmented frame, use `newframe = frame.copy()`\n",
      "  combined_df[ticker] = df['adjClose']\n",
      "/Users/davidboktor/code/AI_Trading/retrieveData.py:104: PerformanceWarning: DataFrame is highly fragmented.  This is usually the result of calling `frame.insert` many times, which has poor performance.  Consider joining all columns at once using pd.concat(axis=1) instead. To get a de-fragmented frame, use `newframe = frame.copy()`\n",
      "  combined_df[ticker] = df['adjClose']\n",
      "/Users/davidboktor/code/AI_Trading/retrieveData.py:104: PerformanceWarning: DataFrame is highly fragmented.  This is usually the result of calling `frame.insert` many times, which has poor performance.  Consider joining all columns at once using pd.concat(axis=1) instead. To get a de-fragmented frame, use `newframe = frame.copy()`\n",
      "  combined_df[ticker] = df['adjClose']\n",
      "/Users/davidboktor/code/AI_Trading/retrieveData.py:104: PerformanceWarning: DataFrame is highly fragmented.  This is usually the result of calling `frame.insert` many times, which has poor performance.  Consider joining all columns at once using pd.concat(axis=1) instead. To get a de-fragmented frame, use `newframe = frame.copy()`\n",
      "  combined_df[ticker] = df['adjClose']\n",
      "/Users/davidboktor/code/AI_Trading/retrieveData.py:104: PerformanceWarning: DataFrame is highly fragmented.  This is usually the result of calling `frame.insert` many times, which has poor performance.  Consider joining all columns at once using pd.concat(axis=1) instead. To get a de-fragmented frame, use `newframe = frame.copy()`\n",
      "  combined_df[ticker] = df['adjClose']\n",
      "/Users/davidboktor/code/AI_Trading/retrieveData.py:104: PerformanceWarning: DataFrame is highly fragmented.  This is usually the result of calling `frame.insert` many times, which has poor performance.  Consider joining all columns at once using pd.concat(axis=1) instead. To get a de-fragmented frame, use `newframe = frame.copy()`\n",
      "  combined_df[ticker] = df['adjClose']\n",
      "/Users/davidboktor/code/AI_Trading/retrieveData.py:104: PerformanceWarning: DataFrame is highly fragmented.  This is usually the result of calling `frame.insert` many times, which has poor performance.  Consider joining all columns at once using pd.concat(axis=1) instead. To get a de-fragmented frame, use `newframe = frame.copy()`\n",
      "  combined_df[ticker] = df['adjClose']\n",
      "/Users/davidboktor/code/AI_Trading/retrieveData.py:104: PerformanceWarning: DataFrame is highly fragmented.  This is usually the result of calling `frame.insert` many times, which has poor performance.  Consider joining all columns at once using pd.concat(axis=1) instead. To get a de-fragmented frame, use `newframe = frame.copy()`\n",
      "  combined_df[ticker] = df['adjClose']\n",
      "/Users/davidboktor/code/AI_Trading/retrieveData.py:104: PerformanceWarning: DataFrame is highly fragmented.  This is usually the result of calling `frame.insert` many times, which has poor performance.  Consider joining all columns at once using pd.concat(axis=1) instead. To get a de-fragmented frame, use `newframe = frame.copy()`\n",
      "  combined_df[ticker] = df['adjClose']\n",
      "/Users/davidboktor/code/AI_Trading/retrieveData.py:104: PerformanceWarning: DataFrame is highly fragmented.  This is usually the result of calling `frame.insert` many times, which has poor performance.  Consider joining all columns at once using pd.concat(axis=1) instead. To get a de-fragmented frame, use `newframe = frame.copy()`\n",
      "  combined_df[ticker] = df['adjClose']\n",
      "/Users/davidboktor/code/AI_Trading/retrieveData.py:104: PerformanceWarning: DataFrame is highly fragmented.  This is usually the result of calling `frame.insert` many times, which has poor performance.  Consider joining all columns at once using pd.concat(axis=1) instead. To get a de-fragmented frame, use `newframe = frame.copy()`\n",
      "  combined_df[ticker] = df['adjClose']\n",
      "/Users/davidboktor/code/AI_Trading/retrieveData.py:104: PerformanceWarning: DataFrame is highly fragmented.  This is usually the result of calling `frame.insert` many times, which has poor performance.  Consider joining all columns at once using pd.concat(axis=1) instead. To get a de-fragmented frame, use `newframe = frame.copy()`\n",
      "  combined_df[ticker] = df['adjClose']\n",
      "/Users/davidboktor/code/AI_Trading/retrieveData.py:104: PerformanceWarning: DataFrame is highly fragmented.  This is usually the result of calling `frame.insert` many times, which has poor performance.  Consider joining all columns at once using pd.concat(axis=1) instead. To get a de-fragmented frame, use `newframe = frame.copy()`\n",
      "  combined_df[ticker] = df['adjClose']\n",
      "/Users/davidboktor/code/AI_Trading/retrieveData.py:104: PerformanceWarning: DataFrame is highly fragmented.  This is usually the result of calling `frame.insert` many times, which has poor performance.  Consider joining all columns at once using pd.concat(axis=1) instead. To get a de-fragmented frame, use `newframe = frame.copy()`\n",
      "  combined_df[ticker] = df['adjClose']\n",
      "/Users/davidboktor/code/AI_Trading/retrieveData.py:104: PerformanceWarning: DataFrame is highly fragmented.  This is usually the result of calling `frame.insert` many times, which has poor performance.  Consider joining all columns at once using pd.concat(axis=1) instead. To get a de-fragmented frame, use `newframe = frame.copy()`\n",
      "  combined_df[ticker] = df['adjClose']\n",
      "/Users/davidboktor/code/AI_Trading/retrieveData.py:104: PerformanceWarning: DataFrame is highly fragmented.  This is usually the result of calling `frame.insert` many times, which has poor performance.  Consider joining all columns at once using pd.concat(axis=1) instead. To get a de-fragmented frame, use `newframe = frame.copy()`\n",
      "  combined_df[ticker] = df['adjClose']\n",
      "/Users/davidboktor/code/AI_Trading/retrieveData.py:104: PerformanceWarning: DataFrame is highly fragmented.  This is usually the result of calling `frame.insert` many times, which has poor performance.  Consider joining all columns at once using pd.concat(axis=1) instead. To get a de-fragmented frame, use `newframe = frame.copy()`\n",
      "  combined_df[ticker] = df['adjClose']\n",
      "/Users/davidboktor/code/AI_Trading/retrieveData.py:104: PerformanceWarning: DataFrame is highly fragmented.  This is usually the result of calling `frame.insert` many times, which has poor performance.  Consider joining all columns at once using pd.concat(axis=1) instead. To get a de-fragmented frame, use `newframe = frame.copy()`\n",
      "  combined_df[ticker] = df['adjClose']\n",
      "/Users/davidboktor/code/AI_Trading/retrieveData.py:104: PerformanceWarning: DataFrame is highly fragmented.  This is usually the result of calling `frame.insert` many times, which has poor performance.  Consider joining all columns at once using pd.concat(axis=1) instead. To get a de-fragmented frame, use `newframe = frame.copy()`\n",
      "  combined_df[ticker] = df['adjClose']\n",
      "/Users/davidboktor/code/AI_Trading/retrieveData.py:104: PerformanceWarning: DataFrame is highly fragmented.  This is usually the result of calling `frame.insert` many times, which has poor performance.  Consider joining all columns at once using pd.concat(axis=1) instead. To get a de-fragmented frame, use `newframe = frame.copy()`\n",
      "  combined_df[ticker] = df['adjClose']\n",
      "/Users/davidboktor/code/AI_Trading/retrieveData.py:104: PerformanceWarning: DataFrame is highly fragmented.  This is usually the result of calling `frame.insert` many times, which has poor performance.  Consider joining all columns at once using pd.concat(axis=1) instead. To get a de-fragmented frame, use `newframe = frame.copy()`\n",
      "  combined_df[ticker] = df['adjClose']\n",
      "/Users/davidboktor/code/AI_Trading/retrieveData.py:104: PerformanceWarning: DataFrame is highly fragmented.  This is usually the result of calling `frame.insert` many times, which has poor performance.  Consider joining all columns at once using pd.concat(axis=1) instead. To get a de-fragmented frame, use `newframe = frame.copy()`\n",
      "  combined_df[ticker] = df['adjClose']\n",
      "/Users/davidboktor/code/AI_Trading/retrieveData.py:104: PerformanceWarning: DataFrame is highly fragmented.  This is usually the result of calling `frame.insert` many times, which has poor performance.  Consider joining all columns at once using pd.concat(axis=1) instead. To get a de-fragmented frame, use `newframe = frame.copy()`\n",
      "  combined_df[ticker] = df['adjClose']\n",
      "/Users/davidboktor/code/AI_Trading/retrieveData.py:104: PerformanceWarning: DataFrame is highly fragmented.  This is usually the result of calling `frame.insert` many times, which has poor performance.  Consider joining all columns at once using pd.concat(axis=1) instead. To get a de-fragmented frame, use `newframe = frame.copy()`\n",
      "  combined_df[ticker] = df['adjClose']\n",
      "/Users/davidboktor/code/AI_Trading/retrieveData.py:104: PerformanceWarning: DataFrame is highly fragmented.  This is usually the result of calling `frame.insert` many times, which has poor performance.  Consider joining all columns at once using pd.concat(axis=1) instead. To get a de-fragmented frame, use `newframe = frame.copy()`\n",
      "  combined_df[ticker] = df['adjClose']\n",
      "/Users/davidboktor/code/AI_Trading/retrieveData.py:104: PerformanceWarning: DataFrame is highly fragmented.  This is usually the result of calling `frame.insert` many times, which has poor performance.  Consider joining all columns at once using pd.concat(axis=1) instead. To get a de-fragmented frame, use `newframe = frame.copy()`\n",
      "  combined_df[ticker] = df['adjClose']\n",
      "/Users/davidboktor/code/AI_Trading/retrieveData.py:104: PerformanceWarning: DataFrame is highly fragmented.  This is usually the result of calling `frame.insert` many times, which has poor performance.  Consider joining all columns at once using pd.concat(axis=1) instead. To get a de-fragmented frame, use `newframe = frame.copy()`\n",
      "  combined_df[ticker] = df['adjClose']\n",
      "/Users/davidboktor/code/AI_Trading/retrieveData.py:104: PerformanceWarning: DataFrame is highly fragmented.  This is usually the result of calling `frame.insert` many times, which has poor performance.  Consider joining all columns at once using pd.concat(axis=1) instead. To get a de-fragmented frame, use `newframe = frame.copy()`\n",
      "  combined_df[ticker] = df['adjClose']\n",
      "/Users/davidboktor/code/AI_Trading/retrieveData.py:104: PerformanceWarning: DataFrame is highly fragmented.  This is usually the result of calling `frame.insert` many times, which has poor performance.  Consider joining all columns at once using pd.concat(axis=1) instead. To get a de-fragmented frame, use `newframe = frame.copy()`\n",
      "  combined_df[ticker] = df['adjClose']\n",
      "/Users/davidboktor/code/AI_Trading/retrieveData.py:104: PerformanceWarning: DataFrame is highly fragmented.  This is usually the result of calling `frame.insert` many times, which has poor performance.  Consider joining all columns at once using pd.concat(axis=1) instead. To get a de-fragmented frame, use `newframe = frame.copy()`\n",
      "  combined_df[ticker] = df['adjClose']\n",
      "/Users/davidboktor/code/AI_Trading/retrieveData.py:104: PerformanceWarning: DataFrame is highly fragmented.  This is usually the result of calling `frame.insert` many times, which has poor performance.  Consider joining all columns at once using pd.concat(axis=1) instead. To get a de-fragmented frame, use `newframe = frame.copy()`\n",
      "  combined_df[ticker] = df['adjClose']\n",
      "/Users/davidboktor/code/AI_Trading/retrieveData.py:104: PerformanceWarning: DataFrame is highly fragmented.  This is usually the result of calling `frame.insert` many times, which has poor performance.  Consider joining all columns at once using pd.concat(axis=1) instead. To get a de-fragmented frame, use `newframe = frame.copy()`\n",
      "  combined_df[ticker] = df['adjClose']\n",
      "/Users/davidboktor/code/AI_Trading/retrieveData.py:104: PerformanceWarning: DataFrame is highly fragmented.  This is usually the result of calling `frame.insert` many times, which has poor performance.  Consider joining all columns at once using pd.concat(axis=1) instead. To get a de-fragmented frame, use `newframe = frame.copy()`\n",
      "  combined_df[ticker] = df['adjClose']\n",
      "/Users/davidboktor/code/AI_Trading/retrieveData.py:104: PerformanceWarning: DataFrame is highly fragmented.  This is usually the result of calling `frame.insert` many times, which has poor performance.  Consider joining all columns at once using pd.concat(axis=1) instead. To get a de-fragmented frame, use `newframe = frame.copy()`\n",
      "  combined_df[ticker] = df['adjClose']\n",
      "/Users/davidboktor/code/AI_Trading/retrieveData.py:104: PerformanceWarning: DataFrame is highly fragmented.  This is usually the result of calling `frame.insert` many times, which has poor performance.  Consider joining all columns at once using pd.concat(axis=1) instead. To get a de-fragmented frame, use `newframe = frame.copy()`\n",
      "  combined_df[ticker] = df['adjClose']\n",
      "/Users/davidboktor/code/AI_Trading/retrieveData.py:104: PerformanceWarning: DataFrame is highly fragmented.  This is usually the result of calling `frame.insert` many times, which has poor performance.  Consider joining all columns at once using pd.concat(axis=1) instead. To get a de-fragmented frame, use `newframe = frame.copy()`\n",
      "  combined_df[ticker] = df['adjClose']\n",
      "/Users/davidboktor/code/AI_Trading/retrieveData.py:104: PerformanceWarning: DataFrame is highly fragmented.  This is usually the result of calling `frame.insert` many times, which has poor performance.  Consider joining all columns at once using pd.concat(axis=1) instead. To get a de-fragmented frame, use `newframe = frame.copy()`\n",
      "  combined_df[ticker] = df['adjClose']\n",
      "/Users/davidboktor/code/AI_Trading/retrieveData.py:104: PerformanceWarning: DataFrame is highly fragmented.  This is usually the result of calling `frame.insert` many times, which has poor performance.  Consider joining all columns at once using pd.concat(axis=1) instead. To get a de-fragmented frame, use `newframe = frame.copy()`\n",
      "  combined_df[ticker] = df['adjClose']\n",
      "/Users/davidboktor/code/AI_Trading/retrieveData.py:104: PerformanceWarning: DataFrame is highly fragmented.  This is usually the result of calling `frame.insert` many times, which has poor performance.  Consider joining all columns at once using pd.concat(axis=1) instead. To get a de-fragmented frame, use `newframe = frame.copy()`\n",
      "  combined_df[ticker] = df['adjClose']\n",
      "/Users/davidboktor/code/AI_Trading/retrieveData.py:104: PerformanceWarning: DataFrame is highly fragmented.  This is usually the result of calling `frame.insert` many times, which has poor performance.  Consider joining all columns at once using pd.concat(axis=1) instead. To get a de-fragmented frame, use `newframe = frame.copy()`\n",
      "  combined_df[ticker] = df['adjClose']\n",
      "/Users/davidboktor/code/AI_Trading/retrieveData.py:104: PerformanceWarning: DataFrame is highly fragmented.  This is usually the result of calling `frame.insert` many times, which has poor performance.  Consider joining all columns at once using pd.concat(axis=1) instead. To get a de-fragmented frame, use `newframe = frame.copy()`\n",
      "  combined_df[ticker] = df['adjClose']\n",
      "/Users/davidboktor/code/AI_Trading/retrieveData.py:104: PerformanceWarning: DataFrame is highly fragmented.  This is usually the result of calling `frame.insert` many times, which has poor performance.  Consider joining all columns at once using pd.concat(axis=1) instead. To get a de-fragmented frame, use `newframe = frame.copy()`\n",
      "  combined_df[ticker] = df['adjClose']\n",
      "/Users/davidboktor/code/AI_Trading/retrieveData.py:104: PerformanceWarning: DataFrame is highly fragmented.  This is usually the result of calling `frame.insert` many times, which has poor performance.  Consider joining all columns at once using pd.concat(axis=1) instead. To get a de-fragmented frame, use `newframe = frame.copy()`\n",
      "  combined_df[ticker] = df['adjClose']\n",
      "/Users/davidboktor/code/AI_Trading/retrieveData.py:104: PerformanceWarning: DataFrame is highly fragmented.  This is usually the result of calling `frame.insert` many times, which has poor performance.  Consider joining all columns at once using pd.concat(axis=1) instead. To get a de-fragmented frame, use `newframe = frame.copy()`\n",
      "  combined_df[ticker] = df['adjClose']\n",
      "/Users/davidboktor/code/AI_Trading/retrieveData.py:104: PerformanceWarning: DataFrame is highly fragmented.  This is usually the result of calling `frame.insert` many times, which has poor performance.  Consider joining all columns at once using pd.concat(axis=1) instead. To get a de-fragmented frame, use `newframe = frame.copy()`\n",
      "  combined_df[ticker] = df['adjClose']\n",
      "/Users/davidboktor/code/AI_Trading/retrieveData.py:104: PerformanceWarning: DataFrame is highly fragmented.  This is usually the result of calling `frame.insert` many times, which has poor performance.  Consider joining all columns at once using pd.concat(axis=1) instead. To get a de-fragmented frame, use `newframe = frame.copy()`\n",
      "  combined_df[ticker] = df['adjClose']\n",
      "/Users/davidboktor/code/AI_Trading/retrieveData.py:104: PerformanceWarning: DataFrame is highly fragmented.  This is usually the result of calling `frame.insert` many times, which has poor performance.  Consider joining all columns at once using pd.concat(axis=1) instead. To get a de-fragmented frame, use `newframe = frame.copy()`\n",
      "  combined_df[ticker] = df['adjClose']\n",
      "/Users/davidboktor/code/AI_Trading/retrieveData.py:104: PerformanceWarning: DataFrame is highly fragmented.  This is usually the result of calling `frame.insert` many times, which has poor performance.  Consider joining all columns at once using pd.concat(axis=1) instead. To get a de-fragmented frame, use `newframe = frame.copy()`\n",
      "  combined_df[ticker] = df['adjClose']\n",
      "/Users/davidboktor/code/AI_Trading/retrieveData.py:104: PerformanceWarning: DataFrame is highly fragmented.  This is usually the result of calling `frame.insert` many times, which has poor performance.  Consider joining all columns at once using pd.concat(axis=1) instead. To get a de-fragmented frame, use `newframe = frame.copy()`\n",
      "  combined_df[ticker] = df['adjClose']\n",
      "/Users/davidboktor/code/AI_Trading/retrieveData.py:104: PerformanceWarning: DataFrame is highly fragmented.  This is usually the result of calling `frame.insert` many times, which has poor performance.  Consider joining all columns at once using pd.concat(axis=1) instead. To get a de-fragmented frame, use `newframe = frame.copy()`\n",
      "  combined_df[ticker] = df['adjClose']\n",
      "/Users/davidboktor/code/AI_Trading/retrieveData.py:104: PerformanceWarning: DataFrame is highly fragmented.  This is usually the result of calling `frame.insert` many times, which has poor performance.  Consider joining all columns at once using pd.concat(axis=1) instead. To get a de-fragmented frame, use `newframe = frame.copy()`\n",
      "  combined_df[ticker] = df['adjClose']\n",
      "/Users/davidboktor/code/AI_Trading/retrieveData.py:104: PerformanceWarning: DataFrame is highly fragmented.  This is usually the result of calling `frame.insert` many times, which has poor performance.  Consider joining all columns at once using pd.concat(axis=1) instead. To get a de-fragmented frame, use `newframe = frame.copy()`\n",
      "  combined_df[ticker] = df['adjClose']\n",
      "/Users/davidboktor/code/AI_Trading/retrieveData.py:104: PerformanceWarning: DataFrame is highly fragmented.  This is usually the result of calling `frame.insert` many times, which has poor performance.  Consider joining all columns at once using pd.concat(axis=1) instead. To get a de-fragmented frame, use `newframe = frame.copy()`\n",
      "  combined_df[ticker] = df['adjClose']\n",
      "/Users/davidboktor/code/AI_Trading/retrieveData.py:104: PerformanceWarning: DataFrame is highly fragmented.  This is usually the result of calling `frame.insert` many times, which has poor performance.  Consider joining all columns at once using pd.concat(axis=1) instead. To get a de-fragmented frame, use `newframe = frame.copy()`\n",
      "  combined_df[ticker] = df['adjClose']\n",
      "/Users/davidboktor/code/AI_Trading/retrieveData.py:104: PerformanceWarning: DataFrame is highly fragmented.  This is usually the result of calling `frame.insert` many times, which has poor performance.  Consider joining all columns at once using pd.concat(axis=1) instead. To get a de-fragmented frame, use `newframe = frame.copy()`\n",
      "  combined_df[ticker] = df['adjClose']\n",
      "/Users/davidboktor/code/AI_Trading/retrieveData.py:104: PerformanceWarning: DataFrame is highly fragmented.  This is usually the result of calling `frame.insert` many times, which has poor performance.  Consider joining all columns at once using pd.concat(axis=1) instead. To get a de-fragmented frame, use `newframe = frame.copy()`\n",
      "  combined_df[ticker] = df['adjClose']\n",
      "/Users/davidboktor/code/AI_Trading/retrieveData.py:104: PerformanceWarning: DataFrame is highly fragmented.  This is usually the result of calling `frame.insert` many times, which has poor performance.  Consider joining all columns at once using pd.concat(axis=1) instead. To get a de-fragmented frame, use `newframe = frame.copy()`\n",
      "  combined_df[ticker] = df['adjClose']\n",
      "/Users/davidboktor/code/AI_Trading/retrieveData.py:104: PerformanceWarning: DataFrame is highly fragmented.  This is usually the result of calling `frame.insert` many times, which has poor performance.  Consider joining all columns at once using pd.concat(axis=1) instead. To get a de-fragmented frame, use `newframe = frame.copy()`\n",
      "  combined_df[ticker] = df['adjClose']\n",
      "/Users/davidboktor/code/AI_Trading/retrieveData.py:104: PerformanceWarning: DataFrame is highly fragmented.  This is usually the result of calling `frame.insert` many times, which has poor performance.  Consider joining all columns at once using pd.concat(axis=1) instead. To get a de-fragmented frame, use `newframe = frame.copy()`\n",
      "  combined_df[ticker] = df['adjClose']\n",
      "/Users/davidboktor/code/AI_Trading/retrieveData.py:104: PerformanceWarning: DataFrame is highly fragmented.  This is usually the result of calling `frame.insert` many times, which has poor performance.  Consider joining all columns at once using pd.concat(axis=1) instead. To get a de-fragmented frame, use `newframe = frame.copy()`\n",
      "  combined_df[ticker] = df['adjClose']\n",
      "/Users/davidboktor/code/AI_Trading/retrieveData.py:104: PerformanceWarning: DataFrame is highly fragmented.  This is usually the result of calling `frame.insert` many times, which has poor performance.  Consider joining all columns at once using pd.concat(axis=1) instead. To get a de-fragmented frame, use `newframe = frame.copy()`\n",
      "  combined_df[ticker] = df['adjClose']\n",
      "/Users/davidboktor/code/AI_Trading/retrieveData.py:104: PerformanceWarning: DataFrame is highly fragmented.  This is usually the result of calling `frame.insert` many times, which has poor performance.  Consider joining all columns at once using pd.concat(axis=1) instead. To get a de-fragmented frame, use `newframe = frame.copy()`\n",
      "  combined_df[ticker] = df['adjClose']\n",
      "/Users/davidboktor/code/AI_Trading/retrieveData.py:104: PerformanceWarning: DataFrame is highly fragmented.  This is usually the result of calling `frame.insert` many times, which has poor performance.  Consider joining all columns at once using pd.concat(axis=1) instead. To get a de-fragmented frame, use `newframe = frame.copy()`\n",
      "  combined_df[ticker] = df['adjClose']\n",
      "/Users/davidboktor/code/AI_Trading/retrieveData.py:104: PerformanceWarning: DataFrame is highly fragmented.  This is usually the result of calling `frame.insert` many times, which has poor performance.  Consider joining all columns at once using pd.concat(axis=1) instead. To get a de-fragmented frame, use `newframe = frame.copy()`\n",
      "  combined_df[ticker] = df['adjClose']\n",
      "/Users/davidboktor/code/AI_Trading/retrieveData.py:104: PerformanceWarning: DataFrame is highly fragmented.  This is usually the result of calling `frame.insert` many times, which has poor performance.  Consider joining all columns at once using pd.concat(axis=1) instead. To get a de-fragmented frame, use `newframe = frame.copy()`\n",
      "  combined_df[ticker] = df['adjClose']\n",
      "/Users/davidboktor/code/AI_Trading/retrieveData.py:104: PerformanceWarning: DataFrame is highly fragmented.  This is usually the result of calling `frame.insert` many times, which has poor performance.  Consider joining all columns at once using pd.concat(axis=1) instead. To get a de-fragmented frame, use `newframe = frame.copy()`\n",
      "  combined_df[ticker] = df['adjClose']\n",
      "/Users/davidboktor/code/AI_Trading/retrieveData.py:104: PerformanceWarning: DataFrame is highly fragmented.  This is usually the result of calling `frame.insert` many times, which has poor performance.  Consider joining all columns at once using pd.concat(axis=1) instead. To get a de-fragmented frame, use `newframe = frame.copy()`\n",
      "  combined_df[ticker] = df['adjClose']\n",
      "/Users/davidboktor/code/AI_Trading/retrieveData.py:104: PerformanceWarning: DataFrame is highly fragmented.  This is usually the result of calling `frame.insert` many times, which has poor performance.  Consider joining all columns at once using pd.concat(axis=1) instead. To get a de-fragmented frame, use `newframe = frame.copy()`\n",
      "  combined_df[ticker] = df['adjClose']\n",
      "/Users/davidboktor/code/AI_Trading/retrieveData.py:104: PerformanceWarning: DataFrame is highly fragmented.  This is usually the result of calling `frame.insert` many times, which has poor performance.  Consider joining all columns at once using pd.concat(axis=1) instead. To get a de-fragmented frame, use `newframe = frame.copy()`\n",
      "  combined_df[ticker] = df['adjClose']\n",
      "/Users/davidboktor/code/AI_Trading/retrieveData.py:104: PerformanceWarning: DataFrame is highly fragmented.  This is usually the result of calling `frame.insert` many times, which has poor performance.  Consider joining all columns at once using pd.concat(axis=1) instead. To get a de-fragmented frame, use `newframe = frame.copy()`\n",
      "  combined_df[ticker] = df['adjClose']\n",
      "/Users/davidboktor/code/AI_Trading/retrieveData.py:104: PerformanceWarning: DataFrame is highly fragmented.  This is usually the result of calling `frame.insert` many times, which has poor performance.  Consider joining all columns at once using pd.concat(axis=1) instead. To get a de-fragmented frame, use `newframe = frame.copy()`\n",
      "  combined_df[ticker] = df['adjClose']\n",
      "/Users/davidboktor/code/AI_Trading/retrieveData.py:104: PerformanceWarning: DataFrame is highly fragmented.  This is usually the result of calling `frame.insert` many times, which has poor performance.  Consider joining all columns at once using pd.concat(axis=1) instead. To get a de-fragmented frame, use `newframe = frame.copy()`\n",
      "  combined_df[ticker] = df['adjClose']\n",
      "/Users/davidboktor/code/AI_Trading/retrieveData.py:104: PerformanceWarning: DataFrame is highly fragmented.  This is usually the result of calling `frame.insert` many times, which has poor performance.  Consider joining all columns at once using pd.concat(axis=1) instead. To get a de-fragmented frame, use `newframe = frame.copy()`\n",
      "  combined_df[ticker] = df['adjClose']\n",
      "/Users/davidboktor/code/AI_Trading/retrieveData.py:104: PerformanceWarning: DataFrame is highly fragmented.  This is usually the result of calling `frame.insert` many times, which has poor performance.  Consider joining all columns at once using pd.concat(axis=1) instead. To get a de-fragmented frame, use `newframe = frame.copy()`\n",
      "  combined_df[ticker] = df['adjClose']\n",
      "/Users/davidboktor/code/AI_Trading/retrieveData.py:104: PerformanceWarning: DataFrame is highly fragmented.  This is usually the result of calling `frame.insert` many times, which has poor performance.  Consider joining all columns at once using pd.concat(axis=1) instead. To get a de-fragmented frame, use `newframe = frame.copy()`\n",
      "  combined_df[ticker] = df['adjClose']\n",
      "/Users/davidboktor/code/AI_Trading/retrieveData.py:104: PerformanceWarning: DataFrame is highly fragmented.  This is usually the result of calling `frame.insert` many times, which has poor performance.  Consider joining all columns at once using pd.concat(axis=1) instead. To get a de-fragmented frame, use `newframe = frame.copy()`\n",
      "  combined_df[ticker] = df['adjClose']\n",
      "/Users/davidboktor/code/AI_Trading/retrieveData.py:104: PerformanceWarning: DataFrame is highly fragmented.  This is usually the result of calling `frame.insert` many times, which has poor performance.  Consider joining all columns at once using pd.concat(axis=1) instead. To get a de-fragmented frame, use `newframe = frame.copy()`\n",
      "  combined_df[ticker] = df['adjClose']\n",
      "/Users/davidboktor/code/AI_Trading/retrieveData.py:104: PerformanceWarning: DataFrame is highly fragmented.  This is usually the result of calling `frame.insert` many times, which has poor performance.  Consider joining all columns at once using pd.concat(axis=1) instead. To get a de-fragmented frame, use `newframe = frame.copy()`\n",
      "  combined_df[ticker] = df['adjClose']\n",
      "/Users/davidboktor/code/AI_Trading/retrieveData.py:104: PerformanceWarning: DataFrame is highly fragmented.  This is usually the result of calling `frame.insert` many times, which has poor performance.  Consider joining all columns at once using pd.concat(axis=1) instead. To get a de-fragmented frame, use `newframe = frame.copy()`\n",
      "  combined_df[ticker] = df['adjClose']\n",
      "/Users/davidboktor/code/AI_Trading/retrieveData.py:104: PerformanceWarning: DataFrame is highly fragmented.  This is usually the result of calling `frame.insert` many times, which has poor performance.  Consider joining all columns at once using pd.concat(axis=1) instead. To get a de-fragmented frame, use `newframe = frame.copy()`\n",
      "  combined_df[ticker] = df['adjClose']\n",
      "/Users/davidboktor/code/AI_Trading/retrieveData.py:104: PerformanceWarning: DataFrame is highly fragmented.  This is usually the result of calling `frame.insert` many times, which has poor performance.  Consider joining all columns at once using pd.concat(axis=1) instead. To get a de-fragmented frame, use `newframe = frame.copy()`\n",
      "  combined_df[ticker] = df['adjClose']\n",
      "/Users/davidboktor/code/AI_Trading/retrieveData.py:104: PerformanceWarning: DataFrame is highly fragmented.  This is usually the result of calling `frame.insert` many times, which has poor performance.  Consider joining all columns at once using pd.concat(axis=1) instead. To get a de-fragmented frame, use `newframe = frame.copy()`\n",
      "  combined_df[ticker] = df['adjClose']\n",
      "/Users/davidboktor/code/AI_Trading/retrieveData.py:104: PerformanceWarning: DataFrame is highly fragmented.  This is usually the result of calling `frame.insert` many times, which has poor performance.  Consider joining all columns at once using pd.concat(axis=1) instead. To get a de-fragmented frame, use `newframe = frame.copy()`\n",
      "  combined_df[ticker] = df['adjClose']\n",
      "/Users/davidboktor/code/AI_Trading/retrieveData.py:104: PerformanceWarning: DataFrame is highly fragmented.  This is usually the result of calling `frame.insert` many times, which has poor performance.  Consider joining all columns at once using pd.concat(axis=1) instead. To get a de-fragmented frame, use `newframe = frame.copy()`\n",
      "  combined_df[ticker] = df['adjClose']\n",
      "/Users/davidboktor/code/AI_Trading/retrieveData.py:104: PerformanceWarning: DataFrame is highly fragmented.  This is usually the result of calling `frame.insert` many times, which has poor performance.  Consider joining all columns at once using pd.concat(axis=1) instead. To get a de-fragmented frame, use `newframe = frame.copy()`\n",
      "  combined_df[ticker] = df['adjClose']\n",
      "/Users/davidboktor/code/AI_Trading/retrieveData.py:104: PerformanceWarning: DataFrame is highly fragmented.  This is usually the result of calling `frame.insert` many times, which has poor performance.  Consider joining all columns at once using pd.concat(axis=1) instead. To get a de-fragmented frame, use `newframe = frame.copy()`\n",
      "  combined_df[ticker] = df['adjClose']\n",
      "/Users/davidboktor/code/AI_Trading/retrieveData.py:104: PerformanceWarning: DataFrame is highly fragmented.  This is usually the result of calling `frame.insert` many times, which has poor performance.  Consider joining all columns at once using pd.concat(axis=1) instead. To get a de-fragmented frame, use `newframe = frame.copy()`\n",
      "  combined_df[ticker] = df['adjClose']\n",
      "/Users/davidboktor/code/AI_Trading/retrieveData.py:104: PerformanceWarning: DataFrame is highly fragmented.  This is usually the result of calling `frame.insert` many times, which has poor performance.  Consider joining all columns at once using pd.concat(axis=1) instead. To get a de-fragmented frame, use `newframe = frame.copy()`\n",
      "  combined_df[ticker] = df['adjClose']\n",
      "/Users/davidboktor/code/AI_Trading/retrieveData.py:104: PerformanceWarning: DataFrame is highly fragmented.  This is usually the result of calling `frame.insert` many times, which has poor performance.  Consider joining all columns at once using pd.concat(axis=1) instead. To get a de-fragmented frame, use `newframe = frame.copy()`\n",
      "  combined_df[ticker] = df['adjClose']\n",
      "/Users/davidboktor/code/AI_Trading/retrieveData.py:104: PerformanceWarning: DataFrame is highly fragmented.  This is usually the result of calling `frame.insert` many times, which has poor performance.  Consider joining all columns at once using pd.concat(axis=1) instead. To get a de-fragmented frame, use `newframe = frame.copy()`\n",
      "  combined_df[ticker] = df['adjClose']\n",
      "/Users/davidboktor/code/AI_Trading/retrieveData.py:104: PerformanceWarning: DataFrame is highly fragmented.  This is usually the result of calling `frame.insert` many times, which has poor performance.  Consider joining all columns at once using pd.concat(axis=1) instead. To get a de-fragmented frame, use `newframe = frame.copy()`\n",
      "  combined_df[ticker] = df['adjClose']\n",
      "/Users/davidboktor/code/AI_Trading/retrieveData.py:104: PerformanceWarning: DataFrame is highly fragmented.  This is usually the result of calling `frame.insert` many times, which has poor performance.  Consider joining all columns at once using pd.concat(axis=1) instead. To get a de-fragmented frame, use `newframe = frame.copy()`\n",
      "  combined_df[ticker] = df['adjClose']\n",
      "/Users/davidboktor/code/AI_Trading/retrieveData.py:104: PerformanceWarning: DataFrame is highly fragmented.  This is usually the result of calling `frame.insert` many times, which has poor performance.  Consider joining all columns at once using pd.concat(axis=1) instead. To get a de-fragmented frame, use `newframe = frame.copy()`\n",
      "  combined_df[ticker] = df['adjClose']\n",
      "/Users/davidboktor/code/AI_Trading/retrieveData.py:104: PerformanceWarning: DataFrame is highly fragmented.  This is usually the result of calling `frame.insert` many times, which has poor performance.  Consider joining all columns at once using pd.concat(axis=1) instead. To get a de-fragmented frame, use `newframe = frame.copy()`\n",
      "  combined_df[ticker] = df['adjClose']\n",
      "/Users/davidboktor/code/AI_Trading/retrieveData.py:104: PerformanceWarning: DataFrame is highly fragmented.  This is usually the result of calling `frame.insert` many times, which has poor performance.  Consider joining all columns at once using pd.concat(axis=1) instead. To get a de-fragmented frame, use `newframe = frame.copy()`\n",
      "  combined_df[ticker] = df['adjClose']\n",
      "/Users/davidboktor/code/AI_Trading/retrieveData.py:104: PerformanceWarning: DataFrame is highly fragmented.  This is usually the result of calling `frame.insert` many times, which has poor performance.  Consider joining all columns at once using pd.concat(axis=1) instead. To get a de-fragmented frame, use `newframe = frame.copy()`\n",
      "  combined_df[ticker] = df['adjClose']\n",
      "/Users/davidboktor/code/AI_Trading/retrieveData.py:104: PerformanceWarning: DataFrame is highly fragmented.  This is usually the result of calling `frame.insert` many times, which has poor performance.  Consider joining all columns at once using pd.concat(axis=1) instead. To get a de-fragmented frame, use `newframe = frame.copy()`\n",
      "  combined_df[ticker] = df['adjClose']\n",
      "/Users/davidboktor/code/AI_Trading/retrieveData.py:104: PerformanceWarning: DataFrame is highly fragmented.  This is usually the result of calling `frame.insert` many times, which has poor performance.  Consider joining all columns at once using pd.concat(axis=1) instead. To get a de-fragmented frame, use `newframe = frame.copy()`\n",
      "  combined_df[ticker] = df['adjClose']\n",
      "/Users/davidboktor/code/AI_Trading/retrieveData.py:104: PerformanceWarning: DataFrame is highly fragmented.  This is usually the result of calling `frame.insert` many times, which has poor performance.  Consider joining all columns at once using pd.concat(axis=1) instead. To get a de-fragmented frame, use `newframe = frame.copy()`\n",
      "  combined_df[ticker] = df['adjClose']\n",
      "/Users/davidboktor/code/AI_Trading/retrieveData.py:104: PerformanceWarning: DataFrame is highly fragmented.  This is usually the result of calling `frame.insert` many times, which has poor performance.  Consider joining all columns at once using pd.concat(axis=1) instead. To get a de-fragmented frame, use `newframe = frame.copy()`\n",
      "  combined_df[ticker] = df['adjClose']\n",
      "/Users/davidboktor/code/AI_Trading/retrieveData.py:104: PerformanceWarning: DataFrame is highly fragmented.  This is usually the result of calling `frame.insert` many times, which has poor performance.  Consider joining all columns at once using pd.concat(axis=1) instead. To get a de-fragmented frame, use `newframe = frame.copy()`\n",
      "  combined_df[ticker] = df['adjClose']\n",
      "/Users/davidboktor/code/AI_Trading/retrieveData.py:104: PerformanceWarning: DataFrame is highly fragmented.  This is usually the result of calling `frame.insert` many times, which has poor performance.  Consider joining all columns at once using pd.concat(axis=1) instead. To get a de-fragmented frame, use `newframe = frame.copy()`\n",
      "  combined_df[ticker] = df['adjClose']\n",
      "/Users/davidboktor/code/AI_Trading/retrieveData.py:104: PerformanceWarning: DataFrame is highly fragmented.  This is usually the result of calling `frame.insert` many times, which has poor performance.  Consider joining all columns at once using pd.concat(axis=1) instead. To get a de-fragmented frame, use `newframe = frame.copy()`\n",
      "  combined_df[ticker] = df['adjClose']\n",
      "/Users/davidboktor/code/AI_Trading/retrieveData.py:104: PerformanceWarning: DataFrame is highly fragmented.  This is usually the result of calling `frame.insert` many times, which has poor performance.  Consider joining all columns at once using pd.concat(axis=1) instead. To get a de-fragmented frame, use `newframe = frame.copy()`\n",
      "  combined_df[ticker] = df['adjClose']\n",
      "/Users/davidboktor/code/AI_Trading/retrieveData.py:104: PerformanceWarning: DataFrame is highly fragmented.  This is usually the result of calling `frame.insert` many times, which has poor performance.  Consider joining all columns at once using pd.concat(axis=1) instead. To get a de-fragmented frame, use `newframe = frame.copy()`\n",
      "  combined_df[ticker] = df['adjClose']\n",
      "/Users/davidboktor/code/AI_Trading/retrieveData.py:104: PerformanceWarning: DataFrame is highly fragmented.  This is usually the result of calling `frame.insert` many times, which has poor performance.  Consider joining all columns at once using pd.concat(axis=1) instead. To get a de-fragmented frame, use `newframe = frame.copy()`\n",
      "  combined_df[ticker] = df['adjClose']\n",
      "/Users/davidboktor/code/AI_Trading/retrieveData.py:104: PerformanceWarning: DataFrame is highly fragmented.  This is usually the result of calling `frame.insert` many times, which has poor performance.  Consider joining all columns at once using pd.concat(axis=1) instead. To get a de-fragmented frame, use `newframe = frame.copy()`\n",
      "  combined_df[ticker] = df['adjClose']\n",
      "/Users/davidboktor/code/AI_Trading/retrieveData.py:104: PerformanceWarning: DataFrame is highly fragmented.  This is usually the result of calling `frame.insert` many times, which has poor performance.  Consider joining all columns at once using pd.concat(axis=1) instead. To get a de-fragmented frame, use `newframe = frame.copy()`\n",
      "  combined_df[ticker] = df['adjClose']\n",
      "/Users/davidboktor/code/AI_Trading/retrieveData.py:104: PerformanceWarning: DataFrame is highly fragmented.  This is usually the result of calling `frame.insert` many times, which has poor performance.  Consider joining all columns at once using pd.concat(axis=1) instead. To get a de-fragmented frame, use `newframe = frame.copy()`\n",
      "  combined_df[ticker] = df['adjClose']\n",
      "/Users/davidboktor/code/AI_Trading/retrieveData.py:104: PerformanceWarning: DataFrame is highly fragmented.  This is usually the result of calling `frame.insert` many times, which has poor performance.  Consider joining all columns at once using pd.concat(axis=1) instead. To get a de-fragmented frame, use `newframe = frame.copy()`\n",
      "  combined_df[ticker] = df['adjClose']\n",
      "/Users/davidboktor/code/AI_Trading/retrieveData.py:104: PerformanceWarning: DataFrame is highly fragmented.  This is usually the result of calling `frame.insert` many times, which has poor performance.  Consider joining all columns at once using pd.concat(axis=1) instead. To get a de-fragmented frame, use `newframe = frame.copy()`\n",
      "  combined_df[ticker] = df['adjClose']\n",
      "/Users/davidboktor/code/AI_Trading/retrieveData.py:104: PerformanceWarning: DataFrame is highly fragmented.  This is usually the result of calling `frame.insert` many times, which has poor performance.  Consider joining all columns at once using pd.concat(axis=1) instead. To get a de-fragmented frame, use `newframe = frame.copy()`\n",
      "  combined_df[ticker] = df['adjClose']\n",
      "/Users/davidboktor/code/AI_Trading/retrieveData.py:104: PerformanceWarning: DataFrame is highly fragmented.  This is usually the result of calling `frame.insert` many times, which has poor performance.  Consider joining all columns at once using pd.concat(axis=1) instead. To get a de-fragmented frame, use `newframe = frame.copy()`\n",
      "  combined_df[ticker] = df['adjClose']\n",
      "/Users/davidboktor/code/AI_Trading/retrieveData.py:104: PerformanceWarning: DataFrame is highly fragmented.  This is usually the result of calling `frame.insert` many times, which has poor performance.  Consider joining all columns at once using pd.concat(axis=1) instead. To get a de-fragmented frame, use `newframe = frame.copy()`\n",
      "  combined_df[ticker] = df['adjClose']\n",
      "/Users/davidboktor/code/AI_Trading/retrieveData.py:104: PerformanceWarning: DataFrame is highly fragmented.  This is usually the result of calling `frame.insert` many times, which has poor performance.  Consider joining all columns at once using pd.concat(axis=1) instead. To get a de-fragmented frame, use `newframe = frame.copy()`\n",
      "  combined_df[ticker] = df['adjClose']\n",
      "/Users/davidboktor/code/AI_Trading/retrieveData.py:104: PerformanceWarning: DataFrame is highly fragmented.  This is usually the result of calling `frame.insert` many times, which has poor performance.  Consider joining all columns at once using pd.concat(axis=1) instead. To get a de-fragmented frame, use `newframe = frame.copy()`\n",
      "  combined_df[ticker] = df['adjClose']\n",
      "/Users/davidboktor/code/AI_Trading/retrieveData.py:104: PerformanceWarning: DataFrame is highly fragmented.  This is usually the result of calling `frame.insert` many times, which has poor performance.  Consider joining all columns at once using pd.concat(axis=1) instead. To get a de-fragmented frame, use `newframe = frame.copy()`\n",
      "  combined_df[ticker] = df['adjClose']\n",
      "/Users/davidboktor/code/AI_Trading/retrieveData.py:104: PerformanceWarning: DataFrame is highly fragmented.  This is usually the result of calling `frame.insert` many times, which has poor performance.  Consider joining all columns at once using pd.concat(axis=1) instead. To get a de-fragmented frame, use `newframe = frame.copy()`\n",
      "  combined_df[ticker] = df['adjClose']\n",
      "/Users/davidboktor/code/AI_Trading/retrieveData.py:104: PerformanceWarning: DataFrame is highly fragmented.  This is usually the result of calling `frame.insert` many times, which has poor performance.  Consider joining all columns at once using pd.concat(axis=1) instead. To get a de-fragmented frame, use `newframe = frame.copy()`\n",
      "  combined_df[ticker] = df['adjClose']\n",
      "/Users/davidboktor/code/AI_Trading/retrieveData.py:104: PerformanceWarning: DataFrame is highly fragmented.  This is usually the result of calling `frame.insert` many times, which has poor performance.  Consider joining all columns at once using pd.concat(axis=1) instead. To get a de-fragmented frame, use `newframe = frame.copy()`\n",
      "  combined_df[ticker] = df['adjClose']\n",
      "/Users/davidboktor/code/AI_Trading/retrieveData.py:104: PerformanceWarning: DataFrame is highly fragmented.  This is usually the result of calling `frame.insert` many times, which has poor performance.  Consider joining all columns at once using pd.concat(axis=1) instead. To get a de-fragmented frame, use `newframe = frame.copy()`\n",
      "  combined_df[ticker] = df['adjClose']\n",
      "/Users/davidboktor/code/AI_Trading/retrieveData.py:104: PerformanceWarning: DataFrame is highly fragmented.  This is usually the result of calling `frame.insert` many times, which has poor performance.  Consider joining all columns at once using pd.concat(axis=1) instead. To get a de-fragmented frame, use `newframe = frame.copy()`\n",
      "  combined_df[ticker] = df['adjClose']\n",
      "/Users/davidboktor/code/AI_Trading/retrieveData.py:104: PerformanceWarning: DataFrame is highly fragmented.  This is usually the result of calling `frame.insert` many times, which has poor performance.  Consider joining all columns at once using pd.concat(axis=1) instead. To get a de-fragmented frame, use `newframe = frame.copy()`\n",
      "  combined_df[ticker] = df['adjClose']\n",
      "/Users/davidboktor/code/AI_Trading/retrieveData.py:104: PerformanceWarning: DataFrame is highly fragmented.  This is usually the result of calling `frame.insert` many times, which has poor performance.  Consider joining all columns at once using pd.concat(axis=1) instead. To get a de-fragmented frame, use `newframe = frame.copy()`\n",
      "  combined_df[ticker] = df['adjClose']\n",
      "/Users/davidboktor/code/AI_Trading/retrieveData.py:104: PerformanceWarning: DataFrame is highly fragmented.  This is usually the result of calling `frame.insert` many times, which has poor performance.  Consider joining all columns at once using pd.concat(axis=1) instead. To get a de-fragmented frame, use `newframe = frame.copy()`\n",
      "  combined_df[ticker] = df['adjClose']\n",
      "/Users/davidboktor/code/AI_Trading/retrieveData.py:104: PerformanceWarning: DataFrame is highly fragmented.  This is usually the result of calling `frame.insert` many times, which has poor performance.  Consider joining all columns at once using pd.concat(axis=1) instead. To get a de-fragmented frame, use `newframe = frame.copy()`\n",
      "  combined_df[ticker] = df['adjClose']\n",
      "/Users/davidboktor/code/AI_Trading/retrieveData.py:104: PerformanceWarning: DataFrame is highly fragmented.  This is usually the result of calling `frame.insert` many times, which has poor performance.  Consider joining all columns at once using pd.concat(axis=1) instead. To get a de-fragmented frame, use `newframe = frame.copy()`\n",
      "  combined_df[ticker] = df['adjClose']\n",
      "/Users/davidboktor/code/AI_Trading/retrieveData.py:104: PerformanceWarning: DataFrame is highly fragmented.  This is usually the result of calling `frame.insert` many times, which has poor performance.  Consider joining all columns at once using pd.concat(axis=1) instead. To get a de-fragmented frame, use `newframe = frame.copy()`\n",
      "  combined_df[ticker] = df['adjClose']\n",
      "/Users/davidboktor/code/AI_Trading/retrieveData.py:104: PerformanceWarning: DataFrame is highly fragmented.  This is usually the result of calling `frame.insert` many times, which has poor performance.  Consider joining all columns at once using pd.concat(axis=1) instead. To get a de-fragmented frame, use `newframe = frame.copy()`\n",
      "  combined_df[ticker] = df['adjClose']\n",
      "/Users/davidboktor/code/AI_Trading/retrieveData.py:104: PerformanceWarning: DataFrame is highly fragmented.  This is usually the result of calling `frame.insert` many times, which has poor performance.  Consider joining all columns at once using pd.concat(axis=1) instead. To get a de-fragmented frame, use `newframe = frame.copy()`\n",
      "  combined_df[ticker] = df['adjClose']\n",
      "/Users/davidboktor/code/AI_Trading/retrieveData.py:104: PerformanceWarning: DataFrame is highly fragmented.  This is usually the result of calling `frame.insert` many times, which has poor performance.  Consider joining all columns at once using pd.concat(axis=1) instead. To get a de-fragmented frame, use `newframe = frame.copy()`\n",
      "  combined_df[ticker] = df['adjClose']\n",
      "/Users/davidboktor/code/AI_Trading/retrieveData.py:104: PerformanceWarning: DataFrame is highly fragmented.  This is usually the result of calling `frame.insert` many times, which has poor performance.  Consider joining all columns at once using pd.concat(axis=1) instead. To get a de-fragmented frame, use `newframe = frame.copy()`\n",
      "  combined_df[ticker] = df['adjClose']\n",
      "/Users/davidboktor/code/AI_Trading/retrieveData.py:104: PerformanceWarning: DataFrame is highly fragmented.  This is usually the result of calling `frame.insert` many times, which has poor performance.  Consider joining all columns at once using pd.concat(axis=1) instead. To get a de-fragmented frame, use `newframe = frame.copy()`\n",
      "  combined_df[ticker] = df['adjClose']\n",
      "/Users/davidboktor/code/AI_Trading/retrieveData.py:104: PerformanceWarning: DataFrame is highly fragmented.  This is usually the result of calling `frame.insert` many times, which has poor performance.  Consider joining all columns at once using pd.concat(axis=1) instead. To get a de-fragmented frame, use `newframe = frame.copy()`\n",
      "  combined_df[ticker] = df['adjClose']\n",
      "/Users/davidboktor/code/AI_Trading/retrieveData.py:104: PerformanceWarning: DataFrame is highly fragmented.  This is usually the result of calling `frame.insert` many times, which has poor performance.  Consider joining all columns at once using pd.concat(axis=1) instead. To get a de-fragmented frame, use `newframe = frame.copy()`\n",
      "  combined_df[ticker] = df['adjClose']\n",
      "/Users/davidboktor/code/AI_Trading/retrieveData.py:104: PerformanceWarning: DataFrame is highly fragmented.  This is usually the result of calling `frame.insert` many times, which has poor performance.  Consider joining all columns at once using pd.concat(axis=1) instead. To get a de-fragmented frame, use `newframe = frame.copy()`\n",
      "  combined_df[ticker] = df['adjClose']\n",
      "/Users/davidboktor/code/AI_Trading/retrieveData.py:104: PerformanceWarning: DataFrame is highly fragmented.  This is usually the result of calling `frame.insert` many times, which has poor performance.  Consider joining all columns at once using pd.concat(axis=1) instead. To get a de-fragmented frame, use `newframe = frame.copy()`\n",
      "  combined_df[ticker] = df['adjClose']\n",
      "/Users/davidboktor/code/AI_Trading/retrieveData.py:104: PerformanceWarning: DataFrame is highly fragmented.  This is usually the result of calling `frame.insert` many times, which has poor performance.  Consider joining all columns at once using pd.concat(axis=1) instead. To get a de-fragmented frame, use `newframe = frame.copy()`\n",
      "  combined_df[ticker] = df['adjClose']\n",
      "/Users/davidboktor/code/AI_Trading/retrieveData.py:104: PerformanceWarning: DataFrame is highly fragmented.  This is usually the result of calling `frame.insert` many times, which has poor performance.  Consider joining all columns at once using pd.concat(axis=1) instead. To get a de-fragmented frame, use `newframe = frame.copy()`\n",
      "  combined_df[ticker] = df['adjClose']\n",
      "/Users/davidboktor/code/AI_Trading/retrieveData.py:104: PerformanceWarning: DataFrame is highly fragmented.  This is usually the result of calling `frame.insert` many times, which has poor performance.  Consider joining all columns at once using pd.concat(axis=1) instead. To get a de-fragmented frame, use `newframe = frame.copy()`\n",
      "  combined_df[ticker] = df['adjClose']\n",
      "/Users/davidboktor/code/AI_Trading/retrieveData.py:104: PerformanceWarning: DataFrame is highly fragmented.  This is usually the result of calling `frame.insert` many times, which has poor performance.  Consider joining all columns at once using pd.concat(axis=1) instead. To get a de-fragmented frame, use `newframe = frame.copy()`\n",
      "  combined_df[ticker] = df['adjClose']\n",
      "/Users/davidboktor/code/AI_Trading/retrieveData.py:104: PerformanceWarning: DataFrame is highly fragmented.  This is usually the result of calling `frame.insert` many times, which has poor performance.  Consider joining all columns at once using pd.concat(axis=1) instead. To get a de-fragmented frame, use `newframe = frame.copy()`\n",
      "  combined_df[ticker] = df['adjClose']\n",
      "/Users/davidboktor/code/AI_Trading/retrieveData.py:104: PerformanceWarning: DataFrame is highly fragmented.  This is usually the result of calling `frame.insert` many times, which has poor performance.  Consider joining all columns at once using pd.concat(axis=1) instead. To get a de-fragmented frame, use `newframe = frame.copy()`\n",
      "  combined_df[ticker] = df['adjClose']\n",
      "/Users/davidboktor/code/AI_Trading/retrieveData.py:104: PerformanceWarning: DataFrame is highly fragmented.  This is usually the result of calling `frame.insert` many times, which has poor performance.  Consider joining all columns at once using pd.concat(axis=1) instead. To get a de-fragmented frame, use `newframe = frame.copy()`\n",
      "  combined_df[ticker] = df['adjClose']\n",
      "/Users/davidboktor/code/AI_Trading/retrieveData.py:104: PerformanceWarning: DataFrame is highly fragmented.  This is usually the result of calling `frame.insert` many times, which has poor performance.  Consider joining all columns at once using pd.concat(axis=1) instead. To get a de-fragmented frame, use `newframe = frame.copy()`\n",
      "  combined_df[ticker] = df['adjClose']\n",
      "/Users/davidboktor/code/AI_Trading/retrieveData.py:104: PerformanceWarning: DataFrame is highly fragmented.  This is usually the result of calling `frame.insert` many times, which has poor performance.  Consider joining all columns at once using pd.concat(axis=1) instead. To get a de-fragmented frame, use `newframe = frame.copy()`\n",
      "  combined_df[ticker] = df['adjClose']\n",
      "/Users/davidboktor/code/AI_Trading/retrieveData.py:104: PerformanceWarning: DataFrame is highly fragmented.  This is usually the result of calling `frame.insert` many times, which has poor performance.  Consider joining all columns at once using pd.concat(axis=1) instead. To get a de-fragmented frame, use `newframe = frame.copy()`\n",
      "  combined_df[ticker] = df['adjClose']\n",
      "/Users/davidboktor/code/AI_Trading/retrieveData.py:104: PerformanceWarning: DataFrame is highly fragmented.  This is usually the result of calling `frame.insert` many times, which has poor performance.  Consider joining all columns at once using pd.concat(axis=1) instead. To get a de-fragmented frame, use `newframe = frame.copy()`\n",
      "  combined_df[ticker] = df['adjClose']\n",
      "/Users/davidboktor/code/AI_Trading/retrieveData.py:104: PerformanceWarning: DataFrame is highly fragmented.  This is usually the result of calling `frame.insert` many times, which has poor performance.  Consider joining all columns at once using pd.concat(axis=1) instead. To get a de-fragmented frame, use `newframe = frame.copy()`\n",
      "  combined_df[ticker] = df['adjClose']\n",
      "/Users/davidboktor/code/AI_Trading/retrieveData.py:104: PerformanceWarning: DataFrame is highly fragmented.  This is usually the result of calling `frame.insert` many times, which has poor performance.  Consider joining all columns at once using pd.concat(axis=1) instead. To get a de-fragmented frame, use `newframe = frame.copy()`\n",
      "  combined_df[ticker] = df['adjClose']\n",
      "/Users/davidboktor/code/AI_Trading/retrieveData.py:104: PerformanceWarning: DataFrame is highly fragmented.  This is usually the result of calling `frame.insert` many times, which has poor performance.  Consider joining all columns at once using pd.concat(axis=1) instead. To get a de-fragmented frame, use `newframe = frame.copy()`\n",
      "  combined_df[ticker] = df['adjClose']\n",
      "/Users/davidboktor/code/AI_Trading/retrieveData.py:104: PerformanceWarning: DataFrame is highly fragmented.  This is usually the result of calling `frame.insert` many times, which has poor performance.  Consider joining all columns at once using pd.concat(axis=1) instead. To get a de-fragmented frame, use `newframe = frame.copy()`\n",
      "  combined_df[ticker] = df['adjClose']\n",
      "/Users/davidboktor/code/AI_Trading/retrieveData.py:104: PerformanceWarning: DataFrame is highly fragmented.  This is usually the result of calling `frame.insert` many times, which has poor performance.  Consider joining all columns at once using pd.concat(axis=1) instead. To get a de-fragmented frame, use `newframe = frame.copy()`\n",
      "  combined_df[ticker] = df['adjClose']\n",
      "/Users/davidboktor/code/AI_Trading/retrieveData.py:104: PerformanceWarning: DataFrame is highly fragmented.  This is usually the result of calling `frame.insert` many times, which has poor performance.  Consider joining all columns at once using pd.concat(axis=1) instead. To get a de-fragmented frame, use `newframe = frame.copy()`\n",
      "  combined_df[ticker] = df['adjClose']\n",
      "/Users/davidboktor/code/AI_Trading/retrieveData.py:104: PerformanceWarning: DataFrame is highly fragmented.  This is usually the result of calling `frame.insert` many times, which has poor performance.  Consider joining all columns at once using pd.concat(axis=1) instead. To get a de-fragmented frame, use `newframe = frame.copy()`\n",
      "  combined_df[ticker] = df['adjClose']\n",
      "/Users/davidboktor/code/AI_Trading/retrieveData.py:104: PerformanceWarning: DataFrame is highly fragmented.  This is usually the result of calling `frame.insert` many times, which has poor performance.  Consider joining all columns at once using pd.concat(axis=1) instead. To get a de-fragmented frame, use `newframe = frame.copy()`\n",
      "  combined_df[ticker] = df['adjClose']\n",
      "/Users/davidboktor/code/AI_Trading/retrieveData.py:104: PerformanceWarning: DataFrame is highly fragmented.  This is usually the result of calling `frame.insert` many times, which has poor performance.  Consider joining all columns at once using pd.concat(axis=1) instead. To get a de-fragmented frame, use `newframe = frame.copy()`\n",
      "  combined_df[ticker] = df['adjClose']\n",
      "/Users/davidboktor/code/AI_Trading/retrieveData.py:104: PerformanceWarning: DataFrame is highly fragmented.  This is usually the result of calling `frame.insert` many times, which has poor performance.  Consider joining all columns at once using pd.concat(axis=1) instead. To get a de-fragmented frame, use `newframe = frame.copy()`\n",
      "  combined_df[ticker] = df['adjClose']\n",
      "/Users/davidboktor/code/AI_Trading/retrieveData.py:104: PerformanceWarning: DataFrame is highly fragmented.  This is usually the result of calling `frame.insert` many times, which has poor performance.  Consider joining all columns at once using pd.concat(axis=1) instead. To get a de-fragmented frame, use `newframe = frame.copy()`\n",
      "  combined_df[ticker] = df['adjClose']\n",
      "/Users/davidboktor/code/AI_Trading/retrieveData.py:104: PerformanceWarning: DataFrame is highly fragmented.  This is usually the result of calling `frame.insert` many times, which has poor performance.  Consider joining all columns at once using pd.concat(axis=1) instead. To get a de-fragmented frame, use `newframe = frame.copy()`\n",
      "  combined_df[ticker] = df['adjClose']\n",
      "/Users/davidboktor/code/AI_Trading/retrieveData.py:104: PerformanceWarning: DataFrame is highly fragmented.  This is usually the result of calling `frame.insert` many times, which has poor performance.  Consider joining all columns at once using pd.concat(axis=1) instead. To get a de-fragmented frame, use `newframe = frame.copy()`\n",
      "  combined_df[ticker] = df['adjClose']\n",
      "/Users/davidboktor/code/AI_Trading/retrieveData.py:104: PerformanceWarning: DataFrame is highly fragmented.  This is usually the result of calling `frame.insert` many times, which has poor performance.  Consider joining all columns at once using pd.concat(axis=1) instead. To get a de-fragmented frame, use `newframe = frame.copy()`\n",
      "  combined_df[ticker] = df['adjClose']\n",
      "/Users/davidboktor/code/AI_Trading/retrieveData.py:104: PerformanceWarning: DataFrame is highly fragmented.  This is usually the result of calling `frame.insert` many times, which has poor performance.  Consider joining all columns at once using pd.concat(axis=1) instead. To get a de-fragmented frame, use `newframe = frame.copy()`\n",
      "  combined_df[ticker] = df['adjClose']\n",
      "/Users/davidboktor/code/AI_Trading/retrieveData.py:104: PerformanceWarning: DataFrame is highly fragmented.  This is usually the result of calling `frame.insert` many times, which has poor performance.  Consider joining all columns at once using pd.concat(axis=1) instead. To get a de-fragmented frame, use `newframe = frame.copy()`\n",
      "  combined_df[ticker] = df['adjClose']\n",
      "/Users/davidboktor/code/AI_Trading/retrieveData.py:104: PerformanceWarning: DataFrame is highly fragmented.  This is usually the result of calling `frame.insert` many times, which has poor performance.  Consider joining all columns at once using pd.concat(axis=1) instead. To get a de-fragmented frame, use `newframe = frame.copy()`\n",
      "  combined_df[ticker] = df['adjClose']\n",
      "/Users/davidboktor/code/AI_Trading/retrieveData.py:104: PerformanceWarning: DataFrame is highly fragmented.  This is usually the result of calling `frame.insert` many times, which has poor performance.  Consider joining all columns at once using pd.concat(axis=1) instead. To get a de-fragmented frame, use `newframe = frame.copy()`\n",
      "  combined_df[ticker] = df['adjClose']\n",
      "/Users/davidboktor/code/AI_Trading/retrieveData.py:104: PerformanceWarning: DataFrame is highly fragmented.  This is usually the result of calling `frame.insert` many times, which has poor performance.  Consider joining all columns at once using pd.concat(axis=1) instead. To get a de-fragmented frame, use `newframe = frame.copy()`\n",
      "  combined_df[ticker] = df['adjClose']\n",
      "/Users/davidboktor/code/AI_Trading/retrieveData.py:104: PerformanceWarning: DataFrame is highly fragmented.  This is usually the result of calling `frame.insert` many times, which has poor performance.  Consider joining all columns at once using pd.concat(axis=1) instead. To get a de-fragmented frame, use `newframe = frame.copy()`\n",
      "  combined_df[ticker] = df['adjClose']\n",
      "/Users/davidboktor/code/AI_Trading/retrieveData.py:104: PerformanceWarning: DataFrame is highly fragmented.  This is usually the result of calling `frame.insert` many times, which has poor performance.  Consider joining all columns at once using pd.concat(axis=1) instead. To get a de-fragmented frame, use `newframe = frame.copy()`\n",
      "  combined_df[ticker] = df['adjClose']\n",
      "/Users/davidboktor/code/AI_Trading/retrieveData.py:104: PerformanceWarning: DataFrame is highly fragmented.  This is usually the result of calling `frame.insert` many times, which has poor performance.  Consider joining all columns at once using pd.concat(axis=1) instead. To get a de-fragmented frame, use `newframe = frame.copy()`\n",
      "  combined_df[ticker] = df['adjClose']\n",
      "/Users/davidboktor/code/AI_Trading/retrieveData.py:104: PerformanceWarning: DataFrame is highly fragmented.  This is usually the result of calling `frame.insert` many times, which has poor performance.  Consider joining all columns at once using pd.concat(axis=1) instead. To get a de-fragmented frame, use `newframe = frame.copy()`\n",
      "  combined_df[ticker] = df['adjClose']\n",
      "/Users/davidboktor/code/AI_Trading/retrieveData.py:104: PerformanceWarning: DataFrame is highly fragmented.  This is usually the result of calling `frame.insert` many times, which has poor performance.  Consider joining all columns at once using pd.concat(axis=1) instead. To get a de-fragmented frame, use `newframe = frame.copy()`\n",
      "  combined_df[ticker] = df['adjClose']\n",
      "/Users/davidboktor/code/AI_Trading/retrieveData.py:104: PerformanceWarning: DataFrame is highly fragmented.  This is usually the result of calling `frame.insert` many times, which has poor performance.  Consider joining all columns at once using pd.concat(axis=1) instead. To get a de-fragmented frame, use `newframe = frame.copy()`\n",
      "  combined_df[ticker] = df['adjClose']\n",
      "/Users/davidboktor/code/AI_Trading/retrieveData.py:104: PerformanceWarning: DataFrame is highly fragmented.  This is usually the result of calling `frame.insert` many times, which has poor performance.  Consider joining all columns at once using pd.concat(axis=1) instead. To get a de-fragmented frame, use `newframe = frame.copy()`\n",
      "  combined_df[ticker] = df['adjClose']\n",
      "/Users/davidboktor/code/AI_Trading/retrieveData.py:104: PerformanceWarning: DataFrame is highly fragmented.  This is usually the result of calling `frame.insert` many times, which has poor performance.  Consider joining all columns at once using pd.concat(axis=1) instead. To get a de-fragmented frame, use `newframe = frame.copy()`\n",
      "  combined_df[ticker] = df['adjClose']\n",
      "/Users/davidboktor/code/AI_Trading/retrieveData.py:104: PerformanceWarning: DataFrame is highly fragmented.  This is usually the result of calling `frame.insert` many times, which has poor performance.  Consider joining all columns at once using pd.concat(axis=1) instead. To get a de-fragmented frame, use `newframe = frame.copy()`\n",
      "  combined_df[ticker] = df['adjClose']\n",
      "/Users/davidboktor/code/AI_Trading/retrieveData.py:104: PerformanceWarning: DataFrame is highly fragmented.  This is usually the result of calling `frame.insert` many times, which has poor performance.  Consider joining all columns at once using pd.concat(axis=1) instead. To get a de-fragmented frame, use `newframe = frame.copy()`\n",
      "  combined_df[ticker] = df['adjClose']\n",
      "/Users/davidboktor/code/AI_Trading/retrieveData.py:104: PerformanceWarning: DataFrame is highly fragmented.  This is usually the result of calling `frame.insert` many times, which has poor performance.  Consider joining all columns at once using pd.concat(axis=1) instead. To get a de-fragmented frame, use `newframe = frame.copy()`\n",
      "  combined_df[ticker] = df['adjClose']\n",
      "/Users/davidboktor/code/AI_Trading/retrieveData.py:104: PerformanceWarning: DataFrame is highly fragmented.  This is usually the result of calling `frame.insert` many times, which has poor performance.  Consider joining all columns at once using pd.concat(axis=1) instead. To get a de-fragmented frame, use `newframe = frame.copy()`\n",
      "  combined_df[ticker] = df['adjClose']\n",
      "/Users/davidboktor/code/AI_Trading/retrieveData.py:104: PerformanceWarning: DataFrame is highly fragmented.  This is usually the result of calling `frame.insert` many times, which has poor performance.  Consider joining all columns at once using pd.concat(axis=1) instead. To get a de-fragmented frame, use `newframe = frame.copy()`\n",
      "  combined_df[ticker] = df['adjClose']\n",
      "/Users/davidboktor/code/AI_Trading/retrieveData.py:104: PerformanceWarning: DataFrame is highly fragmented.  This is usually the result of calling `frame.insert` many times, which has poor performance.  Consider joining all columns at once using pd.concat(axis=1) instead. To get a de-fragmented frame, use `newframe = frame.copy()`\n",
      "  combined_df[ticker] = df['adjClose']\n",
      "/Users/davidboktor/code/AI_Trading/retrieveData.py:104: PerformanceWarning: DataFrame is highly fragmented.  This is usually the result of calling `frame.insert` many times, which has poor performance.  Consider joining all columns at once using pd.concat(axis=1) instead. To get a de-fragmented frame, use `newframe = frame.copy()`\n",
      "  combined_df[ticker] = df['adjClose']\n",
      "/Users/davidboktor/code/AI_Trading/retrieveData.py:104: PerformanceWarning: DataFrame is highly fragmented.  This is usually the result of calling `frame.insert` many times, which has poor performance.  Consider joining all columns at once using pd.concat(axis=1) instead. To get a de-fragmented frame, use `newframe = frame.copy()`\n",
      "  combined_df[ticker] = df['adjClose']\n",
      "/Users/davidboktor/code/AI_Trading/retrieveData.py:104: PerformanceWarning: DataFrame is highly fragmented.  This is usually the result of calling `frame.insert` many times, which has poor performance.  Consider joining all columns at once using pd.concat(axis=1) instead. To get a de-fragmented frame, use `newframe = frame.copy()`\n",
      "  combined_df[ticker] = df['adjClose']\n",
      "/Users/davidboktor/code/AI_Trading/retrieveData.py:104: PerformanceWarning: DataFrame is highly fragmented.  This is usually the result of calling `frame.insert` many times, which has poor performance.  Consider joining all columns at once using pd.concat(axis=1) instead. To get a de-fragmented frame, use `newframe = frame.copy()`\n",
      "  combined_df[ticker] = df['adjClose']\n",
      "/Users/davidboktor/code/AI_Trading/retrieveData.py:104: PerformanceWarning: DataFrame is highly fragmented.  This is usually the result of calling `frame.insert` many times, which has poor performance.  Consider joining all columns at once using pd.concat(axis=1) instead. To get a de-fragmented frame, use `newframe = frame.copy()`\n",
      "  combined_df[ticker] = df['adjClose']\n",
      "/Users/davidboktor/code/AI_Trading/retrieveData.py:104: PerformanceWarning: DataFrame is highly fragmented.  This is usually the result of calling `frame.insert` many times, which has poor performance.  Consider joining all columns at once using pd.concat(axis=1) instead. To get a de-fragmented frame, use `newframe = frame.copy()`\n",
      "  combined_df[ticker] = df['adjClose']\n",
      "/Users/davidboktor/code/AI_Trading/retrieveData.py:104: PerformanceWarning: DataFrame is highly fragmented.  This is usually the result of calling `frame.insert` many times, which has poor performance.  Consider joining all columns at once using pd.concat(axis=1) instead. To get a de-fragmented frame, use `newframe = frame.copy()`\n",
      "  combined_df[ticker] = df['adjClose']\n",
      "/Users/davidboktor/code/AI_Trading/retrieveData.py:104: PerformanceWarning: DataFrame is highly fragmented.  This is usually the result of calling `frame.insert` many times, which has poor performance.  Consider joining all columns at once using pd.concat(axis=1) instead. To get a de-fragmented frame, use `newframe = frame.copy()`\n",
      "  combined_df[ticker] = df['adjClose']\n",
      "/Users/davidboktor/code/AI_Trading/retrieveData.py:104: PerformanceWarning: DataFrame is highly fragmented.  This is usually the result of calling `frame.insert` many times, which has poor performance.  Consider joining all columns at once using pd.concat(axis=1) instead. To get a de-fragmented frame, use `newframe = frame.copy()`\n",
      "  combined_df[ticker] = df['adjClose']\n",
      "/Users/davidboktor/code/AI_Trading/retrieveData.py:104: PerformanceWarning: DataFrame is highly fragmented.  This is usually the result of calling `frame.insert` many times, which has poor performance.  Consider joining all columns at once using pd.concat(axis=1) instead. To get a de-fragmented frame, use `newframe = frame.copy()`\n",
      "  combined_df[ticker] = df['adjClose']\n",
      "/Users/davidboktor/code/AI_Trading/retrieveData.py:104: PerformanceWarning: DataFrame is highly fragmented.  This is usually the result of calling `frame.insert` many times, which has poor performance.  Consider joining all columns at once using pd.concat(axis=1) instead. To get a de-fragmented frame, use `newframe = frame.copy()`\n",
      "  combined_df[ticker] = df['adjClose']\n",
      "/Users/davidboktor/code/AI_Trading/retrieveData.py:104: PerformanceWarning: DataFrame is highly fragmented.  This is usually the result of calling `frame.insert` many times, which has poor performance.  Consider joining all columns at once using pd.concat(axis=1) instead. To get a de-fragmented frame, use `newframe = frame.copy()`\n",
      "  combined_df[ticker] = df['adjClose']\n",
      "/Users/davidboktor/code/AI_Trading/retrieveData.py:104: PerformanceWarning: DataFrame is highly fragmented.  This is usually the result of calling `frame.insert` many times, which has poor performance.  Consider joining all columns at once using pd.concat(axis=1) instead. To get a de-fragmented frame, use `newframe = frame.copy()`\n",
      "  combined_df[ticker] = df['adjClose']\n",
      "/Users/davidboktor/code/AI_Trading/retrieveData.py:104: PerformanceWarning: DataFrame is highly fragmented.  This is usually the result of calling `frame.insert` many times, which has poor performance.  Consider joining all columns at once using pd.concat(axis=1) instead. To get a de-fragmented frame, use `newframe = frame.copy()`\n",
      "  combined_df[ticker] = df['adjClose']\n",
      "/Users/davidboktor/code/AI_Trading/retrieveData.py:104: PerformanceWarning: DataFrame is highly fragmented.  This is usually the result of calling `frame.insert` many times, which has poor performance.  Consider joining all columns at once using pd.concat(axis=1) instead. To get a de-fragmented frame, use `newframe = frame.copy()`\n",
      "  combined_df[ticker] = df['adjClose']\n",
      "/Users/davidboktor/code/AI_Trading/retrieveData.py:104: PerformanceWarning: DataFrame is highly fragmented.  This is usually the result of calling `frame.insert` many times, which has poor performance.  Consider joining all columns at once using pd.concat(axis=1) instead. To get a de-fragmented frame, use `newframe = frame.copy()`\n",
      "  combined_df[ticker] = df['adjClose']\n",
      "/Users/davidboktor/code/AI_Trading/retrieveData.py:104: PerformanceWarning: DataFrame is highly fragmented.  This is usually the result of calling `frame.insert` many times, which has poor performance.  Consider joining all columns at once using pd.concat(axis=1) instead. To get a de-fragmented frame, use `newframe = frame.copy()`\n",
      "  combined_df[ticker] = df['adjClose']\n",
      "/Users/davidboktor/code/AI_Trading/retrieveData.py:104: PerformanceWarning: DataFrame is highly fragmented.  This is usually the result of calling `frame.insert` many times, which has poor performance.  Consider joining all columns at once using pd.concat(axis=1) instead. To get a de-fragmented frame, use `newframe = frame.copy()`\n",
      "  combined_df[ticker] = df['adjClose']\n",
      "/Users/davidboktor/code/AI_Trading/retrieveData.py:104: PerformanceWarning: DataFrame is highly fragmented.  This is usually the result of calling `frame.insert` many times, which has poor performance.  Consider joining all columns at once using pd.concat(axis=1) instead. To get a de-fragmented frame, use `newframe = frame.copy()`\n",
      "  combined_df[ticker] = df['adjClose']\n",
      "/Users/davidboktor/code/AI_Trading/retrieveData.py:104: PerformanceWarning: DataFrame is highly fragmented.  This is usually the result of calling `frame.insert` many times, which has poor performance.  Consider joining all columns at once using pd.concat(axis=1) instead. To get a de-fragmented frame, use `newframe = frame.copy()`\n",
      "  combined_df[ticker] = df['adjClose']\n",
      "/Users/davidboktor/code/AI_Trading/retrieveData.py:104: PerformanceWarning: DataFrame is highly fragmented.  This is usually the result of calling `frame.insert` many times, which has poor performance.  Consider joining all columns at once using pd.concat(axis=1) instead. To get a de-fragmented frame, use `newframe = frame.copy()`\n",
      "  combined_df[ticker] = df['adjClose']\n",
      "/Users/davidboktor/code/AI_Trading/retrieveData.py:104: PerformanceWarning: DataFrame is highly fragmented.  This is usually the result of calling `frame.insert` many times, which has poor performance.  Consider joining all columns at once using pd.concat(axis=1) instead. To get a de-fragmented frame, use `newframe = frame.copy()`\n",
      "  combined_df[ticker] = df['adjClose']\n",
      "/Users/davidboktor/code/AI_Trading/retrieveData.py:104: PerformanceWarning: DataFrame is highly fragmented.  This is usually the result of calling `frame.insert` many times, which has poor performance.  Consider joining all columns at once using pd.concat(axis=1) instead. To get a de-fragmented frame, use `newframe = frame.copy()`\n",
      "  combined_df[ticker] = df['adjClose']\n",
      "/Users/davidboktor/code/AI_Trading/retrieveData.py:104: PerformanceWarning: DataFrame is highly fragmented.  This is usually the result of calling `frame.insert` many times, which has poor performance.  Consider joining all columns at once using pd.concat(axis=1) instead. To get a de-fragmented frame, use `newframe = frame.copy()`\n",
      "  combined_df[ticker] = df['adjClose']\n",
      "/Users/davidboktor/code/AI_Trading/retrieveData.py:104: PerformanceWarning: DataFrame is highly fragmented.  This is usually the result of calling `frame.insert` many times, which has poor performance.  Consider joining all columns at once using pd.concat(axis=1) instead. To get a de-fragmented frame, use `newframe = frame.copy()`\n",
      "  combined_df[ticker] = df['adjClose']\n",
      "/Users/davidboktor/code/AI_Trading/retrieveData.py:104: PerformanceWarning: DataFrame is highly fragmented.  This is usually the result of calling `frame.insert` many times, which has poor performance.  Consider joining all columns at once using pd.concat(axis=1) instead. To get a de-fragmented frame, use `newframe = frame.copy()`\n",
      "  combined_df[ticker] = df['adjClose']\n",
      "/Users/davidboktor/code/AI_Trading/retrieveData.py:104: PerformanceWarning: DataFrame is highly fragmented.  This is usually the result of calling `frame.insert` many times, which has poor performance.  Consider joining all columns at once using pd.concat(axis=1) instead. To get a de-fragmented frame, use `newframe = frame.copy()`\n",
      "  combined_df[ticker] = df['adjClose']\n",
      "/Users/davidboktor/code/AI_Trading/retrieveData.py:104: PerformanceWarning: DataFrame is highly fragmented.  This is usually the result of calling `frame.insert` many times, which has poor performance.  Consider joining all columns at once using pd.concat(axis=1) instead. To get a de-fragmented frame, use `newframe = frame.copy()`\n",
      "  combined_df[ticker] = df['adjClose']\n",
      "/Users/davidboktor/code/AI_Trading/retrieveData.py:104: PerformanceWarning: DataFrame is highly fragmented.  This is usually the result of calling `frame.insert` many times, which has poor performance.  Consider joining all columns at once using pd.concat(axis=1) instead. To get a de-fragmented frame, use `newframe = frame.copy()`\n",
      "  combined_df[ticker] = df['adjClose']\n",
      "/Users/davidboktor/code/AI_Trading/retrieveData.py:104: PerformanceWarning: DataFrame is highly fragmented.  This is usually the result of calling `frame.insert` many times, which has poor performance.  Consider joining all columns at once using pd.concat(axis=1) instead. To get a de-fragmented frame, use `newframe = frame.copy()`\n",
      "  combined_df[ticker] = df['adjClose']\n",
      "/Users/davidboktor/code/AI_Trading/retrieveData.py:104: PerformanceWarning: DataFrame is highly fragmented.  This is usually the result of calling `frame.insert` many times, which has poor performance.  Consider joining all columns at once using pd.concat(axis=1) instead. To get a de-fragmented frame, use `newframe = frame.copy()`\n",
      "  combined_df[ticker] = df['adjClose']\n",
      "/Users/davidboktor/code/AI_Trading/retrieveData.py:104: PerformanceWarning: DataFrame is highly fragmented.  This is usually the result of calling `frame.insert` many times, which has poor performance.  Consider joining all columns at once using pd.concat(axis=1) instead. To get a de-fragmented frame, use `newframe = frame.copy()`\n",
      "  combined_df[ticker] = df['adjClose']\n",
      "/Users/davidboktor/code/AI_Trading/retrieveData.py:104: PerformanceWarning: DataFrame is highly fragmented.  This is usually the result of calling `frame.insert` many times, which has poor performance.  Consider joining all columns at once using pd.concat(axis=1) instead. To get a de-fragmented frame, use `newframe = frame.copy()`\n",
      "  combined_df[ticker] = df['adjClose']\n",
      "/Users/davidboktor/code/AI_Trading/retrieveData.py:104: PerformanceWarning: DataFrame is highly fragmented.  This is usually the result of calling `frame.insert` many times, which has poor performance.  Consider joining all columns at once using pd.concat(axis=1) instead. To get a de-fragmented frame, use `newframe = frame.copy()`\n",
      "  combined_df[ticker] = df['adjClose']\n",
      "/Users/davidboktor/code/AI_Trading/retrieveData.py:104: PerformanceWarning: DataFrame is highly fragmented.  This is usually the result of calling `frame.insert` many times, which has poor performance.  Consider joining all columns at once using pd.concat(axis=1) instead. To get a de-fragmented frame, use `newframe = frame.copy()`\n",
      "  combined_df[ticker] = df['adjClose']\n",
      "/Users/davidboktor/code/AI_Trading/retrieveData.py:104: PerformanceWarning: DataFrame is highly fragmented.  This is usually the result of calling `frame.insert` many times, which has poor performance.  Consider joining all columns at once using pd.concat(axis=1) instead. To get a de-fragmented frame, use `newframe = frame.copy()`\n",
      "  combined_df[ticker] = df['adjClose']\n",
      "/Users/davidboktor/code/AI_Trading/retrieveData.py:104: PerformanceWarning: DataFrame is highly fragmented.  This is usually the result of calling `frame.insert` many times, which has poor performance.  Consider joining all columns at once using pd.concat(axis=1) instead. To get a de-fragmented frame, use `newframe = frame.copy()`\n",
      "  combined_df[ticker] = df['adjClose']\n",
      "/Users/davidboktor/code/AI_Trading/retrieveData.py:104: PerformanceWarning: DataFrame is highly fragmented.  This is usually the result of calling `frame.insert` many times, which has poor performance.  Consider joining all columns at once using pd.concat(axis=1) instead. To get a de-fragmented frame, use `newframe = frame.copy()`\n",
      "  combined_df[ticker] = df['adjClose']\n",
      "/Users/davidboktor/code/AI_Trading/retrieveData.py:104: PerformanceWarning: DataFrame is highly fragmented.  This is usually the result of calling `frame.insert` many times, which has poor performance.  Consider joining all columns at once using pd.concat(axis=1) instead. To get a de-fragmented frame, use `newframe = frame.copy()`\n",
      "  combined_df[ticker] = df['adjClose']\n",
      "/Users/davidboktor/code/AI_Trading/retrieveData.py:104: PerformanceWarning: DataFrame is highly fragmented.  This is usually the result of calling `frame.insert` many times, which has poor performance.  Consider joining all columns at once using pd.concat(axis=1) instead. To get a de-fragmented frame, use `newframe = frame.copy()`\n",
      "  combined_df[ticker] = df['adjClose']\n",
      "/Users/davidboktor/code/AI_Trading/retrieveData.py:104: PerformanceWarning: DataFrame is highly fragmented.  This is usually the result of calling `frame.insert` many times, which has poor performance.  Consider joining all columns at once using pd.concat(axis=1) instead. To get a de-fragmented frame, use `newframe = frame.copy()`\n",
      "  combined_df[ticker] = df['adjClose']\n",
      "/Users/davidboktor/code/AI_Trading/retrieveData.py:104: PerformanceWarning: DataFrame is highly fragmented.  This is usually the result of calling `frame.insert` many times, which has poor performance.  Consider joining all columns at once using pd.concat(axis=1) instead. To get a de-fragmented frame, use `newframe = frame.copy()`\n",
      "  combined_df[ticker] = df['adjClose']\n",
      "/Users/davidboktor/code/AI_Trading/retrieveData.py:104: PerformanceWarning: DataFrame is highly fragmented.  This is usually the result of calling `frame.insert` many times, which has poor performance.  Consider joining all columns at once using pd.concat(axis=1) instead. To get a de-fragmented frame, use `newframe = frame.copy()`\n",
      "  combined_df[ticker] = df['adjClose']\n",
      "/Users/davidboktor/code/AI_Trading/retrieveData.py:104: PerformanceWarning: DataFrame is highly fragmented.  This is usually the result of calling `frame.insert` many times, which has poor performance.  Consider joining all columns at once using pd.concat(axis=1) instead. To get a de-fragmented frame, use `newframe = frame.copy()`\n",
      "  combined_df[ticker] = df['adjClose']\n",
      "/Users/davidboktor/code/AI_Trading/retrieveData.py:104: PerformanceWarning: DataFrame is highly fragmented.  This is usually the result of calling `frame.insert` many times, which has poor performance.  Consider joining all columns at once using pd.concat(axis=1) instead. To get a de-fragmented frame, use `newframe = frame.copy()`\n",
      "  combined_df[ticker] = df['adjClose']\n",
      "/Users/davidboktor/code/AI_Trading/retrieveData.py:104: PerformanceWarning: DataFrame is highly fragmented.  This is usually the result of calling `frame.insert` many times, which has poor performance.  Consider joining all columns at once using pd.concat(axis=1) instead. To get a de-fragmented frame, use `newframe = frame.copy()`\n",
      "  combined_df[ticker] = df['adjClose']\n",
      "/Users/davidboktor/code/AI_Trading/retrieveData.py:104: PerformanceWarning: DataFrame is highly fragmented.  This is usually the result of calling `frame.insert` many times, which has poor performance.  Consider joining all columns at once using pd.concat(axis=1) instead. To get a de-fragmented frame, use `newframe = frame.copy()`\n",
      "  combined_df[ticker] = df['adjClose']\n",
      "/Users/davidboktor/code/AI_Trading/retrieveData.py:104: PerformanceWarning: DataFrame is highly fragmented.  This is usually the result of calling `frame.insert` many times, which has poor performance.  Consider joining all columns at once using pd.concat(axis=1) instead. To get a de-fragmented frame, use `newframe = frame.copy()`\n",
      "  combined_df[ticker] = df['adjClose']\n",
      "/Users/davidboktor/code/AI_Trading/retrieveData.py:104: PerformanceWarning: DataFrame is highly fragmented.  This is usually the result of calling `frame.insert` many times, which has poor performance.  Consider joining all columns at once using pd.concat(axis=1) instead. To get a de-fragmented frame, use `newframe = frame.copy()`\n",
      "  combined_df[ticker] = df['adjClose']\n",
      "/Users/davidboktor/code/AI_Trading/retrieveData.py:104: PerformanceWarning: DataFrame is highly fragmented.  This is usually the result of calling `frame.insert` many times, which has poor performance.  Consider joining all columns at once using pd.concat(axis=1) instead. To get a de-fragmented frame, use `newframe = frame.copy()`\n",
      "  combined_df[ticker] = df['adjClose']\n",
      "INFO:retrieveData:Successfully retrieved data for 490 tickers.\n"
     ]
    },
    {
     "data": {
      "text/plain": [
       "pandas.core.frame.DataFrame"
      ]
     },
     "execution_count": 4,
     "metadata": {},
     "output_type": "execute_result"
    }
   ],
   "source": [
    "with open('./sp500_companies_2020.txt', 'r') as tickerlist:\n",
    "    tickers = tickerlist.read().strip()\n",
    "    ticker_list = tickers.split('\\n')\n",
    "\n",
    "print(f'Number of Tickers: {len(ticker_list)}')\n",
    "\n",
    "\n",
    "start_date = \"2015-01-01\"\n",
    "end_date = dt.date.today()\n",
    "\n",
    "print(f\"Historical data will be from {start_date} to {end_date}\")\n",
    "\n",
    "\n",
    "historical_data = handler.get_historical_data(start_date=start_date, end_date=end_date, tickers=ticker_list, frequency='monthly')\n",
    "type(historical_data)"
   ]
  },
  {
   "cell_type": "code",
   "execution_count": 5,
   "metadata": {},
   "outputs": [
    {
     "name": "stderr",
     "output_type": "stream",
     "text": [
      "/var/folders/nv/59bkjyks06gdx0l5k1v5pqk40000gn/T/ipykernel_12526/370928360.py:3: PerformanceWarning: DataFrame is highly fragmented.  This is usually the result of calling `frame.insert` many times, which has poor performance.  Consider joining all columns at once using pd.concat(axis=1) instead. To get a de-fragmented frame, use `newframe = frame.copy()`\n",
      "  historical_data.reset_index(inplace=True, names='date')\n"
     ]
    },
    {
     "data": {
      "text/html": [
       "<div>\n",
       "<style scoped>\n",
       "    .dataframe tbody tr th:only-of-type {\n",
       "        vertical-align: middle;\n",
       "    }\n",
       "\n",
       "    .dataframe tbody tr th {\n",
       "        vertical-align: top;\n",
       "    }\n",
       "\n",
       "    .dataframe thead th {\n",
       "        text-align: right;\n",
       "    }\n",
       "</style>\n",
       "<table border=\"1\" class=\"dataframe\">\n",
       "  <thead>\n",
       "    <tr style=\"text-align: right;\">\n",
       "      <th></th>\n",
       "      <th>date</th>\n",
       "      <th>A</th>\n",
       "      <th>AAL</th>\n",
       "      <th>AAP</th>\n",
       "      <th>AAPL</th>\n",
       "      <th>ABBV</th>\n",
       "      <th>ABMD</th>\n",
       "      <th>ABT</th>\n",
       "      <th>ACN</th>\n",
       "      <th>ADBE</th>\n",
       "      <th>...</th>\n",
       "      <th>XEL</th>\n",
       "      <th>XLNX</th>\n",
       "      <th>XOM</th>\n",
       "      <th>XRAY</th>\n",
       "      <th>XYL</th>\n",
       "      <th>YUM</th>\n",
       "      <th>ZBH</th>\n",
       "      <th>ZBRA</th>\n",
       "      <th>ZION</th>\n",
       "      <th>ZTS</th>\n",
       "    </tr>\n",
       "  </thead>\n",
       "  <tbody>\n",
       "    <tr>\n",
       "      <th>0</th>\n",
       "      <td>2015-01-30</td>\n",
       "      <td>34.915927</td>\n",
       "      <td>46.496564</td>\n",
       "      <td>143.995752</td>\n",
       "      <td>26.118257</td>\n",
       "      <td>40.485023</td>\n",
       "      <td>51.74</td>\n",
       "      <td>37.370819</td>\n",
       "      <td>71.526434</td>\n",
       "      <td>70.13</td>\n",
       "      <td>...</td>\n",
       "      <td>27.877293</td>\n",
       "      <td>33.912799</td>\n",
       "      <td>56.949214</td>\n",
       "      <td>45.801297</td>\n",
       "      <td>30.212795</td>\n",
       "      <td>43.403084</td>\n",
       "      <td>100.981221</td>\n",
       "      <td>83.460</td>\n",
       "      <td>18.849482</td>\n",
       "      <td>39.918517</td>\n",
       "    </tr>\n",
       "    <tr>\n",
       "      <th>1</th>\n",
       "      <td>2015-02-27</td>\n",
       "      <td>39.020421</td>\n",
       "      <td>45.471646</td>\n",
       "      <td>140.309823</td>\n",
       "      <td>28.749564</td>\n",
       "      <td>40.585649</td>\n",
       "      <td>60.79</td>\n",
       "      <td>39.549948</td>\n",
       "      <td>76.633641</td>\n",
       "      <td>79.10</td>\n",
       "      <td>...</td>\n",
       "      <td>26.205993</td>\n",
       "      <td>37.527326</td>\n",
       "      <td>58.113787</td>\n",
       "      <td>48.534268</td>\n",
       "      <td>31.753908</td>\n",
       "      <td>48.705370</td>\n",
       "      <td>108.448968</td>\n",
       "      <td>91.050</td>\n",
       "      <td>21.064225</td>\n",
       "      <td>43.057441</td>\n",
       "    </tr>\n",
       "    <tr>\n",
       "      <th>2</th>\n",
       "      <td>2015-03-31</td>\n",
       "      <td>38.503726</td>\n",
       "      <td>50.104248</td>\n",
       "      <td>135.618881</td>\n",
       "      <td>27.847643</td>\n",
       "      <td>39.270808</td>\n",
       "      <td>71.58</td>\n",
       "      <td>38.681636</td>\n",
       "      <td>79.749037</td>\n",
       "      <td>73.94</td>\n",
       "      <td>...</td>\n",
       "      <td>26.102111</td>\n",
       "      <td>37.465326</td>\n",
       "      <td>55.790285</td>\n",
       "      <td>46.659905</td>\n",
       "      <td>31.149072</td>\n",
       "      <td>47.270210</td>\n",
       "      <td>106.059741</td>\n",
       "      <td>90.715</td>\n",
       "      <td>21.273016</td>\n",
       "      <td>43.244281</td>\n",
       "    </tr>\n",
       "    <tr>\n",
       "      <th>3</th>\n",
       "      <td>2015-04-30</td>\n",
       "      <td>38.336923</td>\n",
       "      <td>45.932059</td>\n",
       "      <td>129.557753</td>\n",
       "      <td>28.008781</td>\n",
       "      <td>43.737801</td>\n",
       "      <td>63.22</td>\n",
       "      <td>38.956685</td>\n",
       "      <td>79.709467</td>\n",
       "      <td>76.06</td>\n",
       "      <td>...</td>\n",
       "      <td>25.427250</td>\n",
       "      <td>38.404174</td>\n",
       "      <td>57.345850</td>\n",
       "      <td>46.760761</td>\n",
       "      <td>32.928002</td>\n",
       "      <td>51.888009</td>\n",
       "      <td>99.128674</td>\n",
       "      <td>92.080</td>\n",
       "      <td>22.324849</td>\n",
       "      <td>41.571615</td>\n",
       "    </tr>\n",
       "    <tr>\n",
       "      <th>4</th>\n",
       "      <td>2015-05-29</td>\n",
       "      <td>38.170120</td>\n",
       "      <td>40.305298</td>\n",
       "      <td>138.817055</td>\n",
       "      <td>29.277924</td>\n",
       "      <td>45.043306</td>\n",
       "      <td>59.72</td>\n",
       "      <td>40.786189</td>\n",
       "      <td>82.625982</td>\n",
       "      <td>79.09</td>\n",
       "      <td>...</td>\n",
       "      <td>25.532228</td>\n",
       "      <td>42.296856</td>\n",
       "      <td>56.391973</td>\n",
       "      <td>47.709729</td>\n",
       "      <td>32.653772</td>\n",
       "      <td>54.393072</td>\n",
       "      <td>103.166766</td>\n",
       "      <td>109.640</td>\n",
       "      <td>22.800638</td>\n",
       "      <td>46.578552</td>\n",
       "    </tr>\n",
       "  </tbody>\n",
       "</table>\n",
       "<p>5 rows × 491 columns</p>\n",
       "</div>"
      ],
      "text/plain": [
       "        date          A        AAL         AAP       AAPL       ABBV   ABMD  \\\n",
       "0 2015-01-30  34.915927  46.496564  143.995752  26.118257  40.485023  51.74   \n",
       "1 2015-02-27  39.020421  45.471646  140.309823  28.749564  40.585649  60.79   \n",
       "2 2015-03-31  38.503726  50.104248  135.618881  27.847643  39.270808  71.58   \n",
       "3 2015-04-30  38.336923  45.932059  129.557753  28.008781  43.737801  63.22   \n",
       "4 2015-05-29  38.170120  40.305298  138.817055  29.277924  45.043306  59.72   \n",
       "\n",
       "         ABT        ACN   ADBE  ...        XEL       XLNX        XOM  \\\n",
       "0  37.370819  71.526434  70.13  ...  27.877293  33.912799  56.949214   \n",
       "1  39.549948  76.633641  79.10  ...  26.205993  37.527326  58.113787   \n",
       "2  38.681636  79.749037  73.94  ...  26.102111  37.465326  55.790285   \n",
       "3  38.956685  79.709467  76.06  ...  25.427250  38.404174  57.345850   \n",
       "4  40.786189  82.625982  79.09  ...  25.532228  42.296856  56.391973   \n",
       "\n",
       "        XRAY        XYL        YUM         ZBH     ZBRA       ZION        ZTS  \n",
       "0  45.801297  30.212795  43.403084  100.981221   83.460  18.849482  39.918517  \n",
       "1  48.534268  31.753908  48.705370  108.448968   91.050  21.064225  43.057441  \n",
       "2  46.659905  31.149072  47.270210  106.059741   90.715  21.273016  43.244281  \n",
       "3  46.760761  32.928002  51.888009   99.128674   92.080  22.324849  41.571615  \n",
       "4  47.709729  32.653772  54.393072  103.166766  109.640  22.800638  46.578552  \n",
       "\n",
       "[5 rows x 491 columns]"
      ]
     },
     "execution_count": 5,
     "metadata": {},
     "output_type": "execute_result"
    }
   ],
   "source": [
    "# Drop the rows where all the values are NaN\n",
    "historical_data.dropna(axis=0, how='all', inplace=True)\n",
    "historical_data.reset_index(inplace=True, names='date')\n",
    "historical_data.head()"
   ]
  },
  {
   "cell_type": "code",
   "execution_count": 6,
   "metadata": {},
   "outputs": [],
   "source": [
    "def plotData(df: pd.DataFrame, x: str, y: str, title: str = None) -> Figure:\n",
    "    fig = px.line(df, x=x, y=y)\n",
    "\n",
    "    if title is None:\n",
    "        fig.update_layout(title=f\"Historical Data of {y}\")\n",
    "    else:\n",
    "        fig.update_layout(title=title)\n",
    "    \n",
    "    # Update layout for size\n",
    "    fig.update_layout(\n",
    "        width=1000, \n",
    "        height=600,\n",
    "        xaxis_title=x,\n",
    "        yaxis_title=y\n",
    "    )\n",
    "    \n",
    "    return fig"
   ]
  },
  {
   "cell_type": "code",
   "execution_count": 7,
   "metadata": {},
   "outputs": [
    {
     "data": {
      "application/vnd.plotly.v1+json": {
       "config": {
        "plotlyServerURL": "https://plot.ly"
       },
       "data": [
        {
         "hovertemplate": "date=%{x}<br>AAPL=%{y}<extra></extra>",
         "legendgroup": "",
         "line": {
          "color": "#636efa",
          "dash": "solid"
         },
         "marker": {
          "symbol": "circle"
         },
         "mode": "lines",
         "name": "",
         "orientation": "v",
         "showlegend": false,
         "type": "scatter",
         "x": [
          "2015-01-30T00:00:00",
          "2015-02-27T00:00:00",
          "2015-03-31T00:00:00",
          "2015-04-30T00:00:00",
          "2015-05-29T00:00:00",
          "2015-06-30T00:00:00",
          "2015-07-31T00:00:00",
          "2015-08-31T00:00:00",
          "2015-09-30T00:00:00",
          "2015-10-30T00:00:00",
          "2015-11-30T00:00:00",
          "2015-12-31T00:00:00",
          "2016-01-29T00:00:00",
          "2016-02-29T00:00:00",
          "2016-03-31T00:00:00",
          "2016-04-29T00:00:00",
          "2016-05-31T00:00:00",
          "2016-06-30T00:00:00",
          "2016-07-29T00:00:00",
          "2016-08-31T00:00:00",
          "2016-09-30T00:00:00",
          "2016-10-31T00:00:00",
          "2016-11-30T00:00:00",
          "2016-12-30T00:00:00",
          "2017-01-31T00:00:00",
          "2017-02-28T00:00:00",
          "2017-03-31T00:00:00",
          "2017-04-28T00:00:00",
          "2017-05-31T00:00:00",
          "2017-06-30T00:00:00",
          "2017-07-31T00:00:00",
          "2017-08-31T00:00:00",
          "2017-09-29T00:00:00",
          "2017-10-31T00:00:00",
          "2017-11-30T00:00:00",
          "2017-12-29T00:00:00",
          "2018-01-31T00:00:00",
          "2018-02-28T00:00:00",
          "2018-03-30T00:00:00",
          "2018-04-30T00:00:00",
          "2018-05-31T00:00:00",
          "2018-06-29T00:00:00",
          "2018-07-31T00:00:00",
          "2018-08-31T00:00:00",
          "2018-09-28T00:00:00",
          "2018-10-31T00:00:00",
          "2018-11-30T00:00:00",
          "2018-12-31T00:00:00",
          "2019-01-31T00:00:00",
          "2019-02-28T00:00:00",
          "2019-03-29T00:00:00",
          "2019-04-30T00:00:00",
          "2019-05-31T00:00:00",
          "2019-06-28T00:00:00",
          "2019-07-31T00:00:00",
          "2019-08-30T00:00:00",
          "2019-09-30T00:00:00",
          "2019-10-31T00:00:00",
          "2019-11-29T00:00:00",
          "2019-12-31T00:00:00",
          "2020-01-31T00:00:00",
          "2020-02-28T00:00:00",
          "2020-03-31T00:00:00",
          "2020-04-30T00:00:00",
          "2020-05-29T00:00:00",
          "2020-06-30T00:00:00",
          "2020-07-31T00:00:00",
          "2020-08-31T00:00:00",
          "2020-09-30T00:00:00",
          "2020-10-30T00:00:00",
          "2020-11-30T00:00:00",
          "2020-12-31T00:00:00",
          "2021-01-29T00:00:00",
          "2021-02-26T00:00:00",
          "2021-03-31T00:00:00",
          "2021-04-30T00:00:00",
          "2021-05-31T00:00:00",
          "2021-06-30T00:00:00",
          "2021-07-30T00:00:00",
          "2021-08-31T00:00:00",
          "2021-09-30T00:00:00",
          "2021-10-29T00:00:00",
          "2021-11-30T00:00:00",
          "2021-12-31T00:00:00",
          "2022-01-31T00:00:00",
          "2022-02-28T00:00:00",
          "2022-03-31T00:00:00",
          "2022-04-29T00:00:00",
          "2022-05-31T00:00:00",
          "2022-06-30T00:00:00",
          "2022-07-29T00:00:00",
          "2022-08-31T00:00:00",
          "2022-09-30T00:00:00",
          "2022-10-31T00:00:00",
          "2022-11-30T00:00:00",
          "2022-12-30T00:00:00",
          "2023-01-31T00:00:00",
          "2023-02-28T00:00:00",
          "2023-03-31T00:00:00",
          "2023-04-28T00:00:00",
          "2023-05-31T00:00:00",
          "2023-06-30T00:00:00",
          "2023-07-31T00:00:00",
          "2023-08-31T00:00:00",
          "2023-09-29T00:00:00",
          "2023-10-31T00:00:00",
          "2023-11-30T00:00:00",
          "2023-12-29T00:00:00",
          "2024-01-31T00:00:00",
          "2024-02-29T00:00:00",
          "2024-03-29T00:00:00",
          "2024-04-30T00:00:00",
          "2024-05-31T00:00:00",
          "2024-06-28T00:00:00",
          "2024-07-31T00:00:00"
         ],
         "xaxis": "x",
         "y": [
          26.1182574580073,
          28.7495641542623,
          27.8476433731501,
          28.008780584664,
          29.2779240858737,
          28.186856220991,
          27.2598418146798,
          25.4550954653035,
          24.8207497907957,
          26.9766221009557,
          26.8205714953356,
          23.8641872831701,
          22.0685919641248,
          22.039228646482,
          24.8428537612997,
          21.3668144929281,
          22.9009375856888,
          21.9239899178034,
          23.8985249930366,
          24.4629618541104,
          26.0653896098698,
          26.1783665307795,
          25.6143075774323,
          26.8426448029154,
          28.1242872287496,
          31.8857041458314,
          33.4382090487637,
          33.4358814552061,
          35.70182409745,
          33.6591824202327,
          34.7599652920512,
          38.4842122708311,
          36.1657731413444,
          39.6668978186664,
          40.4717408696653,
          39.8547146195721,
          39.4308034553859,
          42.1173275470567,
          39.672384998008,
          39.0765189222243,
          44.3573446993973,
          43.9395733788486,
          45.1691503336454,
          54.2226116244808,
          53.7724041124205,
          52.1335534865082,
          42.6875982046953,
          37.7060238593831,
          39.7856638211977,
          41.5669202860281,
          45.599979834427,
          48.1734559272149,
          42.191962676901,
          47.6988247730179,
          51.3427527771005,
          50.4991763423198,
          54.1836759863436,
          60.1809672650928,
          64.8460349474594,
          71.2517798403048,
          75.1000796130521,
          66.4881648393942,
          61.8498516132922,
          71.4596972117867,
          77.5356321631996,
          88.9633220517557,
          103.653975890565,
          126.107533922878,
          113.178188961628,
          106.386129439278,
          116.545508137828,
          129.898559217206,
          129.18391645416,
          118.886957682901,
          119.759540499475,
          128.88734501892,
          122.37781677465,
          134.506586834573,
          143.247157970873,
          149.33468661788,
          139.174459306,
          147.338049498508,
          162.819746207029,
          174.905640253975,
          172.157502976797,
          162.8500074336,
          172.209543350175,
          155.482701501375,
          147.008482687232,
          135.037622635033,
          160.510269561287,
          155.501364677086,
          136.689279979477,
          151.663778524261,
          146.655173893021,
          128.723277335137,
          142.949909079403,
          146.263363854815,
          163.617317004673,
          168.360135532765,
          176.115843087699,
          192.728858018172,
          195.192989419343,
          186.919873979498,
          170.344129579123,
          169.906354817048,
          189.232688605997,
          191.802945708411,
          183.703647164759,
          180.2962693943,
          171.049539561464,
          169.90242636753,
          192.029307098907,
          210.378219303885,
          221.825063825879
         ],
         "yaxis": "y"
        }
       ],
       "layout": {
        "height": 600,
        "legend": {
         "tracegroupgap": 0
        },
        "margin": {
         "t": 60
        },
        "template": {
         "data": {
          "bar": [
           {
            "error_x": {
             "color": "#2a3f5f"
            },
            "error_y": {
             "color": "#2a3f5f"
            },
            "marker": {
             "line": {
              "color": "#E5ECF6",
              "width": 0.5
             },
             "pattern": {
              "fillmode": "overlay",
              "size": 10,
              "solidity": 0.2
             }
            },
            "type": "bar"
           }
          ],
          "barpolar": [
           {
            "marker": {
             "line": {
              "color": "#E5ECF6",
              "width": 0.5
             },
             "pattern": {
              "fillmode": "overlay",
              "size": 10,
              "solidity": 0.2
             }
            },
            "type": "barpolar"
           }
          ],
          "carpet": [
           {
            "aaxis": {
             "endlinecolor": "#2a3f5f",
             "gridcolor": "white",
             "linecolor": "white",
             "minorgridcolor": "white",
             "startlinecolor": "#2a3f5f"
            },
            "baxis": {
             "endlinecolor": "#2a3f5f",
             "gridcolor": "white",
             "linecolor": "white",
             "minorgridcolor": "white",
             "startlinecolor": "#2a3f5f"
            },
            "type": "carpet"
           }
          ],
          "choropleth": [
           {
            "colorbar": {
             "outlinewidth": 0,
             "ticks": ""
            },
            "type": "choropleth"
           }
          ],
          "contour": [
           {
            "colorbar": {
             "outlinewidth": 0,
             "ticks": ""
            },
            "colorscale": [
             [
              0,
              "#0d0887"
             ],
             [
              0.1111111111111111,
              "#46039f"
             ],
             [
              0.2222222222222222,
              "#7201a8"
             ],
             [
              0.3333333333333333,
              "#9c179e"
             ],
             [
              0.4444444444444444,
              "#bd3786"
             ],
             [
              0.5555555555555556,
              "#d8576b"
             ],
             [
              0.6666666666666666,
              "#ed7953"
             ],
             [
              0.7777777777777778,
              "#fb9f3a"
             ],
             [
              0.8888888888888888,
              "#fdca26"
             ],
             [
              1,
              "#f0f921"
             ]
            ],
            "type": "contour"
           }
          ],
          "contourcarpet": [
           {
            "colorbar": {
             "outlinewidth": 0,
             "ticks": ""
            },
            "type": "contourcarpet"
           }
          ],
          "heatmap": [
           {
            "colorbar": {
             "outlinewidth": 0,
             "ticks": ""
            },
            "colorscale": [
             [
              0,
              "#0d0887"
             ],
             [
              0.1111111111111111,
              "#46039f"
             ],
             [
              0.2222222222222222,
              "#7201a8"
             ],
             [
              0.3333333333333333,
              "#9c179e"
             ],
             [
              0.4444444444444444,
              "#bd3786"
             ],
             [
              0.5555555555555556,
              "#d8576b"
             ],
             [
              0.6666666666666666,
              "#ed7953"
             ],
             [
              0.7777777777777778,
              "#fb9f3a"
             ],
             [
              0.8888888888888888,
              "#fdca26"
             ],
             [
              1,
              "#f0f921"
             ]
            ],
            "type": "heatmap"
           }
          ],
          "heatmapgl": [
           {
            "colorbar": {
             "outlinewidth": 0,
             "ticks": ""
            },
            "colorscale": [
             [
              0,
              "#0d0887"
             ],
             [
              0.1111111111111111,
              "#46039f"
             ],
             [
              0.2222222222222222,
              "#7201a8"
             ],
             [
              0.3333333333333333,
              "#9c179e"
             ],
             [
              0.4444444444444444,
              "#bd3786"
             ],
             [
              0.5555555555555556,
              "#d8576b"
             ],
             [
              0.6666666666666666,
              "#ed7953"
             ],
             [
              0.7777777777777778,
              "#fb9f3a"
             ],
             [
              0.8888888888888888,
              "#fdca26"
             ],
             [
              1,
              "#f0f921"
             ]
            ],
            "type": "heatmapgl"
           }
          ],
          "histogram": [
           {
            "marker": {
             "pattern": {
              "fillmode": "overlay",
              "size": 10,
              "solidity": 0.2
             }
            },
            "type": "histogram"
           }
          ],
          "histogram2d": [
           {
            "colorbar": {
             "outlinewidth": 0,
             "ticks": ""
            },
            "colorscale": [
             [
              0,
              "#0d0887"
             ],
             [
              0.1111111111111111,
              "#46039f"
             ],
             [
              0.2222222222222222,
              "#7201a8"
             ],
             [
              0.3333333333333333,
              "#9c179e"
             ],
             [
              0.4444444444444444,
              "#bd3786"
             ],
             [
              0.5555555555555556,
              "#d8576b"
             ],
             [
              0.6666666666666666,
              "#ed7953"
             ],
             [
              0.7777777777777778,
              "#fb9f3a"
             ],
             [
              0.8888888888888888,
              "#fdca26"
             ],
             [
              1,
              "#f0f921"
             ]
            ],
            "type": "histogram2d"
           }
          ],
          "histogram2dcontour": [
           {
            "colorbar": {
             "outlinewidth": 0,
             "ticks": ""
            },
            "colorscale": [
             [
              0,
              "#0d0887"
             ],
             [
              0.1111111111111111,
              "#46039f"
             ],
             [
              0.2222222222222222,
              "#7201a8"
             ],
             [
              0.3333333333333333,
              "#9c179e"
             ],
             [
              0.4444444444444444,
              "#bd3786"
             ],
             [
              0.5555555555555556,
              "#d8576b"
             ],
             [
              0.6666666666666666,
              "#ed7953"
             ],
             [
              0.7777777777777778,
              "#fb9f3a"
             ],
             [
              0.8888888888888888,
              "#fdca26"
             ],
             [
              1,
              "#f0f921"
             ]
            ],
            "type": "histogram2dcontour"
           }
          ],
          "mesh3d": [
           {
            "colorbar": {
             "outlinewidth": 0,
             "ticks": ""
            },
            "type": "mesh3d"
           }
          ],
          "parcoords": [
           {
            "line": {
             "colorbar": {
              "outlinewidth": 0,
              "ticks": ""
             }
            },
            "type": "parcoords"
           }
          ],
          "pie": [
           {
            "automargin": true,
            "type": "pie"
           }
          ],
          "scatter": [
           {
            "fillpattern": {
             "fillmode": "overlay",
             "size": 10,
             "solidity": 0.2
            },
            "type": "scatter"
           }
          ],
          "scatter3d": [
           {
            "line": {
             "colorbar": {
              "outlinewidth": 0,
              "ticks": ""
             }
            },
            "marker": {
             "colorbar": {
              "outlinewidth": 0,
              "ticks": ""
             }
            },
            "type": "scatter3d"
           }
          ],
          "scattercarpet": [
           {
            "marker": {
             "colorbar": {
              "outlinewidth": 0,
              "ticks": ""
             }
            },
            "type": "scattercarpet"
           }
          ],
          "scattergeo": [
           {
            "marker": {
             "colorbar": {
              "outlinewidth": 0,
              "ticks": ""
             }
            },
            "type": "scattergeo"
           }
          ],
          "scattergl": [
           {
            "marker": {
             "colorbar": {
              "outlinewidth": 0,
              "ticks": ""
             }
            },
            "type": "scattergl"
           }
          ],
          "scattermapbox": [
           {
            "marker": {
             "colorbar": {
              "outlinewidth": 0,
              "ticks": ""
             }
            },
            "type": "scattermapbox"
           }
          ],
          "scatterpolar": [
           {
            "marker": {
             "colorbar": {
              "outlinewidth": 0,
              "ticks": ""
             }
            },
            "type": "scatterpolar"
           }
          ],
          "scatterpolargl": [
           {
            "marker": {
             "colorbar": {
              "outlinewidth": 0,
              "ticks": ""
             }
            },
            "type": "scatterpolargl"
           }
          ],
          "scatterternary": [
           {
            "marker": {
             "colorbar": {
              "outlinewidth": 0,
              "ticks": ""
             }
            },
            "type": "scatterternary"
           }
          ],
          "surface": [
           {
            "colorbar": {
             "outlinewidth": 0,
             "ticks": ""
            },
            "colorscale": [
             [
              0,
              "#0d0887"
             ],
             [
              0.1111111111111111,
              "#46039f"
             ],
             [
              0.2222222222222222,
              "#7201a8"
             ],
             [
              0.3333333333333333,
              "#9c179e"
             ],
             [
              0.4444444444444444,
              "#bd3786"
             ],
             [
              0.5555555555555556,
              "#d8576b"
             ],
             [
              0.6666666666666666,
              "#ed7953"
             ],
             [
              0.7777777777777778,
              "#fb9f3a"
             ],
             [
              0.8888888888888888,
              "#fdca26"
             ],
             [
              1,
              "#f0f921"
             ]
            ],
            "type": "surface"
           }
          ],
          "table": [
           {
            "cells": {
             "fill": {
              "color": "#EBF0F8"
             },
             "line": {
              "color": "white"
             }
            },
            "header": {
             "fill": {
              "color": "#C8D4E3"
             },
             "line": {
              "color": "white"
             }
            },
            "type": "table"
           }
          ]
         },
         "layout": {
          "annotationdefaults": {
           "arrowcolor": "#2a3f5f",
           "arrowhead": 0,
           "arrowwidth": 1
          },
          "autotypenumbers": "strict",
          "coloraxis": {
           "colorbar": {
            "outlinewidth": 0,
            "ticks": ""
           }
          },
          "colorscale": {
           "diverging": [
            [
             0,
             "#8e0152"
            ],
            [
             0.1,
             "#c51b7d"
            ],
            [
             0.2,
             "#de77ae"
            ],
            [
             0.3,
             "#f1b6da"
            ],
            [
             0.4,
             "#fde0ef"
            ],
            [
             0.5,
             "#f7f7f7"
            ],
            [
             0.6,
             "#e6f5d0"
            ],
            [
             0.7,
             "#b8e186"
            ],
            [
             0.8,
             "#7fbc41"
            ],
            [
             0.9,
             "#4d9221"
            ],
            [
             1,
             "#276419"
            ]
           ],
           "sequential": [
            [
             0,
             "#0d0887"
            ],
            [
             0.1111111111111111,
             "#46039f"
            ],
            [
             0.2222222222222222,
             "#7201a8"
            ],
            [
             0.3333333333333333,
             "#9c179e"
            ],
            [
             0.4444444444444444,
             "#bd3786"
            ],
            [
             0.5555555555555556,
             "#d8576b"
            ],
            [
             0.6666666666666666,
             "#ed7953"
            ],
            [
             0.7777777777777778,
             "#fb9f3a"
            ],
            [
             0.8888888888888888,
             "#fdca26"
            ],
            [
             1,
             "#f0f921"
            ]
           ],
           "sequentialminus": [
            [
             0,
             "#0d0887"
            ],
            [
             0.1111111111111111,
             "#46039f"
            ],
            [
             0.2222222222222222,
             "#7201a8"
            ],
            [
             0.3333333333333333,
             "#9c179e"
            ],
            [
             0.4444444444444444,
             "#bd3786"
            ],
            [
             0.5555555555555556,
             "#d8576b"
            ],
            [
             0.6666666666666666,
             "#ed7953"
            ],
            [
             0.7777777777777778,
             "#fb9f3a"
            ],
            [
             0.8888888888888888,
             "#fdca26"
            ],
            [
             1,
             "#f0f921"
            ]
           ]
          },
          "colorway": [
           "#636efa",
           "#EF553B",
           "#00cc96",
           "#ab63fa",
           "#FFA15A",
           "#19d3f3",
           "#FF6692",
           "#B6E880",
           "#FF97FF",
           "#FECB52"
          ],
          "font": {
           "color": "#2a3f5f"
          },
          "geo": {
           "bgcolor": "white",
           "lakecolor": "white",
           "landcolor": "#E5ECF6",
           "showlakes": true,
           "showland": true,
           "subunitcolor": "white"
          },
          "hoverlabel": {
           "align": "left"
          },
          "hovermode": "closest",
          "mapbox": {
           "style": "light"
          },
          "paper_bgcolor": "white",
          "plot_bgcolor": "#E5ECF6",
          "polar": {
           "angularaxis": {
            "gridcolor": "white",
            "linecolor": "white",
            "ticks": ""
           },
           "bgcolor": "#E5ECF6",
           "radialaxis": {
            "gridcolor": "white",
            "linecolor": "white",
            "ticks": ""
           }
          },
          "scene": {
           "xaxis": {
            "backgroundcolor": "#E5ECF6",
            "gridcolor": "white",
            "gridwidth": 2,
            "linecolor": "white",
            "showbackground": true,
            "ticks": "",
            "zerolinecolor": "white"
           },
           "yaxis": {
            "backgroundcolor": "#E5ECF6",
            "gridcolor": "white",
            "gridwidth": 2,
            "linecolor": "white",
            "showbackground": true,
            "ticks": "",
            "zerolinecolor": "white"
           },
           "zaxis": {
            "backgroundcolor": "#E5ECF6",
            "gridcolor": "white",
            "gridwidth": 2,
            "linecolor": "white",
            "showbackground": true,
            "ticks": "",
            "zerolinecolor": "white"
           }
          },
          "shapedefaults": {
           "line": {
            "color": "#2a3f5f"
           }
          },
          "ternary": {
           "aaxis": {
            "gridcolor": "white",
            "linecolor": "white",
            "ticks": ""
           },
           "baxis": {
            "gridcolor": "white",
            "linecolor": "white",
            "ticks": ""
           },
           "bgcolor": "#E5ECF6",
           "caxis": {
            "gridcolor": "white",
            "linecolor": "white",
            "ticks": ""
           }
          },
          "title": {
           "x": 0.05
          },
          "xaxis": {
           "automargin": true,
           "gridcolor": "white",
           "linecolor": "white",
           "ticks": "",
           "title": {
            "standoff": 15
           },
           "zerolinecolor": "white",
           "zerolinewidth": 2
          },
          "yaxis": {
           "automargin": true,
           "gridcolor": "white",
           "linecolor": "white",
           "ticks": "",
           "title": {
            "standoff": 15
           },
           "zerolinecolor": "white",
           "zerolinewidth": 2
          }
         }
        },
        "title": {
         "text": "Historical Data of AAPL"
        },
        "width": 1000,
        "xaxis": {
         "anchor": "y",
         "domain": [
          0,
          1
         ],
         "title": {
          "text": "date"
         }
        },
        "yaxis": {
         "anchor": "x",
         "domain": [
          0,
          1
         ],
         "title": {
          "text": "AAPL"
         }
        }
       }
      }
     },
     "metadata": {},
     "output_type": "display_data"
    }
   ],
   "source": [
    "plotData(historical_data, 'date', 'AAPL')\n"
   ]
  },
  {
   "cell_type": "code",
   "execution_count": 8,
   "metadata": {},
   "outputs": [
    {
     "name": "stderr",
     "output_type": "stream",
     "text": [
      "/var/folders/nv/59bkjyks06gdx0l5k1v5pqk40000gn/T/ipykernel_12526/478181316.py:5: FutureWarning:\n",
      "\n",
      "DataFrame.fillna with 'method' is deprecated and will raise in a future version. Use obj.ffill() or obj.bfill() instead.\n",
      "\n",
      "/var/folders/nv/59bkjyks06gdx0l5k1v5pqk40000gn/T/ipykernel_12526/478181316.py:6: FutureWarning:\n",
      "\n",
      "DataFrame.fillna with 'method' is deprecated and will raise in a future version. Use obj.ffill() or obj.bfill() instead.\n",
      "\n"
     ]
    },
    {
     "data": {
      "text/html": [
       "<div>\n",
       "<style scoped>\n",
       "    .dataframe tbody tr th:only-of-type {\n",
       "        vertical-align: middle;\n",
       "    }\n",
       "\n",
       "    .dataframe tbody tr th {\n",
       "        vertical-align: top;\n",
       "    }\n",
       "\n",
       "    .dataframe thead th {\n",
       "        text-align: right;\n",
       "    }\n",
       "</style>\n",
       "<table border=\"1\" class=\"dataframe\">\n",
       "  <thead>\n",
       "    <tr style=\"text-align: right;\">\n",
       "      <th></th>\n",
       "      <th>A</th>\n",
       "      <th>AAL</th>\n",
       "      <th>AAP</th>\n",
       "      <th>AAPL</th>\n",
       "      <th>ABBV</th>\n",
       "      <th>ABMD</th>\n",
       "      <th>ABT</th>\n",
       "      <th>ACN</th>\n",
       "      <th>ADBE</th>\n",
       "      <th>ADI</th>\n",
       "      <th>...</th>\n",
       "      <th>XEL</th>\n",
       "      <th>XLNX</th>\n",
       "      <th>XOM</th>\n",
       "      <th>XRAY</th>\n",
       "      <th>XYL</th>\n",
       "      <th>YUM</th>\n",
       "      <th>ZBH</th>\n",
       "      <th>ZBRA</th>\n",
       "      <th>ZION</th>\n",
       "      <th>ZTS</th>\n",
       "    </tr>\n",
       "    <tr>\n",
       "      <th>date</th>\n",
       "      <th></th>\n",
       "      <th></th>\n",
       "      <th></th>\n",
       "      <th></th>\n",
       "      <th></th>\n",
       "      <th></th>\n",
       "      <th></th>\n",
       "      <th></th>\n",
       "      <th></th>\n",
       "      <th></th>\n",
       "      <th></th>\n",
       "      <th></th>\n",
       "      <th></th>\n",
       "      <th></th>\n",
       "      <th></th>\n",
       "      <th></th>\n",
       "      <th></th>\n",
       "      <th></th>\n",
       "      <th></th>\n",
       "      <th></th>\n",
       "      <th></th>\n",
       "    </tr>\n",
       "  </thead>\n",
       "  <tbody>\n",
       "    <tr>\n",
       "      <th>2015-02-27</th>\n",
       "      <td>0.117554</td>\n",
       "      <td>-0.022043</td>\n",
       "      <td>-0.025597</td>\n",
       "      <td>0.100746</td>\n",
       "      <td>0.002486</td>\n",
       "      <td>0.174913</td>\n",
       "      <td>0.058311</td>\n",
       "      <td>0.071403</td>\n",
       "      <td>0.127905</td>\n",
       "      <td>0.131119</td>\n",
       "      <td>...</td>\n",
       "      <td>-0.059952</td>\n",
       "      <td>0.106583</td>\n",
       "      <td>0.020449</td>\n",
       "      <td>0.059670</td>\n",
       "      <td>0.051009</td>\n",
       "      <td>0.122164</td>\n",
       "      <td>0.073952</td>\n",
       "      <td>0.090942</td>\n",
       "      <td>0.117496</td>\n",
       "      <td>0.078633</td>\n",
       "    </tr>\n",
       "    <tr>\n",
       "      <th>2015-03-31</th>\n",
       "      <td>-0.013242</td>\n",
       "      <td>0.101879</td>\n",
       "      <td>-0.033433</td>\n",
       "      <td>-0.031372</td>\n",
       "      <td>-0.032397</td>\n",
       "      <td>0.177496</td>\n",
       "      <td>-0.021955</td>\n",
       "      <td>0.040653</td>\n",
       "      <td>-0.065234</td>\n",
       "      <td>0.076187</td>\n",
       "      <td>...</td>\n",
       "      <td>-0.003964</td>\n",
       "      <td>-0.001652</td>\n",
       "      <td>-0.039982</td>\n",
       "      <td>-0.038619</td>\n",
       "      <td>-0.019048</td>\n",
       "      <td>-0.029466</td>\n",
       "      <td>-0.022031</td>\n",
       "      <td>-0.003679</td>\n",
       "      <td>0.009912</td>\n",
       "      <td>0.004339</td>\n",
       "    </tr>\n",
       "    <tr>\n",
       "      <th>2015-04-30</th>\n",
       "      <td>-0.004332</td>\n",
       "      <td>-0.083270</td>\n",
       "      <td>-0.044692</td>\n",
       "      <td>0.005786</td>\n",
       "      <td>0.113748</td>\n",
       "      <td>-0.116792</td>\n",
       "      <td>0.007111</td>\n",
       "      <td>-0.000496</td>\n",
       "      <td>0.028672</td>\n",
       "      <td>-0.018413</td>\n",
       "      <td>...</td>\n",
       "      <td>-0.025855</td>\n",
       "      <td>0.025059</td>\n",
       "      <td>0.027882</td>\n",
       "      <td>0.002162</td>\n",
       "      <td>0.057110</td>\n",
       "      <td>0.097689</td>\n",
       "      <td>-0.065351</td>\n",
       "      <td>0.015047</td>\n",
       "      <td>0.049444</td>\n",
       "      <td>-0.038679</td>\n",
       "    </tr>\n",
       "    <tr>\n",
       "      <th>2015-05-29</th>\n",
       "      <td>-0.004351</td>\n",
       "      <td>-0.122502</td>\n",
       "      <td>0.071469</td>\n",
       "      <td>0.045312</td>\n",
       "      <td>0.029848</td>\n",
       "      <td>-0.055362</td>\n",
       "      <td>0.046963</td>\n",
       "      <td>0.036589</td>\n",
       "      <td>0.039837</td>\n",
       "      <td>0.105402</td>\n",
       "      <td>...</td>\n",
       "      <td>0.004129</td>\n",
       "      <td>0.101361</td>\n",
       "      <td>-0.016634</td>\n",
       "      <td>0.020294</td>\n",
       "      <td>-0.008328</td>\n",
       "      <td>0.048278</td>\n",
       "      <td>0.040736</td>\n",
       "      <td>0.190704</td>\n",
       "      <td>0.021312</td>\n",
       "      <td>0.120441</td>\n",
       "    </tr>\n",
       "    <tr>\n",
       "      <th>2015-06-30</th>\n",
       "      <td>-0.061024</td>\n",
       "      <td>-0.057470</td>\n",
       "      <td>0.040009</td>\n",
       "      <td>-0.037266</td>\n",
       "      <td>0.009010</td>\n",
       "      <td>0.100636</td>\n",
       "      <td>0.009877</td>\n",
       "      <td>0.007705</td>\n",
       "      <td>0.024276</td>\n",
       "      <td>-0.055547</td>\n",
       "      <td>...</td>\n",
       "      <td>-0.045579</td>\n",
       "      <td>-0.068747</td>\n",
       "      <td>-0.023474</td>\n",
       "      <td>-0.007945</td>\n",
       "      <td>0.013672</td>\n",
       "      <td>-0.000333</td>\n",
       "      <td>-0.042598</td>\n",
       "      <td>0.012860</td>\n",
       "      <td>0.098857</td>\n",
       "      <td>-0.031143</td>\n",
       "    </tr>\n",
       "  </tbody>\n",
       "</table>\n",
       "<p>5 rows × 490 columns</p>\n",
       "</div>"
      ],
      "text/plain": [
       "                   A       AAL       AAP      AAPL      ABBV      ABMD  \\\n",
       "date                                                                     \n",
       "2015-02-27  0.117554 -0.022043 -0.025597  0.100746  0.002486  0.174913   \n",
       "2015-03-31 -0.013242  0.101879 -0.033433 -0.031372 -0.032397  0.177496   \n",
       "2015-04-30 -0.004332 -0.083270 -0.044692  0.005786  0.113748 -0.116792   \n",
       "2015-05-29 -0.004351 -0.122502  0.071469  0.045312  0.029848 -0.055362   \n",
       "2015-06-30 -0.061024 -0.057470  0.040009 -0.037266  0.009010  0.100636   \n",
       "\n",
       "                 ABT       ACN      ADBE       ADI  ...       XEL      XLNX  \\\n",
       "date                                                ...                       \n",
       "2015-02-27  0.058311  0.071403  0.127905  0.131119  ... -0.059952  0.106583   \n",
       "2015-03-31 -0.021955  0.040653 -0.065234  0.076187  ... -0.003964 -0.001652   \n",
       "2015-04-30  0.007111 -0.000496  0.028672 -0.018413  ... -0.025855  0.025059   \n",
       "2015-05-29  0.046963  0.036589  0.039837  0.105402  ...  0.004129  0.101361   \n",
       "2015-06-30  0.009877  0.007705  0.024276 -0.055547  ... -0.045579 -0.068747   \n",
       "\n",
       "                 XOM      XRAY       XYL       YUM       ZBH      ZBRA  \\\n",
       "date                                                                     \n",
       "2015-02-27  0.020449  0.059670  0.051009  0.122164  0.073952  0.090942   \n",
       "2015-03-31 -0.039982 -0.038619 -0.019048 -0.029466 -0.022031 -0.003679   \n",
       "2015-04-30  0.027882  0.002162  0.057110  0.097689 -0.065351  0.015047   \n",
       "2015-05-29 -0.016634  0.020294 -0.008328  0.048278  0.040736  0.190704   \n",
       "2015-06-30 -0.023474 -0.007945  0.013672 -0.000333 -0.042598  0.012860   \n",
       "\n",
       "                ZION       ZTS  \n",
       "date                            \n",
       "2015-02-27  0.117496  0.078633  \n",
       "2015-03-31  0.009912  0.004339  \n",
       "2015-04-30  0.049444 -0.038679  \n",
       "2015-05-29  0.021312  0.120441  \n",
       "2015-06-30  0.098857 -0.031143  \n",
       "\n",
       "[5 rows x 490 columns]"
      ]
     },
     "execution_count": 8,
     "metadata": {},
     "output_type": "execute_result"
    }
   ],
   "source": [
    "if 'date' in historical_data.columns:\n",
    "    historical_data.set_index('date', inplace=True)\n",
    "\n",
    "# Fill NaN values\n",
    "historical_data.fillna(method='bfill', inplace=True)\n",
    "historical_data.fillna(method='ffill', inplace=True)\n",
    "\n",
    "historical_returns = handler.get_returns(historical_data)\n",
    "historical_returns.dropna(inplace=True)\n",
    "historical_returns.head()"
   ]
  },
  {
   "cell_type": "code",
   "execution_count": 9,
   "metadata": {},
   "outputs": [
    {
     "data": {
      "application/vnd.plotly.v1+json": {
       "config": {
        "plotlyServerURL": "https://plot.ly"
       },
       "data": [
        {
         "hovertemplate": "date=%{x}<br>AAPL=%{y}<extra></extra>",
         "legendgroup": "",
         "line": {
          "color": "#636efa",
          "dash": "solid"
         },
         "marker": {
          "symbol": "circle"
         },
         "mode": "lines",
         "name": "",
         "orientation": "v",
         "showlegend": false,
         "type": "scatter",
         "x": [
          "2015-02-27T00:00:00",
          "2015-03-31T00:00:00",
          "2015-04-30T00:00:00",
          "2015-05-29T00:00:00",
          "2015-06-30T00:00:00",
          "2015-07-31T00:00:00",
          "2015-08-31T00:00:00",
          "2015-09-30T00:00:00",
          "2015-10-30T00:00:00",
          "2015-11-30T00:00:00",
          "2015-12-31T00:00:00",
          "2016-01-29T00:00:00",
          "2016-02-29T00:00:00",
          "2016-03-31T00:00:00",
          "2016-04-29T00:00:00",
          "2016-05-31T00:00:00",
          "2016-06-30T00:00:00",
          "2016-07-29T00:00:00",
          "2016-08-31T00:00:00",
          "2016-09-30T00:00:00",
          "2016-10-31T00:00:00",
          "2016-11-30T00:00:00",
          "2016-12-30T00:00:00",
          "2017-01-31T00:00:00",
          "2017-02-28T00:00:00",
          "2017-03-31T00:00:00",
          "2017-04-28T00:00:00",
          "2017-05-31T00:00:00",
          "2017-06-30T00:00:00",
          "2017-07-31T00:00:00",
          "2017-08-31T00:00:00",
          "2017-09-29T00:00:00",
          "2017-10-31T00:00:00",
          "2017-11-30T00:00:00",
          "2017-12-29T00:00:00",
          "2018-01-31T00:00:00",
          "2018-02-28T00:00:00",
          "2018-03-30T00:00:00",
          "2018-04-30T00:00:00",
          "2018-05-31T00:00:00",
          "2018-06-29T00:00:00",
          "2018-07-31T00:00:00",
          "2018-08-31T00:00:00",
          "2018-09-28T00:00:00",
          "2018-10-31T00:00:00",
          "2018-11-30T00:00:00",
          "2018-12-31T00:00:00",
          "2019-01-31T00:00:00",
          "2019-02-28T00:00:00",
          "2019-03-29T00:00:00",
          "2019-04-30T00:00:00",
          "2019-05-31T00:00:00",
          "2019-06-28T00:00:00",
          "2019-07-31T00:00:00",
          "2019-08-30T00:00:00",
          "2019-09-30T00:00:00",
          "2019-10-31T00:00:00",
          "2019-11-29T00:00:00",
          "2019-12-31T00:00:00",
          "2020-01-31T00:00:00",
          "2020-02-28T00:00:00",
          "2020-03-31T00:00:00",
          "2020-04-30T00:00:00",
          "2020-05-29T00:00:00",
          "2020-06-30T00:00:00",
          "2020-07-31T00:00:00",
          "2020-08-31T00:00:00",
          "2020-09-30T00:00:00",
          "2020-10-30T00:00:00",
          "2020-11-30T00:00:00",
          "2020-12-31T00:00:00",
          "2021-01-29T00:00:00",
          "2021-02-26T00:00:00",
          "2021-03-31T00:00:00",
          "2021-04-30T00:00:00",
          "2021-05-31T00:00:00",
          "2021-06-30T00:00:00",
          "2021-07-30T00:00:00",
          "2021-08-31T00:00:00",
          "2021-09-30T00:00:00",
          "2021-10-29T00:00:00",
          "2021-11-30T00:00:00",
          "2021-12-31T00:00:00",
          "2022-01-31T00:00:00",
          "2022-02-28T00:00:00",
          "2022-03-31T00:00:00",
          "2022-04-29T00:00:00",
          "2022-05-31T00:00:00",
          "2022-06-30T00:00:00",
          "2022-07-29T00:00:00",
          "2022-08-31T00:00:00",
          "2022-09-30T00:00:00",
          "2022-10-31T00:00:00",
          "2022-11-30T00:00:00",
          "2022-12-30T00:00:00",
          "2023-01-31T00:00:00",
          "2023-02-28T00:00:00",
          "2023-03-31T00:00:00",
          "2023-04-28T00:00:00",
          "2023-05-31T00:00:00",
          "2023-06-30T00:00:00",
          "2023-07-31T00:00:00",
          "2023-08-31T00:00:00",
          "2023-09-29T00:00:00",
          "2023-10-31T00:00:00",
          "2023-11-30T00:00:00",
          "2023-12-29T00:00:00",
          "2024-01-31T00:00:00",
          "2024-02-29T00:00:00",
          "2024-03-29T00:00:00",
          "2024-04-30T00:00:00",
          "2024-05-31T00:00:00",
          "2024-06-28T00:00:00",
          "2024-07-31T00:00:00"
         ],
         "xaxis": "x",
         "y": [
          0.10074587481517816,
          -0.03137163319321079,
          0.005786385919796189,
          0.04531234401202777,
          -0.037265888854774665,
          -0.03288818018736139,
          -0.06620531262233587,
          -0.02492018446257427,
          0.08685766257389482,
          -0.00578466069755168,
          -0.11022823330515708,
          -0.0752422572677185,
          -0.0013305478523746306,
          0.12721067328575608,
          -0.13992109367831917,
          0.07179933598751753,
          -0.04265972361305914,
          0.09006276150627923,
          0.02361806267283284,
          0.06550424128181165,
          0.004334365325079137,
          -0.02154675895014313,
          0.04795512124502399,
          0.04774650319461071,
          0.13374265760010973,
          0.04868968537849483,
          -0.00006960879855166802,
          0.06776978932885536,
          -0.057213930348258946,
          0.03270379114012023,
          0.10714184975413521,
          -0.060243902439025554,
          0.096807682325462,
          0.02029004271214152,
          -0.015245853942390641,
          -0.01063641198369103,
          0.0681326236405626,
          -0.058050752301817554,
          -0.015019668613661996,
          0.13514064002690862,
          -0.009418312195643597,
          0.027983361244665383,
          0.2004346157490524,
          -0.008302947766112956,
          -0.030477540533356162,
          -0.1811876354113756,
          -0.11669839847687336,
          0.05515405096995085,
          0.04477131443214355,
          0.09702570025988999,
          0.05643590418531241,
          -0.12416574927385982,
          0.130519220883075,
          0.07639450282942595,
          -0.016430292283762138,
          0.0729615789977962,
          0.11068446666964316,
          0.07751732639685427,
          0.09878391019644561,
          0.05400987570236726,
          -0.1146725119071802,
          -0.06976148668422566,
          0.15537378583506967,
          0.0850260382912833,
          0.14738629930175473,
          0.1651315789473644,
          0.2166203258427719,
          -0.10252634841909636,
          -0.060012088766085325,
          0.09549533150699574,
          0.11457370852582804,
          -0.0055015449544059125,
          -0.07970774577741502,
          0.007339600857659834,
          0.0762177650429865,
          -0.05050556548677787,
          0.0991092207688038,
          0.06498247663551115,
          0.042496680096402395,
          -0.06803661990384169,
          0.0586572438162587,
          0.10507602592280652,
          0.07422867513611364,
          -0.01571211353268842,
          -0.054063839113950296,
          0.05747335271317833,
          -0.09713074852528492,
          -0.05450264712610531,
          -0.08142972319269237,
          0.18863370392041845,
          -0.031206133401255443,
          -0.12097697493957149,
          0.10955137481909571,
          -0.03302439567295112,
          -0.12227251232857683,
          0.11052104979603894,
          0.023179131744473613,
          0.11864866698323717,
          0.028987265009097873,
          0.04606617552540904,
          0.09433004231311726,
          0.01278548229107801,
          -0.04238428574948183,
          -0.08867834140629194,
          -0.0025699433444325015,
          0.11374697438338455,
          0.013582521716242857,
          -0.04222718537370629,
          -0.018548231475246646,
          -0.05128630705394022,
          -0.006706321436906304,
          0.13023287073907053,
          0.09555266579974253,
          0.054410787199692834
         ],
         "yaxis": "y"
        }
       ],
       "layout": {
        "height": 600,
        "legend": {
         "tracegroupgap": 0
        },
        "margin": {
         "t": 60
        },
        "template": {
         "data": {
          "bar": [
           {
            "error_x": {
             "color": "#2a3f5f"
            },
            "error_y": {
             "color": "#2a3f5f"
            },
            "marker": {
             "line": {
              "color": "#E5ECF6",
              "width": 0.5
             },
             "pattern": {
              "fillmode": "overlay",
              "size": 10,
              "solidity": 0.2
             }
            },
            "type": "bar"
           }
          ],
          "barpolar": [
           {
            "marker": {
             "line": {
              "color": "#E5ECF6",
              "width": 0.5
             },
             "pattern": {
              "fillmode": "overlay",
              "size": 10,
              "solidity": 0.2
             }
            },
            "type": "barpolar"
           }
          ],
          "carpet": [
           {
            "aaxis": {
             "endlinecolor": "#2a3f5f",
             "gridcolor": "white",
             "linecolor": "white",
             "minorgridcolor": "white",
             "startlinecolor": "#2a3f5f"
            },
            "baxis": {
             "endlinecolor": "#2a3f5f",
             "gridcolor": "white",
             "linecolor": "white",
             "minorgridcolor": "white",
             "startlinecolor": "#2a3f5f"
            },
            "type": "carpet"
           }
          ],
          "choropleth": [
           {
            "colorbar": {
             "outlinewidth": 0,
             "ticks": ""
            },
            "type": "choropleth"
           }
          ],
          "contour": [
           {
            "colorbar": {
             "outlinewidth": 0,
             "ticks": ""
            },
            "colorscale": [
             [
              0,
              "#0d0887"
             ],
             [
              0.1111111111111111,
              "#46039f"
             ],
             [
              0.2222222222222222,
              "#7201a8"
             ],
             [
              0.3333333333333333,
              "#9c179e"
             ],
             [
              0.4444444444444444,
              "#bd3786"
             ],
             [
              0.5555555555555556,
              "#d8576b"
             ],
             [
              0.6666666666666666,
              "#ed7953"
             ],
             [
              0.7777777777777778,
              "#fb9f3a"
             ],
             [
              0.8888888888888888,
              "#fdca26"
             ],
             [
              1,
              "#f0f921"
             ]
            ],
            "type": "contour"
           }
          ],
          "contourcarpet": [
           {
            "colorbar": {
             "outlinewidth": 0,
             "ticks": ""
            },
            "type": "contourcarpet"
           }
          ],
          "heatmap": [
           {
            "colorbar": {
             "outlinewidth": 0,
             "ticks": ""
            },
            "colorscale": [
             [
              0,
              "#0d0887"
             ],
             [
              0.1111111111111111,
              "#46039f"
             ],
             [
              0.2222222222222222,
              "#7201a8"
             ],
             [
              0.3333333333333333,
              "#9c179e"
             ],
             [
              0.4444444444444444,
              "#bd3786"
             ],
             [
              0.5555555555555556,
              "#d8576b"
             ],
             [
              0.6666666666666666,
              "#ed7953"
             ],
             [
              0.7777777777777778,
              "#fb9f3a"
             ],
             [
              0.8888888888888888,
              "#fdca26"
             ],
             [
              1,
              "#f0f921"
             ]
            ],
            "type": "heatmap"
           }
          ],
          "heatmapgl": [
           {
            "colorbar": {
             "outlinewidth": 0,
             "ticks": ""
            },
            "colorscale": [
             [
              0,
              "#0d0887"
             ],
             [
              0.1111111111111111,
              "#46039f"
             ],
             [
              0.2222222222222222,
              "#7201a8"
             ],
             [
              0.3333333333333333,
              "#9c179e"
             ],
             [
              0.4444444444444444,
              "#bd3786"
             ],
             [
              0.5555555555555556,
              "#d8576b"
             ],
             [
              0.6666666666666666,
              "#ed7953"
             ],
             [
              0.7777777777777778,
              "#fb9f3a"
             ],
             [
              0.8888888888888888,
              "#fdca26"
             ],
             [
              1,
              "#f0f921"
             ]
            ],
            "type": "heatmapgl"
           }
          ],
          "histogram": [
           {
            "marker": {
             "pattern": {
              "fillmode": "overlay",
              "size": 10,
              "solidity": 0.2
             }
            },
            "type": "histogram"
           }
          ],
          "histogram2d": [
           {
            "colorbar": {
             "outlinewidth": 0,
             "ticks": ""
            },
            "colorscale": [
             [
              0,
              "#0d0887"
             ],
             [
              0.1111111111111111,
              "#46039f"
             ],
             [
              0.2222222222222222,
              "#7201a8"
             ],
             [
              0.3333333333333333,
              "#9c179e"
             ],
             [
              0.4444444444444444,
              "#bd3786"
             ],
             [
              0.5555555555555556,
              "#d8576b"
             ],
             [
              0.6666666666666666,
              "#ed7953"
             ],
             [
              0.7777777777777778,
              "#fb9f3a"
             ],
             [
              0.8888888888888888,
              "#fdca26"
             ],
             [
              1,
              "#f0f921"
             ]
            ],
            "type": "histogram2d"
           }
          ],
          "histogram2dcontour": [
           {
            "colorbar": {
             "outlinewidth": 0,
             "ticks": ""
            },
            "colorscale": [
             [
              0,
              "#0d0887"
             ],
             [
              0.1111111111111111,
              "#46039f"
             ],
             [
              0.2222222222222222,
              "#7201a8"
             ],
             [
              0.3333333333333333,
              "#9c179e"
             ],
             [
              0.4444444444444444,
              "#bd3786"
             ],
             [
              0.5555555555555556,
              "#d8576b"
             ],
             [
              0.6666666666666666,
              "#ed7953"
             ],
             [
              0.7777777777777778,
              "#fb9f3a"
             ],
             [
              0.8888888888888888,
              "#fdca26"
             ],
             [
              1,
              "#f0f921"
             ]
            ],
            "type": "histogram2dcontour"
           }
          ],
          "mesh3d": [
           {
            "colorbar": {
             "outlinewidth": 0,
             "ticks": ""
            },
            "type": "mesh3d"
           }
          ],
          "parcoords": [
           {
            "line": {
             "colorbar": {
              "outlinewidth": 0,
              "ticks": ""
             }
            },
            "type": "parcoords"
           }
          ],
          "pie": [
           {
            "automargin": true,
            "type": "pie"
           }
          ],
          "scatter": [
           {
            "fillpattern": {
             "fillmode": "overlay",
             "size": 10,
             "solidity": 0.2
            },
            "type": "scatter"
           }
          ],
          "scatter3d": [
           {
            "line": {
             "colorbar": {
              "outlinewidth": 0,
              "ticks": ""
             }
            },
            "marker": {
             "colorbar": {
              "outlinewidth": 0,
              "ticks": ""
             }
            },
            "type": "scatter3d"
           }
          ],
          "scattercarpet": [
           {
            "marker": {
             "colorbar": {
              "outlinewidth": 0,
              "ticks": ""
             }
            },
            "type": "scattercarpet"
           }
          ],
          "scattergeo": [
           {
            "marker": {
             "colorbar": {
              "outlinewidth": 0,
              "ticks": ""
             }
            },
            "type": "scattergeo"
           }
          ],
          "scattergl": [
           {
            "marker": {
             "colorbar": {
              "outlinewidth": 0,
              "ticks": ""
             }
            },
            "type": "scattergl"
           }
          ],
          "scattermapbox": [
           {
            "marker": {
             "colorbar": {
              "outlinewidth": 0,
              "ticks": ""
             }
            },
            "type": "scattermapbox"
           }
          ],
          "scatterpolar": [
           {
            "marker": {
             "colorbar": {
              "outlinewidth": 0,
              "ticks": ""
             }
            },
            "type": "scatterpolar"
           }
          ],
          "scatterpolargl": [
           {
            "marker": {
             "colorbar": {
              "outlinewidth": 0,
              "ticks": ""
             }
            },
            "type": "scatterpolargl"
           }
          ],
          "scatterternary": [
           {
            "marker": {
             "colorbar": {
              "outlinewidth": 0,
              "ticks": ""
             }
            },
            "type": "scatterternary"
           }
          ],
          "surface": [
           {
            "colorbar": {
             "outlinewidth": 0,
             "ticks": ""
            },
            "colorscale": [
             [
              0,
              "#0d0887"
             ],
             [
              0.1111111111111111,
              "#46039f"
             ],
             [
              0.2222222222222222,
              "#7201a8"
             ],
             [
              0.3333333333333333,
              "#9c179e"
             ],
             [
              0.4444444444444444,
              "#bd3786"
             ],
             [
              0.5555555555555556,
              "#d8576b"
             ],
             [
              0.6666666666666666,
              "#ed7953"
             ],
             [
              0.7777777777777778,
              "#fb9f3a"
             ],
             [
              0.8888888888888888,
              "#fdca26"
             ],
             [
              1,
              "#f0f921"
             ]
            ],
            "type": "surface"
           }
          ],
          "table": [
           {
            "cells": {
             "fill": {
              "color": "#EBF0F8"
             },
             "line": {
              "color": "white"
             }
            },
            "header": {
             "fill": {
              "color": "#C8D4E3"
             },
             "line": {
              "color": "white"
             }
            },
            "type": "table"
           }
          ]
         },
         "layout": {
          "annotationdefaults": {
           "arrowcolor": "#2a3f5f",
           "arrowhead": 0,
           "arrowwidth": 1
          },
          "autotypenumbers": "strict",
          "coloraxis": {
           "colorbar": {
            "outlinewidth": 0,
            "ticks": ""
           }
          },
          "colorscale": {
           "diverging": [
            [
             0,
             "#8e0152"
            ],
            [
             0.1,
             "#c51b7d"
            ],
            [
             0.2,
             "#de77ae"
            ],
            [
             0.3,
             "#f1b6da"
            ],
            [
             0.4,
             "#fde0ef"
            ],
            [
             0.5,
             "#f7f7f7"
            ],
            [
             0.6,
             "#e6f5d0"
            ],
            [
             0.7,
             "#b8e186"
            ],
            [
             0.8,
             "#7fbc41"
            ],
            [
             0.9,
             "#4d9221"
            ],
            [
             1,
             "#276419"
            ]
           ],
           "sequential": [
            [
             0,
             "#0d0887"
            ],
            [
             0.1111111111111111,
             "#46039f"
            ],
            [
             0.2222222222222222,
             "#7201a8"
            ],
            [
             0.3333333333333333,
             "#9c179e"
            ],
            [
             0.4444444444444444,
             "#bd3786"
            ],
            [
             0.5555555555555556,
             "#d8576b"
            ],
            [
             0.6666666666666666,
             "#ed7953"
            ],
            [
             0.7777777777777778,
             "#fb9f3a"
            ],
            [
             0.8888888888888888,
             "#fdca26"
            ],
            [
             1,
             "#f0f921"
            ]
           ],
           "sequentialminus": [
            [
             0,
             "#0d0887"
            ],
            [
             0.1111111111111111,
             "#46039f"
            ],
            [
             0.2222222222222222,
             "#7201a8"
            ],
            [
             0.3333333333333333,
             "#9c179e"
            ],
            [
             0.4444444444444444,
             "#bd3786"
            ],
            [
             0.5555555555555556,
             "#d8576b"
            ],
            [
             0.6666666666666666,
             "#ed7953"
            ],
            [
             0.7777777777777778,
             "#fb9f3a"
            ],
            [
             0.8888888888888888,
             "#fdca26"
            ],
            [
             1,
             "#f0f921"
            ]
           ]
          },
          "colorway": [
           "#636efa",
           "#EF553B",
           "#00cc96",
           "#ab63fa",
           "#FFA15A",
           "#19d3f3",
           "#FF6692",
           "#B6E880",
           "#FF97FF",
           "#FECB52"
          ],
          "font": {
           "color": "#2a3f5f"
          },
          "geo": {
           "bgcolor": "white",
           "lakecolor": "white",
           "landcolor": "#E5ECF6",
           "showlakes": true,
           "showland": true,
           "subunitcolor": "white"
          },
          "hoverlabel": {
           "align": "left"
          },
          "hovermode": "closest",
          "mapbox": {
           "style": "light"
          },
          "paper_bgcolor": "white",
          "plot_bgcolor": "#E5ECF6",
          "polar": {
           "angularaxis": {
            "gridcolor": "white",
            "linecolor": "white",
            "ticks": ""
           },
           "bgcolor": "#E5ECF6",
           "radialaxis": {
            "gridcolor": "white",
            "linecolor": "white",
            "ticks": ""
           }
          },
          "scene": {
           "xaxis": {
            "backgroundcolor": "#E5ECF6",
            "gridcolor": "white",
            "gridwidth": 2,
            "linecolor": "white",
            "showbackground": true,
            "ticks": "",
            "zerolinecolor": "white"
           },
           "yaxis": {
            "backgroundcolor": "#E5ECF6",
            "gridcolor": "white",
            "gridwidth": 2,
            "linecolor": "white",
            "showbackground": true,
            "ticks": "",
            "zerolinecolor": "white"
           },
           "zaxis": {
            "backgroundcolor": "#E5ECF6",
            "gridcolor": "white",
            "gridwidth": 2,
            "linecolor": "white",
            "showbackground": true,
            "ticks": "",
            "zerolinecolor": "white"
           }
          },
          "shapedefaults": {
           "line": {
            "color": "#2a3f5f"
           }
          },
          "ternary": {
           "aaxis": {
            "gridcolor": "white",
            "linecolor": "white",
            "ticks": ""
           },
           "baxis": {
            "gridcolor": "white",
            "linecolor": "white",
            "ticks": ""
           },
           "bgcolor": "#E5ECF6",
           "caxis": {
            "gridcolor": "white",
            "linecolor": "white",
            "ticks": ""
           }
          },
          "title": {
           "x": 0.05
          },
          "xaxis": {
           "automargin": true,
           "gridcolor": "white",
           "linecolor": "white",
           "ticks": "",
           "title": {
            "standoff": 15
           },
           "zerolinecolor": "white",
           "zerolinewidth": 2
          },
          "yaxis": {
           "automargin": true,
           "gridcolor": "white",
           "linecolor": "white",
           "ticks": "",
           "title": {
            "standoff": 15
           },
           "zerolinecolor": "white",
           "zerolinewidth": 2
          }
         }
        },
        "title": {
         "text": "Historical Returns for AAPL"
        },
        "width": 1000,
        "xaxis": {
         "anchor": "y",
         "domain": [
          0,
          1
         ],
         "title": {
          "text": "date"
         }
        },
        "yaxis": {
         "anchor": "x",
         "domain": [
          0,
          1
         ],
         "title": {
          "text": "AAPL"
         }
        }
       }
      }
     },
     "metadata": {},
     "output_type": "display_data"
    }
   ],
   "source": [
    "plotData(historical_returns.reset_index(), 'date', 'AAPL', 'Historical Returns for AAPL')"
   ]
  },
  {
   "cell_type": "code",
   "execution_count": 10,
   "metadata": {},
   "outputs": [
    {
     "data": {
      "text/html": [
       "<div>\n",
       "<style scoped>\n",
       "    .dataframe tbody tr th:only-of-type {\n",
       "        vertical-align: middle;\n",
       "    }\n",
       "\n",
       "    .dataframe tbody tr th {\n",
       "        vertical-align: top;\n",
       "    }\n",
       "\n",
       "    .dataframe thead th {\n",
       "        text-align: right;\n",
       "    }\n",
       "</style>\n",
       "<table border=\"1\" class=\"dataframe\">\n",
       "  <thead>\n",
       "    <tr style=\"text-align: right;\">\n",
       "      <th></th>\n",
       "      <th>A</th>\n",
       "      <th>AAL</th>\n",
       "      <th>AAP</th>\n",
       "      <th>AAPL</th>\n",
       "      <th>ABBV</th>\n",
       "      <th>ABMD</th>\n",
       "      <th>ABT</th>\n",
       "      <th>ACN</th>\n",
       "      <th>ADBE</th>\n",
       "      <th>ADI</th>\n",
       "      <th>...</th>\n",
       "      <th>XEL</th>\n",
       "      <th>XLNX</th>\n",
       "      <th>XOM</th>\n",
       "      <th>XRAY</th>\n",
       "      <th>XYL</th>\n",
       "      <th>YUM</th>\n",
       "      <th>ZBH</th>\n",
       "      <th>ZBRA</th>\n",
       "      <th>ZION</th>\n",
       "      <th>ZTS</th>\n",
       "    </tr>\n",
       "    <tr>\n",
       "      <th>date</th>\n",
       "      <th></th>\n",
       "      <th></th>\n",
       "      <th></th>\n",
       "      <th></th>\n",
       "      <th></th>\n",
       "      <th></th>\n",
       "      <th></th>\n",
       "      <th></th>\n",
       "      <th></th>\n",
       "      <th></th>\n",
       "      <th></th>\n",
       "      <th></th>\n",
       "      <th></th>\n",
       "      <th></th>\n",
       "      <th></th>\n",
       "      <th></th>\n",
       "      <th></th>\n",
       "      <th></th>\n",
       "      <th></th>\n",
       "      <th></th>\n",
       "      <th></th>\n",
       "    </tr>\n",
       "  </thead>\n",
       "  <tbody>\n",
       "    <tr>\n",
       "      <th>2015-02-27</th>\n",
       "      <td>0.111142</td>\n",
       "      <td>-0.022289</td>\n",
       "      <td>-0.025931</td>\n",
       "      <td>0.095988</td>\n",
       "      <td>0.002482</td>\n",
       "      <td>0.161194</td>\n",
       "      <td>0.056674</td>\n",
       "      <td>0.068969</td>\n",
       "      <td>0.120362</td>\n",
       "      <td>0.123207</td>\n",
       "      <td>...</td>\n",
       "      <td>-0.061824</td>\n",
       "      <td>0.101277</td>\n",
       "      <td>0.020243</td>\n",
       "      <td>0.057958</td>\n",
       "      <td>0.049750</td>\n",
       "      <td>0.115259</td>\n",
       "      <td>0.071345</td>\n",
       "      <td>0.087041</td>\n",
       "      <td>0.111091</td>\n",
       "      <td>0.075695</td>\n",
       "    </tr>\n",
       "    <tr>\n",
       "      <th>2015-03-31</th>\n",
       "      <td>-0.013330</td>\n",
       "      <td>0.097017</td>\n",
       "      <td>-0.034004</td>\n",
       "      <td>-0.031874</td>\n",
       "      <td>-0.032933</td>\n",
       "      <td>0.163390</td>\n",
       "      <td>-0.022199</td>\n",
       "      <td>0.039849</td>\n",
       "      <td>-0.067459</td>\n",
       "      <td>0.073424</td>\n",
       "      <td>...</td>\n",
       "      <td>-0.003972</td>\n",
       "      <td>-0.001653</td>\n",
       "      <td>-0.040803</td>\n",
       "      <td>-0.039385</td>\n",
       "      <td>-0.019231</td>\n",
       "      <td>-0.029909</td>\n",
       "      <td>-0.022277</td>\n",
       "      <td>-0.003686</td>\n",
       "      <td>0.009863</td>\n",
       "      <td>0.004330</td>\n",
       "    </tr>\n",
       "    <tr>\n",
       "      <th>2015-04-30</th>\n",
       "      <td>-0.004342</td>\n",
       "      <td>-0.086942</td>\n",
       "      <td>-0.045722</td>\n",
       "      <td>0.005770</td>\n",
       "      <td>0.107731</td>\n",
       "      <td>-0.124195</td>\n",
       "      <td>0.007085</td>\n",
       "      <td>-0.000496</td>\n",
       "      <td>0.028269</td>\n",
       "      <td>-0.018584</td>\n",
       "      <td>...</td>\n",
       "      <td>-0.026195</td>\n",
       "      <td>0.024750</td>\n",
       "      <td>0.027501</td>\n",
       "      <td>0.002159</td>\n",
       "      <td>0.055539</td>\n",
       "      <td>0.093207</td>\n",
       "      <td>-0.067584</td>\n",
       "      <td>0.014935</td>\n",
       "      <td>0.048261</td>\n",
       "      <td>-0.039447</td>\n",
       "    </tr>\n",
       "    <tr>\n",
       "      <th>2015-05-29</th>\n",
       "      <td>-0.004360</td>\n",
       "      <td>-0.130680</td>\n",
       "      <td>0.069030</td>\n",
       "      <td>0.044316</td>\n",
       "      <td>0.029412</td>\n",
       "      <td>-0.056954</td>\n",
       "      <td>0.045893</td>\n",
       "      <td>0.035936</td>\n",
       "      <td>0.039064</td>\n",
       "      <td>0.100209</td>\n",
       "      <td>...</td>\n",
       "      <td>0.004120</td>\n",
       "      <td>0.096547</td>\n",
       "      <td>-0.016774</td>\n",
       "      <td>0.020091</td>\n",
       "      <td>-0.008363</td>\n",
       "      <td>0.047149</td>\n",
       "      <td>0.039928</td>\n",
       "      <td>0.174545</td>\n",
       "      <td>0.021088</td>\n",
       "      <td>0.113723</td>\n",
       "    </tr>\n",
       "    <tr>\n",
       "      <th>2015-06-30</th>\n",
       "      <td>-0.062966</td>\n",
       "      <td>-0.059187</td>\n",
       "      <td>0.039229</td>\n",
       "      <td>-0.037978</td>\n",
       "      <td>0.008970</td>\n",
       "      <td>0.095888</td>\n",
       "      <td>0.009828</td>\n",
       "      <td>0.007676</td>\n",
       "      <td>0.023986</td>\n",
       "      <td>-0.057150</td>\n",
       "      <td>...</td>\n",
       "      <td>-0.046651</td>\n",
       "      <td>-0.071225</td>\n",
       "      <td>-0.023754</td>\n",
       "      <td>-0.007977</td>\n",
       "      <td>0.013580</td>\n",
       "      <td>-0.000333</td>\n",
       "      <td>-0.043532</td>\n",
       "      <td>0.012778</td>\n",
       "      <td>0.094271</td>\n",
       "      <td>-0.031639</td>\n",
       "    </tr>\n",
       "  </tbody>\n",
       "</table>\n",
       "<p>5 rows × 490 columns</p>\n",
       "</div>"
      ],
      "text/plain": [
       "                   A       AAL       AAP      AAPL      ABBV      ABMD  \\\n",
       "date                                                                     \n",
       "2015-02-27  0.111142 -0.022289 -0.025931  0.095988  0.002482  0.161194   \n",
       "2015-03-31 -0.013330  0.097017 -0.034004 -0.031874 -0.032933  0.163390   \n",
       "2015-04-30 -0.004342 -0.086942 -0.045722  0.005770  0.107731 -0.124195   \n",
       "2015-05-29 -0.004360 -0.130680  0.069030  0.044316  0.029412 -0.056954   \n",
       "2015-06-30 -0.062966 -0.059187  0.039229 -0.037978  0.008970  0.095888   \n",
       "\n",
       "                 ABT       ACN      ADBE       ADI  ...       XEL      XLNX  \\\n",
       "date                                                ...                       \n",
       "2015-02-27  0.056674  0.068969  0.120362  0.123207  ... -0.061824  0.101277   \n",
       "2015-03-31 -0.022199  0.039849 -0.067459  0.073424  ... -0.003972 -0.001653   \n",
       "2015-04-30  0.007085 -0.000496  0.028269 -0.018584  ... -0.026195  0.024750   \n",
       "2015-05-29  0.045893  0.035936  0.039064  0.100209  ...  0.004120  0.096547   \n",
       "2015-06-30  0.009828  0.007676  0.023986 -0.057150  ... -0.046651 -0.071225   \n",
       "\n",
       "                 XOM      XRAY       XYL       YUM       ZBH      ZBRA  \\\n",
       "date                                                                     \n",
       "2015-02-27  0.020243  0.057958  0.049750  0.115259  0.071345  0.087041   \n",
       "2015-03-31 -0.040803 -0.039385 -0.019231 -0.029909 -0.022277 -0.003686   \n",
       "2015-04-30  0.027501  0.002159  0.055539  0.093207 -0.067584  0.014935   \n",
       "2015-05-29 -0.016774  0.020091 -0.008363  0.047149  0.039928  0.174545   \n",
       "2015-06-30 -0.023754 -0.007977  0.013580 -0.000333 -0.043532  0.012778   \n",
       "\n",
       "                ZION       ZTS  \n",
       "date                            \n",
       "2015-02-27  0.111091  0.075695  \n",
       "2015-03-31  0.009863  0.004330  \n",
       "2015-04-30  0.048261 -0.039447  \n",
       "2015-05-29  0.021088  0.113723  \n",
       "2015-06-30  0.094271 -0.031639  \n",
       "\n",
       "[5 rows x 490 columns]"
      ]
     },
     "execution_count": 10,
     "metadata": {},
     "output_type": "execute_result"
    }
   ],
   "source": [
    "historical_log_returns = handler.get_returns(historical_data, log=True)\n",
    "historical_log_returns.dropna(inplace=True)\n",
    "historical_log_returns.head()"
   ]
  },
  {
   "cell_type": "code",
   "execution_count": 11,
   "metadata": {},
   "outputs": [
    {
     "data": {
      "application/vnd.plotly.v1+json": {
       "config": {
        "plotlyServerURL": "https://plot.ly"
       },
       "data": [
        {
         "hovertemplate": "date=%{x}<br>AAPL=%{y}<extra></extra>",
         "legendgroup": "",
         "line": {
          "color": "#636efa",
          "dash": "solid"
         },
         "marker": {
          "symbol": "circle"
         },
         "mode": "lines",
         "name": "",
         "orientation": "v",
         "showlegend": false,
         "type": "scatter",
         "x": [
          "2015-02-27T00:00:00",
          "2015-03-31T00:00:00",
          "2015-04-30T00:00:00",
          "2015-05-29T00:00:00",
          "2015-06-30T00:00:00",
          "2015-07-31T00:00:00",
          "2015-08-31T00:00:00",
          "2015-09-30T00:00:00",
          "2015-10-30T00:00:00",
          "2015-11-30T00:00:00",
          "2015-12-31T00:00:00",
          "2016-01-29T00:00:00",
          "2016-02-29T00:00:00",
          "2016-03-31T00:00:00",
          "2016-04-29T00:00:00",
          "2016-05-31T00:00:00",
          "2016-06-30T00:00:00",
          "2016-07-29T00:00:00",
          "2016-08-31T00:00:00",
          "2016-09-30T00:00:00",
          "2016-10-31T00:00:00",
          "2016-11-30T00:00:00",
          "2016-12-30T00:00:00",
          "2017-01-31T00:00:00",
          "2017-02-28T00:00:00",
          "2017-03-31T00:00:00",
          "2017-04-28T00:00:00",
          "2017-05-31T00:00:00",
          "2017-06-30T00:00:00",
          "2017-07-31T00:00:00",
          "2017-08-31T00:00:00",
          "2017-09-29T00:00:00",
          "2017-10-31T00:00:00",
          "2017-11-30T00:00:00",
          "2017-12-29T00:00:00",
          "2018-01-31T00:00:00",
          "2018-02-28T00:00:00",
          "2018-03-30T00:00:00",
          "2018-04-30T00:00:00",
          "2018-05-31T00:00:00",
          "2018-06-29T00:00:00",
          "2018-07-31T00:00:00",
          "2018-08-31T00:00:00",
          "2018-09-28T00:00:00",
          "2018-10-31T00:00:00",
          "2018-11-30T00:00:00",
          "2018-12-31T00:00:00",
          "2019-01-31T00:00:00",
          "2019-02-28T00:00:00",
          "2019-03-29T00:00:00",
          "2019-04-30T00:00:00",
          "2019-05-31T00:00:00",
          "2019-06-28T00:00:00",
          "2019-07-31T00:00:00",
          "2019-08-30T00:00:00",
          "2019-09-30T00:00:00",
          "2019-10-31T00:00:00",
          "2019-11-29T00:00:00",
          "2019-12-31T00:00:00",
          "2020-01-31T00:00:00",
          "2020-02-28T00:00:00",
          "2020-03-31T00:00:00",
          "2020-04-30T00:00:00",
          "2020-05-29T00:00:00",
          "2020-06-30T00:00:00",
          "2020-07-31T00:00:00",
          "2020-08-31T00:00:00",
          "2020-09-30T00:00:00",
          "2020-10-30T00:00:00",
          "2020-11-30T00:00:00",
          "2020-12-31T00:00:00",
          "2021-01-29T00:00:00",
          "2021-02-26T00:00:00",
          "2021-03-31T00:00:00",
          "2021-04-30T00:00:00",
          "2021-05-31T00:00:00",
          "2021-06-30T00:00:00",
          "2021-07-30T00:00:00",
          "2021-08-31T00:00:00",
          "2021-09-30T00:00:00",
          "2021-10-29T00:00:00",
          "2021-11-30T00:00:00",
          "2021-12-31T00:00:00",
          "2022-01-31T00:00:00",
          "2022-02-28T00:00:00",
          "2022-03-31T00:00:00",
          "2022-04-29T00:00:00",
          "2022-05-31T00:00:00",
          "2022-06-30T00:00:00",
          "2022-07-29T00:00:00",
          "2022-08-31T00:00:00",
          "2022-09-30T00:00:00",
          "2022-10-31T00:00:00",
          "2022-11-30T00:00:00",
          "2022-12-30T00:00:00",
          "2023-01-31T00:00:00",
          "2023-02-28T00:00:00",
          "2023-03-31T00:00:00",
          "2023-04-28T00:00:00",
          "2023-05-31T00:00:00",
          "2023-06-30T00:00:00",
          "2023-07-31T00:00:00",
          "2023-08-31T00:00:00",
          "2023-09-29T00:00:00",
          "2023-10-31T00:00:00",
          "2023-11-30T00:00:00",
          "2023-12-29T00:00:00",
          "2024-01-31T00:00:00",
          "2024-02-29T00:00:00",
          "2024-03-29T00:00:00",
          "2024-04-30T00:00:00",
          "2024-05-31T00:00:00",
          "2024-06-28T00:00:00",
          "2024-07-31T00:00:00"
         ],
         "xaxis": "x",
         "y": [
          0.09598801803387455,
          -0.031874263042105444,
          0.005769709090245293,
          0.044315734548338,
          -0.03797801003771641,
          -0.0334411544203106,
          -0.06849868571221875,
          -0.025235949245140468,
          0.08329065437079296,
          -0.005801456651160374,
          -0.11679029105870897,
          -0.07822347552032516,
          -0.001331433817134565,
          0.11974615040576185,
          -0.15073114240666027,
          0.06933885854820776,
          -0.04359638501510852,
          0.08623527394698334,
          0.023343471369797735,
          0.06344815310404331,
          0.004324999018603046,
          -0.021782279644625098,
          0.0468407617424284,
          0.046641670374965104,
          0.12552424621905864,
          0.047541466183357424,
          -0.00006961122135651892,
          0.06557216424023316,
          -0.058915883536594965,
          0.03218040278378659,
          0.10178178441003759,
          -0.062134908066242826,
          0.09240385354984562,
          0.020086942474927313,
          -0.015363266875847475,
          -0.010693382951542723,
          0.06591191226710387,
          -0.05980388303535156,
          -0.015133606145111504,
          0.1267565551748996,
          -0.009462944962569659,
          0.027598981342321756,
          0.1826836710135631,
          -0.008337609231818257,
          -0.03095163853718248,
          -0.19990032444357692,
          -0.1240885721192258,
          0.05368677614489597,
          0.04379802360429755,
          0.09260260878520335,
          0.05490088816479225,
          -0.13257841744833973,
          0.12267701469933648,
          0.07361703286149894,
          -0.016566766474821904,
          0.07042265592247357,
          0.10497646192130912,
          0.07465962304917642,
          0.09420403206337419,
          0.05260181981186621,
          -0.1217976593805145,
          -0.07231425978566024,
          0.1444239157184006,
          0.08160398512961117,
          0.13748657246745033,
          0.15283402394250803,
          0.19607678985250424,
          -0.1081715166206688,
          -0.061888264190235465,
          0.09120661852627168,
          0.108472007615472,
          -0.005516734187965322,
          -0.0830639917514861,
          0.007312797060163452,
          0.07345282513168677,
          -0.051825610239105556,
          0.09450005243866044,
          0.06295834516265233,
          0.04161849012594288,
          -0.070461756810806,
          0.057001353999830834,
          0.09991413434308137,
          0.07160289254376254,
          -0.015836857171342165,
          -0.05558019541448846,
          0.05588243324083826,
          -0.10217752954296631,
          -0.056044190597861684,
          -0.08493686467108873,
          0.17280449953057933,
          -0.03170341768944632,
          -0.12894418703203678,
          0.10395576679717251,
          -0.033582012050751515,
          -0.13041911203074982,
          0.1048293194145148,
          0.022914575985062097,
          0.11212140950636029,
          0.0285750806908752,
          0.04503662896222389,
          0.09014234251796364,
          0.012704438074270463,
          -0.04330871483697029,
          -0.09285936106248158,
          -0.0025732513175804514,
          0.1077299831961703,
          0.01349110610761129,
          -0.043144674618748914,
          -0.018722407048959763,
          -0.05264821930909593,
          -0.006728909857294549,
          0.12242369179268348,
          0.09125895356670015,
          0.05298211536598543
         ],
         "yaxis": "y"
        }
       ],
       "layout": {
        "height": 600,
        "legend": {
         "tracegroupgap": 0
        },
        "margin": {
         "t": 60
        },
        "template": {
         "data": {
          "bar": [
           {
            "error_x": {
             "color": "#2a3f5f"
            },
            "error_y": {
             "color": "#2a3f5f"
            },
            "marker": {
             "line": {
              "color": "#E5ECF6",
              "width": 0.5
             },
             "pattern": {
              "fillmode": "overlay",
              "size": 10,
              "solidity": 0.2
             }
            },
            "type": "bar"
           }
          ],
          "barpolar": [
           {
            "marker": {
             "line": {
              "color": "#E5ECF6",
              "width": 0.5
             },
             "pattern": {
              "fillmode": "overlay",
              "size": 10,
              "solidity": 0.2
             }
            },
            "type": "barpolar"
           }
          ],
          "carpet": [
           {
            "aaxis": {
             "endlinecolor": "#2a3f5f",
             "gridcolor": "white",
             "linecolor": "white",
             "minorgridcolor": "white",
             "startlinecolor": "#2a3f5f"
            },
            "baxis": {
             "endlinecolor": "#2a3f5f",
             "gridcolor": "white",
             "linecolor": "white",
             "minorgridcolor": "white",
             "startlinecolor": "#2a3f5f"
            },
            "type": "carpet"
           }
          ],
          "choropleth": [
           {
            "colorbar": {
             "outlinewidth": 0,
             "ticks": ""
            },
            "type": "choropleth"
           }
          ],
          "contour": [
           {
            "colorbar": {
             "outlinewidth": 0,
             "ticks": ""
            },
            "colorscale": [
             [
              0,
              "#0d0887"
             ],
             [
              0.1111111111111111,
              "#46039f"
             ],
             [
              0.2222222222222222,
              "#7201a8"
             ],
             [
              0.3333333333333333,
              "#9c179e"
             ],
             [
              0.4444444444444444,
              "#bd3786"
             ],
             [
              0.5555555555555556,
              "#d8576b"
             ],
             [
              0.6666666666666666,
              "#ed7953"
             ],
             [
              0.7777777777777778,
              "#fb9f3a"
             ],
             [
              0.8888888888888888,
              "#fdca26"
             ],
             [
              1,
              "#f0f921"
             ]
            ],
            "type": "contour"
           }
          ],
          "contourcarpet": [
           {
            "colorbar": {
             "outlinewidth": 0,
             "ticks": ""
            },
            "type": "contourcarpet"
           }
          ],
          "heatmap": [
           {
            "colorbar": {
             "outlinewidth": 0,
             "ticks": ""
            },
            "colorscale": [
             [
              0,
              "#0d0887"
             ],
             [
              0.1111111111111111,
              "#46039f"
             ],
             [
              0.2222222222222222,
              "#7201a8"
             ],
             [
              0.3333333333333333,
              "#9c179e"
             ],
             [
              0.4444444444444444,
              "#bd3786"
             ],
             [
              0.5555555555555556,
              "#d8576b"
             ],
             [
              0.6666666666666666,
              "#ed7953"
             ],
             [
              0.7777777777777778,
              "#fb9f3a"
             ],
             [
              0.8888888888888888,
              "#fdca26"
             ],
             [
              1,
              "#f0f921"
             ]
            ],
            "type": "heatmap"
           }
          ],
          "heatmapgl": [
           {
            "colorbar": {
             "outlinewidth": 0,
             "ticks": ""
            },
            "colorscale": [
             [
              0,
              "#0d0887"
             ],
             [
              0.1111111111111111,
              "#46039f"
             ],
             [
              0.2222222222222222,
              "#7201a8"
             ],
             [
              0.3333333333333333,
              "#9c179e"
             ],
             [
              0.4444444444444444,
              "#bd3786"
             ],
             [
              0.5555555555555556,
              "#d8576b"
             ],
             [
              0.6666666666666666,
              "#ed7953"
             ],
             [
              0.7777777777777778,
              "#fb9f3a"
             ],
             [
              0.8888888888888888,
              "#fdca26"
             ],
             [
              1,
              "#f0f921"
             ]
            ],
            "type": "heatmapgl"
           }
          ],
          "histogram": [
           {
            "marker": {
             "pattern": {
              "fillmode": "overlay",
              "size": 10,
              "solidity": 0.2
             }
            },
            "type": "histogram"
           }
          ],
          "histogram2d": [
           {
            "colorbar": {
             "outlinewidth": 0,
             "ticks": ""
            },
            "colorscale": [
             [
              0,
              "#0d0887"
             ],
             [
              0.1111111111111111,
              "#46039f"
             ],
             [
              0.2222222222222222,
              "#7201a8"
             ],
             [
              0.3333333333333333,
              "#9c179e"
             ],
             [
              0.4444444444444444,
              "#bd3786"
             ],
             [
              0.5555555555555556,
              "#d8576b"
             ],
             [
              0.6666666666666666,
              "#ed7953"
             ],
             [
              0.7777777777777778,
              "#fb9f3a"
             ],
             [
              0.8888888888888888,
              "#fdca26"
             ],
             [
              1,
              "#f0f921"
             ]
            ],
            "type": "histogram2d"
           }
          ],
          "histogram2dcontour": [
           {
            "colorbar": {
             "outlinewidth": 0,
             "ticks": ""
            },
            "colorscale": [
             [
              0,
              "#0d0887"
             ],
             [
              0.1111111111111111,
              "#46039f"
             ],
             [
              0.2222222222222222,
              "#7201a8"
             ],
             [
              0.3333333333333333,
              "#9c179e"
             ],
             [
              0.4444444444444444,
              "#bd3786"
             ],
             [
              0.5555555555555556,
              "#d8576b"
             ],
             [
              0.6666666666666666,
              "#ed7953"
             ],
             [
              0.7777777777777778,
              "#fb9f3a"
             ],
             [
              0.8888888888888888,
              "#fdca26"
             ],
             [
              1,
              "#f0f921"
             ]
            ],
            "type": "histogram2dcontour"
           }
          ],
          "mesh3d": [
           {
            "colorbar": {
             "outlinewidth": 0,
             "ticks": ""
            },
            "type": "mesh3d"
           }
          ],
          "parcoords": [
           {
            "line": {
             "colorbar": {
              "outlinewidth": 0,
              "ticks": ""
             }
            },
            "type": "parcoords"
           }
          ],
          "pie": [
           {
            "automargin": true,
            "type": "pie"
           }
          ],
          "scatter": [
           {
            "fillpattern": {
             "fillmode": "overlay",
             "size": 10,
             "solidity": 0.2
            },
            "type": "scatter"
           }
          ],
          "scatter3d": [
           {
            "line": {
             "colorbar": {
              "outlinewidth": 0,
              "ticks": ""
             }
            },
            "marker": {
             "colorbar": {
              "outlinewidth": 0,
              "ticks": ""
             }
            },
            "type": "scatter3d"
           }
          ],
          "scattercarpet": [
           {
            "marker": {
             "colorbar": {
              "outlinewidth": 0,
              "ticks": ""
             }
            },
            "type": "scattercarpet"
           }
          ],
          "scattergeo": [
           {
            "marker": {
             "colorbar": {
              "outlinewidth": 0,
              "ticks": ""
             }
            },
            "type": "scattergeo"
           }
          ],
          "scattergl": [
           {
            "marker": {
             "colorbar": {
              "outlinewidth": 0,
              "ticks": ""
             }
            },
            "type": "scattergl"
           }
          ],
          "scattermapbox": [
           {
            "marker": {
             "colorbar": {
              "outlinewidth": 0,
              "ticks": ""
             }
            },
            "type": "scattermapbox"
           }
          ],
          "scatterpolar": [
           {
            "marker": {
             "colorbar": {
              "outlinewidth": 0,
              "ticks": ""
             }
            },
            "type": "scatterpolar"
           }
          ],
          "scatterpolargl": [
           {
            "marker": {
             "colorbar": {
              "outlinewidth": 0,
              "ticks": ""
             }
            },
            "type": "scatterpolargl"
           }
          ],
          "scatterternary": [
           {
            "marker": {
             "colorbar": {
              "outlinewidth": 0,
              "ticks": ""
             }
            },
            "type": "scatterternary"
           }
          ],
          "surface": [
           {
            "colorbar": {
             "outlinewidth": 0,
             "ticks": ""
            },
            "colorscale": [
             [
              0,
              "#0d0887"
             ],
             [
              0.1111111111111111,
              "#46039f"
             ],
             [
              0.2222222222222222,
              "#7201a8"
             ],
             [
              0.3333333333333333,
              "#9c179e"
             ],
             [
              0.4444444444444444,
              "#bd3786"
             ],
             [
              0.5555555555555556,
              "#d8576b"
             ],
             [
              0.6666666666666666,
              "#ed7953"
             ],
             [
              0.7777777777777778,
              "#fb9f3a"
             ],
             [
              0.8888888888888888,
              "#fdca26"
             ],
             [
              1,
              "#f0f921"
             ]
            ],
            "type": "surface"
           }
          ],
          "table": [
           {
            "cells": {
             "fill": {
              "color": "#EBF0F8"
             },
             "line": {
              "color": "white"
             }
            },
            "header": {
             "fill": {
              "color": "#C8D4E3"
             },
             "line": {
              "color": "white"
             }
            },
            "type": "table"
           }
          ]
         },
         "layout": {
          "annotationdefaults": {
           "arrowcolor": "#2a3f5f",
           "arrowhead": 0,
           "arrowwidth": 1
          },
          "autotypenumbers": "strict",
          "coloraxis": {
           "colorbar": {
            "outlinewidth": 0,
            "ticks": ""
           }
          },
          "colorscale": {
           "diverging": [
            [
             0,
             "#8e0152"
            ],
            [
             0.1,
             "#c51b7d"
            ],
            [
             0.2,
             "#de77ae"
            ],
            [
             0.3,
             "#f1b6da"
            ],
            [
             0.4,
             "#fde0ef"
            ],
            [
             0.5,
             "#f7f7f7"
            ],
            [
             0.6,
             "#e6f5d0"
            ],
            [
             0.7,
             "#b8e186"
            ],
            [
             0.8,
             "#7fbc41"
            ],
            [
             0.9,
             "#4d9221"
            ],
            [
             1,
             "#276419"
            ]
           ],
           "sequential": [
            [
             0,
             "#0d0887"
            ],
            [
             0.1111111111111111,
             "#46039f"
            ],
            [
             0.2222222222222222,
             "#7201a8"
            ],
            [
             0.3333333333333333,
             "#9c179e"
            ],
            [
             0.4444444444444444,
             "#bd3786"
            ],
            [
             0.5555555555555556,
             "#d8576b"
            ],
            [
             0.6666666666666666,
             "#ed7953"
            ],
            [
             0.7777777777777778,
             "#fb9f3a"
            ],
            [
             0.8888888888888888,
             "#fdca26"
            ],
            [
             1,
             "#f0f921"
            ]
           ],
           "sequentialminus": [
            [
             0,
             "#0d0887"
            ],
            [
             0.1111111111111111,
             "#46039f"
            ],
            [
             0.2222222222222222,
             "#7201a8"
            ],
            [
             0.3333333333333333,
             "#9c179e"
            ],
            [
             0.4444444444444444,
             "#bd3786"
            ],
            [
             0.5555555555555556,
             "#d8576b"
            ],
            [
             0.6666666666666666,
             "#ed7953"
            ],
            [
             0.7777777777777778,
             "#fb9f3a"
            ],
            [
             0.8888888888888888,
             "#fdca26"
            ],
            [
             1,
             "#f0f921"
            ]
           ]
          },
          "colorway": [
           "#636efa",
           "#EF553B",
           "#00cc96",
           "#ab63fa",
           "#FFA15A",
           "#19d3f3",
           "#FF6692",
           "#B6E880",
           "#FF97FF",
           "#FECB52"
          ],
          "font": {
           "color": "#2a3f5f"
          },
          "geo": {
           "bgcolor": "white",
           "lakecolor": "white",
           "landcolor": "#E5ECF6",
           "showlakes": true,
           "showland": true,
           "subunitcolor": "white"
          },
          "hoverlabel": {
           "align": "left"
          },
          "hovermode": "closest",
          "mapbox": {
           "style": "light"
          },
          "paper_bgcolor": "white",
          "plot_bgcolor": "#E5ECF6",
          "polar": {
           "angularaxis": {
            "gridcolor": "white",
            "linecolor": "white",
            "ticks": ""
           },
           "bgcolor": "#E5ECF6",
           "radialaxis": {
            "gridcolor": "white",
            "linecolor": "white",
            "ticks": ""
           }
          },
          "scene": {
           "xaxis": {
            "backgroundcolor": "#E5ECF6",
            "gridcolor": "white",
            "gridwidth": 2,
            "linecolor": "white",
            "showbackground": true,
            "ticks": "",
            "zerolinecolor": "white"
           },
           "yaxis": {
            "backgroundcolor": "#E5ECF6",
            "gridcolor": "white",
            "gridwidth": 2,
            "linecolor": "white",
            "showbackground": true,
            "ticks": "",
            "zerolinecolor": "white"
           },
           "zaxis": {
            "backgroundcolor": "#E5ECF6",
            "gridcolor": "white",
            "gridwidth": 2,
            "linecolor": "white",
            "showbackground": true,
            "ticks": "",
            "zerolinecolor": "white"
           }
          },
          "shapedefaults": {
           "line": {
            "color": "#2a3f5f"
           }
          },
          "ternary": {
           "aaxis": {
            "gridcolor": "white",
            "linecolor": "white",
            "ticks": ""
           },
           "baxis": {
            "gridcolor": "white",
            "linecolor": "white",
            "ticks": ""
           },
           "bgcolor": "#E5ECF6",
           "caxis": {
            "gridcolor": "white",
            "linecolor": "white",
            "ticks": ""
           }
          },
          "title": {
           "x": 0.05
          },
          "xaxis": {
           "automargin": true,
           "gridcolor": "white",
           "linecolor": "white",
           "ticks": "",
           "title": {
            "standoff": 15
           },
           "zerolinecolor": "white",
           "zerolinewidth": 2
          },
          "yaxis": {
           "automargin": true,
           "gridcolor": "white",
           "linecolor": "white",
           "ticks": "",
           "title": {
            "standoff": 15
           },
           "zerolinecolor": "white",
           "zerolinewidth": 2
          }
         }
        },
        "title": {
         "text": "Historical Log-returns for AAPL"
        },
        "width": 1000,
        "xaxis": {
         "anchor": "y",
         "domain": [
          0,
          1
         ],
         "title": {
          "text": "date"
         }
        },
        "yaxis": {
         "anchor": "x",
         "domain": [
          0,
          1
         ],
         "title": {
          "text": "AAPL"
         }
        }
       }
      }
     },
     "metadata": {},
     "output_type": "display_data"
    }
   ],
   "source": [
    "plotData(historical_log_returns.reset_index(), 'date', 'AAPL', 'Historical Log-returns for AAPL')"
   ]
  },
  {
   "cell_type": "code",
   "execution_count": 12,
   "metadata": {},
   "outputs": [
    {
     "data": {
      "text/html": [
       "<div>\n",
       "<style scoped>\n",
       "    .dataframe tbody tr th:only-of-type {\n",
       "        vertical-align: middle;\n",
       "    }\n",
       "\n",
       "    .dataframe tbody tr th {\n",
       "        vertical-align: top;\n",
       "    }\n",
       "\n",
       "    .dataframe thead th {\n",
       "        text-align: right;\n",
       "    }\n",
       "</style>\n",
       "<table border=\"1\" class=\"dataframe\">\n",
       "  <thead>\n",
       "    <tr style=\"text-align: right;\">\n",
       "      <th></th>\n",
       "      <th>A</th>\n",
       "      <th>AAL</th>\n",
       "      <th>AAP</th>\n",
       "      <th>AAPL</th>\n",
       "      <th>ABBV</th>\n",
       "      <th>ABMD</th>\n",
       "      <th>ABT</th>\n",
       "      <th>ACN</th>\n",
       "      <th>ADBE</th>\n",
       "      <th>ADI</th>\n",
       "      <th>...</th>\n",
       "      <th>XEL</th>\n",
       "      <th>XLNX</th>\n",
       "      <th>XOM</th>\n",
       "      <th>XRAY</th>\n",
       "      <th>XYL</th>\n",
       "      <th>YUM</th>\n",
       "      <th>ZBH</th>\n",
       "      <th>ZBRA</th>\n",
       "      <th>ZION</th>\n",
       "      <th>ZTS</th>\n",
       "    </tr>\n",
       "    <tr>\n",
       "      <th>date</th>\n",
       "      <th></th>\n",
       "      <th></th>\n",
       "      <th></th>\n",
       "      <th></th>\n",
       "      <th></th>\n",
       "      <th></th>\n",
       "      <th></th>\n",
       "      <th></th>\n",
       "      <th></th>\n",
       "      <th></th>\n",
       "      <th></th>\n",
       "      <th></th>\n",
       "      <th></th>\n",
       "      <th></th>\n",
       "      <th></th>\n",
       "      <th></th>\n",
       "      <th></th>\n",
       "      <th></th>\n",
       "      <th></th>\n",
       "      <th></th>\n",
       "      <th></th>\n",
       "    </tr>\n",
       "  </thead>\n",
       "  <tbody>\n",
       "    <tr>\n",
       "      <th>2015-02-27</th>\n",
       "      <td>0</td>\n",
       "      <td>0</td>\n",
       "      <td>0</td>\n",
       "      <td>0</td>\n",
       "      <td>0</td>\n",
       "      <td>0</td>\n",
       "      <td>0</td>\n",
       "      <td>0</td>\n",
       "      <td>0</td>\n",
       "      <td>0</td>\n",
       "      <td>...</td>\n",
       "      <td>0</td>\n",
       "      <td>0</td>\n",
       "      <td>0</td>\n",
       "      <td>0</td>\n",
       "      <td>0</td>\n",
       "      <td>0</td>\n",
       "      <td>0</td>\n",
       "      <td>0</td>\n",
       "      <td>0</td>\n",
       "      <td>0</td>\n",
       "    </tr>\n",
       "    <tr>\n",
       "      <th>2015-03-31</th>\n",
       "      <td>0</td>\n",
       "      <td>0</td>\n",
       "      <td>0</td>\n",
       "      <td>0</td>\n",
       "      <td>0</td>\n",
       "      <td>0</td>\n",
       "      <td>0</td>\n",
       "      <td>0</td>\n",
       "      <td>0</td>\n",
       "      <td>0</td>\n",
       "      <td>...</td>\n",
       "      <td>0</td>\n",
       "      <td>0</td>\n",
       "      <td>0</td>\n",
       "      <td>0</td>\n",
       "      <td>0</td>\n",
       "      <td>0</td>\n",
       "      <td>0</td>\n",
       "      <td>0</td>\n",
       "      <td>0</td>\n",
       "      <td>0</td>\n",
       "    </tr>\n",
       "    <tr>\n",
       "      <th>2015-04-30</th>\n",
       "      <td>0</td>\n",
       "      <td>0</td>\n",
       "      <td>0</td>\n",
       "      <td>0</td>\n",
       "      <td>0</td>\n",
       "      <td>0</td>\n",
       "      <td>0</td>\n",
       "      <td>0</td>\n",
       "      <td>0</td>\n",
       "      <td>0</td>\n",
       "      <td>...</td>\n",
       "      <td>0</td>\n",
       "      <td>0</td>\n",
       "      <td>0</td>\n",
       "      <td>0</td>\n",
       "      <td>0</td>\n",
       "      <td>0</td>\n",
       "      <td>0</td>\n",
       "      <td>0</td>\n",
       "      <td>0</td>\n",
       "      <td>0</td>\n",
       "    </tr>\n",
       "    <tr>\n",
       "      <th>2015-05-29</th>\n",
       "      <td>0</td>\n",
       "      <td>0</td>\n",
       "      <td>0</td>\n",
       "      <td>0</td>\n",
       "      <td>0</td>\n",
       "      <td>0</td>\n",
       "      <td>0</td>\n",
       "      <td>0</td>\n",
       "      <td>0</td>\n",
       "      <td>0</td>\n",
       "      <td>...</td>\n",
       "      <td>0</td>\n",
       "      <td>0</td>\n",
       "      <td>0</td>\n",
       "      <td>0</td>\n",
       "      <td>0</td>\n",
       "      <td>0</td>\n",
       "      <td>0</td>\n",
       "      <td>0</td>\n",
       "      <td>0</td>\n",
       "      <td>0</td>\n",
       "    </tr>\n",
       "    <tr>\n",
       "      <th>2015-06-30</th>\n",
       "      <td>0</td>\n",
       "      <td>0</td>\n",
       "      <td>0</td>\n",
       "      <td>0</td>\n",
       "      <td>0</td>\n",
       "      <td>0</td>\n",
       "      <td>0</td>\n",
       "      <td>0</td>\n",
       "      <td>0</td>\n",
       "      <td>0</td>\n",
       "      <td>...</td>\n",
       "      <td>0</td>\n",
       "      <td>0</td>\n",
       "      <td>0</td>\n",
       "      <td>0</td>\n",
       "      <td>0</td>\n",
       "      <td>0</td>\n",
       "      <td>0</td>\n",
       "      <td>0</td>\n",
       "      <td>0</td>\n",
       "      <td>0</td>\n",
       "    </tr>\n",
       "  </tbody>\n",
       "</table>\n",
       "<p>5 rows × 490 columns</p>\n",
       "</div>"
      ],
      "text/plain": [
       "            A  AAL  AAP  AAPL  ABBV  ABMD  ABT  ACN  ADBE  ADI  ...  XEL  \\\n",
       "date                                                            ...        \n",
       "2015-02-27  0    0    0     0     0     0    0    0     0    0  ...    0   \n",
       "2015-03-31  0    0    0     0     0     0    0    0     0    0  ...    0   \n",
       "2015-04-30  0    0    0     0     0     0    0    0     0    0  ...    0   \n",
       "2015-05-29  0    0    0     0     0     0    0    0     0    0  ...    0   \n",
       "2015-06-30  0    0    0     0     0     0    0    0     0    0  ...    0   \n",
       "\n",
       "            XLNX  XOM  XRAY  XYL  YUM  ZBH  ZBRA  ZION  ZTS  \n",
       "date                                                         \n",
       "2015-02-27     0    0     0    0    0    0     0     0    0  \n",
       "2015-03-31     0    0     0    0    0    0     0     0    0  \n",
       "2015-04-30     0    0     0    0    0    0     0     0    0  \n",
       "2015-05-29     0    0     0    0    0    0     0     0    0  \n",
       "2015-06-30     0    0     0    0    0    0     0     0    0  \n",
       "\n",
       "[5 rows x 490 columns]"
      ]
     },
     "execution_count": 12,
     "metadata": {},
     "output_type": "execute_result"
    }
   ],
   "source": [
    "signal_df = pd.DataFrame(0, index=historical_log_returns.index, columns=historical_log_returns.columns)\n",
    "signal_df.head()"
   ]
  },
  {
   "cell_type": "code",
   "execution_count": 13,
   "metadata": {},
   "outputs": [],
   "source": [
    "def get_top_n(df_returns: pd.DataFrame, n: int) -> pd.DataFrame:\n",
    "    \"\"\"\n",
    "    Create a DataFrame marking the top n performing tickers for each date.\n",
    "\n",
    "    :param df_returns: DataFrame of returns, with dates as index and tickers as columns\n",
    "    :param n: Number of top performers to select for each date\n",
    "    :return: DataFrame with 1 for top n performers and 0 for others\n",
    "    \"\"\"\n",
    "    # Initialize a DataFrame with zeros, same shape as input\n",
    "    top_tickers_df = pd.DataFrame(0, index=df_returns.index, columns=df_returns.columns)\n",
    "    \n",
    "    # Get the indices of top n values for each row\n",
    "    top_n_indices = df_returns.apply(lambda x: x.nlargest(n).index, axis=1)\n",
    "    \n",
    "    # Set values to 1 for top n performers\n",
    "    for date, tickers in top_n_indices.items():\n",
    "        top_tickers_df.loc[date, tickers] = 1\n",
    "    \n",
    "    return top_tickers_df\n"
   ]
  },
  {
   "cell_type": "code",
   "execution_count": 14,
   "metadata": {},
   "outputs": [
    {
     "data": {
      "text/html": [
       "<div>\n",
       "<style scoped>\n",
       "    .dataframe tbody tr th:only-of-type {\n",
       "        vertical-align: middle;\n",
       "    }\n",
       "\n",
       "    .dataframe tbody tr th {\n",
       "        vertical-align: top;\n",
       "    }\n",
       "\n",
       "    .dataframe thead th {\n",
       "        text-align: right;\n",
       "    }\n",
       "</style>\n",
       "<table border=\"1\" class=\"dataframe\">\n",
       "  <thead>\n",
       "    <tr style=\"text-align: right;\">\n",
       "      <th></th>\n",
       "      <th>A</th>\n",
       "      <th>AAL</th>\n",
       "      <th>AAP</th>\n",
       "      <th>AAPL</th>\n",
       "      <th>ABBV</th>\n",
       "      <th>ABMD</th>\n",
       "      <th>ABT</th>\n",
       "      <th>ACN</th>\n",
       "      <th>ADBE</th>\n",
       "      <th>ADI</th>\n",
       "      <th>...</th>\n",
       "      <th>XEL</th>\n",
       "      <th>XLNX</th>\n",
       "      <th>XOM</th>\n",
       "      <th>XRAY</th>\n",
       "      <th>XYL</th>\n",
       "      <th>YUM</th>\n",
       "      <th>ZBH</th>\n",
       "      <th>ZBRA</th>\n",
       "      <th>ZION</th>\n",
       "      <th>ZTS</th>\n",
       "    </tr>\n",
       "    <tr>\n",
       "      <th>date</th>\n",
       "      <th></th>\n",
       "      <th></th>\n",
       "      <th></th>\n",
       "      <th></th>\n",
       "      <th></th>\n",
       "      <th></th>\n",
       "      <th></th>\n",
       "      <th></th>\n",
       "      <th></th>\n",
       "      <th></th>\n",
       "      <th></th>\n",
       "      <th></th>\n",
       "      <th></th>\n",
       "      <th></th>\n",
       "      <th></th>\n",
       "      <th></th>\n",
       "      <th></th>\n",
       "      <th></th>\n",
       "      <th></th>\n",
       "      <th></th>\n",
       "      <th></th>\n",
       "    </tr>\n",
       "  </thead>\n",
       "  <tbody>\n",
       "    <tr>\n",
       "      <th>2015-02-27</th>\n",
       "      <td>0</td>\n",
       "      <td>0</td>\n",
       "      <td>0</td>\n",
       "      <td>0</td>\n",
       "      <td>0</td>\n",
       "      <td>1</td>\n",
       "      <td>0</td>\n",
       "      <td>0</td>\n",
       "      <td>0</td>\n",
       "      <td>0</td>\n",
       "      <td>...</td>\n",
       "      <td>0</td>\n",
       "      <td>0</td>\n",
       "      <td>0</td>\n",
       "      <td>0</td>\n",
       "      <td>0</td>\n",
       "      <td>0</td>\n",
       "      <td>0</td>\n",
       "      <td>0</td>\n",
       "      <td>0</td>\n",
       "      <td>0</td>\n",
       "    </tr>\n",
       "    <tr>\n",
       "      <th>2015-03-31</th>\n",
       "      <td>0</td>\n",
       "      <td>1</td>\n",
       "      <td>0</td>\n",
       "      <td>0</td>\n",
       "      <td>0</td>\n",
       "      <td>1</td>\n",
       "      <td>0</td>\n",
       "      <td>0</td>\n",
       "      <td>0</td>\n",
       "      <td>1</td>\n",
       "      <td>...</td>\n",
       "      <td>0</td>\n",
       "      <td>0</td>\n",
       "      <td>0</td>\n",
       "      <td>0</td>\n",
       "      <td>0</td>\n",
       "      <td>0</td>\n",
       "      <td>0</td>\n",
       "      <td>0</td>\n",
       "      <td>0</td>\n",
       "      <td>0</td>\n",
       "    </tr>\n",
       "    <tr>\n",
       "      <th>2015-04-30</th>\n",
       "      <td>0</td>\n",
       "      <td>0</td>\n",
       "      <td>0</td>\n",
       "      <td>0</td>\n",
       "      <td>1</td>\n",
       "      <td>0</td>\n",
       "      <td>0</td>\n",
       "      <td>0</td>\n",
       "      <td>0</td>\n",
       "      <td>0</td>\n",
       "      <td>...</td>\n",
       "      <td>0</td>\n",
       "      <td>0</td>\n",
       "      <td>0</td>\n",
       "      <td>0</td>\n",
       "      <td>0</td>\n",
       "      <td>1</td>\n",
       "      <td>0</td>\n",
       "      <td>0</td>\n",
       "      <td>0</td>\n",
       "      <td>0</td>\n",
       "    </tr>\n",
       "    <tr>\n",
       "      <th>2015-05-29</th>\n",
       "      <td>0</td>\n",
       "      <td>0</td>\n",
       "      <td>0</td>\n",
       "      <td>0</td>\n",
       "      <td>0</td>\n",
       "      <td>0</td>\n",
       "      <td>0</td>\n",
       "      <td>0</td>\n",
       "      <td>0</td>\n",
       "      <td>1</td>\n",
       "      <td>...</td>\n",
       "      <td>0</td>\n",
       "      <td>1</td>\n",
       "      <td>0</td>\n",
       "      <td>0</td>\n",
       "      <td>0</td>\n",
       "      <td>0</td>\n",
       "      <td>0</td>\n",
       "      <td>1</td>\n",
       "      <td>0</td>\n",
       "      <td>1</td>\n",
       "    </tr>\n",
       "    <tr>\n",
       "      <th>2015-06-30</th>\n",
       "      <td>0</td>\n",
       "      <td>0</td>\n",
       "      <td>0</td>\n",
       "      <td>0</td>\n",
       "      <td>0</td>\n",
       "      <td>1</td>\n",
       "      <td>0</td>\n",
       "      <td>0</td>\n",
       "      <td>0</td>\n",
       "      <td>0</td>\n",
       "      <td>...</td>\n",
       "      <td>0</td>\n",
       "      <td>0</td>\n",
       "      <td>0</td>\n",
       "      <td>0</td>\n",
       "      <td>0</td>\n",
       "      <td>0</td>\n",
       "      <td>0</td>\n",
       "      <td>0</td>\n",
       "      <td>1</td>\n",
       "      <td>0</td>\n",
       "    </tr>\n",
       "  </tbody>\n",
       "</table>\n",
       "<p>5 rows × 490 columns</p>\n",
       "</div>"
      ],
      "text/plain": [
       "            A  AAL  AAP  AAPL  ABBV  ABMD  ABT  ACN  ADBE  ADI  ...  XEL  \\\n",
       "date                                                            ...        \n",
       "2015-02-27  0    0    0     0     0     1    0    0     0    0  ...    0   \n",
       "2015-03-31  0    1    0     0     0     1    0    0     0    1  ...    0   \n",
       "2015-04-30  0    0    0     0     1     0    0    0     0    0  ...    0   \n",
       "2015-05-29  0    0    0     0     0     0    0    0     0    1  ...    0   \n",
       "2015-06-30  0    0    0     0     0     1    0    0     0    0  ...    0   \n",
       "\n",
       "            XLNX  XOM  XRAY  XYL  YUM  ZBH  ZBRA  ZION  ZTS  \n",
       "date                                                         \n",
       "2015-02-27     0    0     0    0    0    0     0     0    0  \n",
       "2015-03-31     0    0     0    0    0    0     0     0    0  \n",
       "2015-04-30     0    0     0    0    1    0     0     0    0  \n",
       "2015-05-29     1    0     0    0    0    0     1     0    1  \n",
       "2015-06-30     0    0     0    0    0    0     0     1    0  \n",
       "\n",
       "[5 rows x 490 columns]"
      ]
     },
     "execution_count": 14,
     "metadata": {},
     "output_type": "execute_result"
    }
   ],
   "source": [
    "longs_df = get_top_n(historical_log_returns, 50)\n",
    "longs_df.head()"
   ]
  },
  {
   "cell_type": "code",
   "execution_count": 15,
   "metadata": {},
   "outputs": [
    {
     "data": {
      "text/html": [
       "<div>\n",
       "<style scoped>\n",
       "    .dataframe tbody tr th:only-of-type {\n",
       "        vertical-align: middle;\n",
       "    }\n",
       "\n",
       "    .dataframe tbody tr th {\n",
       "        vertical-align: top;\n",
       "    }\n",
       "\n",
       "    .dataframe thead th {\n",
       "        text-align: right;\n",
       "    }\n",
       "</style>\n",
       "<table border=\"1\" class=\"dataframe\">\n",
       "  <thead>\n",
       "    <tr style=\"text-align: right;\">\n",
       "      <th></th>\n",
       "      <th>A</th>\n",
       "      <th>AAL</th>\n",
       "      <th>AAP</th>\n",
       "      <th>AAPL</th>\n",
       "      <th>ABBV</th>\n",
       "      <th>ABMD</th>\n",
       "      <th>ABT</th>\n",
       "      <th>ACN</th>\n",
       "      <th>ADBE</th>\n",
       "      <th>ADI</th>\n",
       "      <th>...</th>\n",
       "      <th>XEL</th>\n",
       "      <th>XLNX</th>\n",
       "      <th>XOM</th>\n",
       "      <th>XRAY</th>\n",
       "      <th>XYL</th>\n",
       "      <th>YUM</th>\n",
       "      <th>ZBH</th>\n",
       "      <th>ZBRA</th>\n",
       "      <th>ZION</th>\n",
       "      <th>ZTS</th>\n",
       "    </tr>\n",
       "    <tr>\n",
       "      <th>date</th>\n",
       "      <th></th>\n",
       "      <th></th>\n",
       "      <th></th>\n",
       "      <th></th>\n",
       "      <th></th>\n",
       "      <th></th>\n",
       "      <th></th>\n",
       "      <th></th>\n",
       "      <th></th>\n",
       "      <th></th>\n",
       "      <th></th>\n",
       "      <th></th>\n",
       "      <th></th>\n",
       "      <th></th>\n",
       "      <th></th>\n",
       "      <th></th>\n",
       "      <th></th>\n",
       "      <th></th>\n",
       "      <th></th>\n",
       "      <th></th>\n",
       "      <th></th>\n",
       "    </tr>\n",
       "  </thead>\n",
       "  <tbody>\n",
       "    <tr>\n",
       "      <th>2015-02-27</th>\n",
       "      <td>0</td>\n",
       "      <td>0</td>\n",
       "      <td>0</td>\n",
       "      <td>0</td>\n",
       "      <td>0</td>\n",
       "      <td>0</td>\n",
       "      <td>0</td>\n",
       "      <td>0</td>\n",
       "      <td>0</td>\n",
       "      <td>0</td>\n",
       "      <td>...</td>\n",
       "      <td>1</td>\n",
       "      <td>0</td>\n",
       "      <td>0</td>\n",
       "      <td>0</td>\n",
       "      <td>0</td>\n",
       "      <td>0</td>\n",
       "      <td>0</td>\n",
       "      <td>0</td>\n",
       "      <td>0</td>\n",
       "      <td>0</td>\n",
       "    </tr>\n",
       "    <tr>\n",
       "      <th>2015-03-31</th>\n",
       "      <td>0</td>\n",
       "      <td>0</td>\n",
       "      <td>0</td>\n",
       "      <td>0</td>\n",
       "      <td>0</td>\n",
       "      <td>0</td>\n",
       "      <td>0</td>\n",
       "      <td>0</td>\n",
       "      <td>1</td>\n",
       "      <td>0</td>\n",
       "      <td>...</td>\n",
       "      <td>0</td>\n",
       "      <td>0</td>\n",
       "      <td>0</td>\n",
       "      <td>0</td>\n",
       "      <td>0</td>\n",
       "      <td>0</td>\n",
       "      <td>0</td>\n",
       "      <td>0</td>\n",
       "      <td>0</td>\n",
       "      <td>0</td>\n",
       "    </tr>\n",
       "    <tr>\n",
       "      <th>2015-04-30</th>\n",
       "      <td>0</td>\n",
       "      <td>1</td>\n",
       "      <td>0</td>\n",
       "      <td>0</td>\n",
       "      <td>0</td>\n",
       "      <td>1</td>\n",
       "      <td>0</td>\n",
       "      <td>0</td>\n",
       "      <td>0</td>\n",
       "      <td>0</td>\n",
       "      <td>...</td>\n",
       "      <td>0</td>\n",
       "      <td>0</td>\n",
       "      <td>0</td>\n",
       "      <td>0</td>\n",
       "      <td>0</td>\n",
       "      <td>0</td>\n",
       "      <td>0</td>\n",
       "      <td>0</td>\n",
       "      <td>0</td>\n",
       "      <td>0</td>\n",
       "    </tr>\n",
       "    <tr>\n",
       "      <th>2015-05-29</th>\n",
       "      <td>0</td>\n",
       "      <td>1</td>\n",
       "      <td>0</td>\n",
       "      <td>0</td>\n",
       "      <td>0</td>\n",
       "      <td>1</td>\n",
       "      <td>0</td>\n",
       "      <td>0</td>\n",
       "      <td>0</td>\n",
       "      <td>0</td>\n",
       "      <td>...</td>\n",
       "      <td>0</td>\n",
       "      <td>0</td>\n",
       "      <td>0</td>\n",
       "      <td>0</td>\n",
       "      <td>0</td>\n",
       "      <td>0</td>\n",
       "      <td>0</td>\n",
       "      <td>0</td>\n",
       "      <td>0</td>\n",
       "      <td>0</td>\n",
       "    </tr>\n",
       "    <tr>\n",
       "      <th>2015-06-30</th>\n",
       "      <td>0</td>\n",
       "      <td>0</td>\n",
       "      <td>0</td>\n",
       "      <td>0</td>\n",
       "      <td>0</td>\n",
       "      <td>0</td>\n",
       "      <td>0</td>\n",
       "      <td>0</td>\n",
       "      <td>0</td>\n",
       "      <td>0</td>\n",
       "      <td>...</td>\n",
       "      <td>0</td>\n",
       "      <td>0</td>\n",
       "      <td>0</td>\n",
       "      <td>0</td>\n",
       "      <td>0</td>\n",
       "      <td>0</td>\n",
       "      <td>0</td>\n",
       "      <td>0</td>\n",
       "      <td>0</td>\n",
       "      <td>0</td>\n",
       "    </tr>\n",
       "  </tbody>\n",
       "</table>\n",
       "<p>5 rows × 490 columns</p>\n",
       "</div>"
      ],
      "text/plain": [
       "            A  AAL  AAP  AAPL  ABBV  ABMD  ABT  ACN  ADBE  ADI  ...  XEL  \\\n",
       "date                                                            ...        \n",
       "2015-02-27  0    0    0     0     0     0    0    0     0    0  ...    1   \n",
       "2015-03-31  0    0    0     0     0     0    0    0     1    0  ...    0   \n",
       "2015-04-30  0    1    0     0     0     1    0    0     0    0  ...    0   \n",
       "2015-05-29  0    1    0     0     0     1    0    0     0    0  ...    0   \n",
       "2015-06-30  0    0    0     0     0     0    0    0     0    0  ...    0   \n",
       "\n",
       "            XLNX  XOM  XRAY  XYL  YUM  ZBH  ZBRA  ZION  ZTS  \n",
       "date                                                         \n",
       "2015-02-27     0    0     0    0    0    0     0     0    0  \n",
       "2015-03-31     0    0     0    0    0    0     0     0    0  \n",
       "2015-04-30     0    0     0    0    0    0     0     0    0  \n",
       "2015-05-29     0    0     0    0    0    0     0     0    0  \n",
       "2015-06-30     0    0     0    0    0    0     0     0    0  \n",
       "\n",
       "[5 rows x 490 columns]"
      ]
     },
     "execution_count": 15,
     "metadata": {},
     "output_type": "execute_result"
    }
   ],
   "source": [
    "shorts_df = get_top_n(-1*historical_log_returns, 50)\n",
    "shorts_df.head()"
   ]
  },
  {
   "cell_type": "code",
   "execution_count": 16,
   "metadata": {},
   "outputs": [
    {
     "data": {
      "text/html": [
       "<div>\n",
       "<style scoped>\n",
       "    .dataframe tbody tr th:only-of-type {\n",
       "        vertical-align: middle;\n",
       "    }\n",
       "\n",
       "    .dataframe tbody tr th {\n",
       "        vertical-align: top;\n",
       "    }\n",
       "\n",
       "    .dataframe thead th {\n",
       "        text-align: right;\n",
       "    }\n",
       "</style>\n",
       "<table border=\"1\" class=\"dataframe\">\n",
       "  <thead>\n",
       "    <tr style=\"text-align: right;\">\n",
       "      <th></th>\n",
       "      <th>A</th>\n",
       "      <th>AAL</th>\n",
       "      <th>AAP</th>\n",
       "      <th>AAPL</th>\n",
       "      <th>ABBV</th>\n",
       "      <th>ABMD</th>\n",
       "      <th>ABT</th>\n",
       "      <th>ACN</th>\n",
       "      <th>ADBE</th>\n",
       "      <th>ADI</th>\n",
       "      <th>...</th>\n",
       "      <th>XEL</th>\n",
       "      <th>XLNX</th>\n",
       "      <th>XOM</th>\n",
       "      <th>XRAY</th>\n",
       "      <th>XYL</th>\n",
       "      <th>YUM</th>\n",
       "      <th>ZBH</th>\n",
       "      <th>ZBRA</th>\n",
       "      <th>ZION</th>\n",
       "      <th>ZTS</th>\n",
       "    </tr>\n",
       "    <tr>\n",
       "      <th>date</th>\n",
       "      <th></th>\n",
       "      <th></th>\n",
       "      <th></th>\n",
       "      <th></th>\n",
       "      <th></th>\n",
       "      <th></th>\n",
       "      <th></th>\n",
       "      <th></th>\n",
       "      <th></th>\n",
       "      <th></th>\n",
       "      <th></th>\n",
       "      <th></th>\n",
       "      <th></th>\n",
       "      <th></th>\n",
       "      <th></th>\n",
       "      <th></th>\n",
       "      <th></th>\n",
       "      <th></th>\n",
       "      <th></th>\n",
       "      <th></th>\n",
       "      <th></th>\n",
       "    </tr>\n",
       "  </thead>\n",
       "  <tbody>\n",
       "    <tr>\n",
       "      <th>2015-02-27</th>\n",
       "      <td>-0.013330</td>\n",
       "      <td>0.097017</td>\n",
       "      <td>-0.034004</td>\n",
       "      <td>-0.031874</td>\n",
       "      <td>-0.032933</td>\n",
       "      <td>0.163390</td>\n",
       "      <td>-0.022199</td>\n",
       "      <td>0.039849</td>\n",
       "      <td>-0.067459</td>\n",
       "      <td>0.073424</td>\n",
       "      <td>...</td>\n",
       "      <td>-0.003972</td>\n",
       "      <td>-0.001653</td>\n",
       "      <td>-0.040803</td>\n",
       "      <td>-0.039385</td>\n",
       "      <td>-0.019231</td>\n",
       "      <td>-0.029909</td>\n",
       "      <td>-0.022277</td>\n",
       "      <td>-0.003686</td>\n",
       "      <td>0.009863</td>\n",
       "      <td>0.004330</td>\n",
       "    </tr>\n",
       "    <tr>\n",
       "      <th>2015-03-31</th>\n",
       "      <td>-0.004342</td>\n",
       "      <td>-0.086942</td>\n",
       "      <td>-0.045722</td>\n",
       "      <td>0.005770</td>\n",
       "      <td>0.107731</td>\n",
       "      <td>-0.124195</td>\n",
       "      <td>0.007085</td>\n",
       "      <td>-0.000496</td>\n",
       "      <td>0.028269</td>\n",
       "      <td>-0.018584</td>\n",
       "      <td>...</td>\n",
       "      <td>-0.026195</td>\n",
       "      <td>0.024750</td>\n",
       "      <td>0.027501</td>\n",
       "      <td>0.002159</td>\n",
       "      <td>0.055539</td>\n",
       "      <td>0.093207</td>\n",
       "      <td>-0.067584</td>\n",
       "      <td>0.014935</td>\n",
       "      <td>0.048261</td>\n",
       "      <td>-0.039447</td>\n",
       "    </tr>\n",
       "    <tr>\n",
       "      <th>2015-04-30</th>\n",
       "      <td>-0.004360</td>\n",
       "      <td>-0.130680</td>\n",
       "      <td>0.069030</td>\n",
       "      <td>0.044316</td>\n",
       "      <td>0.029412</td>\n",
       "      <td>-0.056954</td>\n",
       "      <td>0.045893</td>\n",
       "      <td>0.035936</td>\n",
       "      <td>0.039064</td>\n",
       "      <td>0.100209</td>\n",
       "      <td>...</td>\n",
       "      <td>0.004120</td>\n",
       "      <td>0.096547</td>\n",
       "      <td>-0.016774</td>\n",
       "      <td>0.020091</td>\n",
       "      <td>-0.008363</td>\n",
       "      <td>0.047149</td>\n",
       "      <td>0.039928</td>\n",
       "      <td>0.174545</td>\n",
       "      <td>0.021088</td>\n",
       "      <td>0.113723</td>\n",
       "    </tr>\n",
       "    <tr>\n",
       "      <th>2015-05-29</th>\n",
       "      <td>-0.062966</td>\n",
       "      <td>-0.059187</td>\n",
       "      <td>0.039229</td>\n",
       "      <td>-0.037978</td>\n",
       "      <td>0.008970</td>\n",
       "      <td>0.095888</td>\n",
       "      <td>0.009828</td>\n",
       "      <td>0.007676</td>\n",
       "      <td>0.023986</td>\n",
       "      <td>-0.057150</td>\n",
       "      <td>...</td>\n",
       "      <td>-0.046651</td>\n",
       "      <td>-0.071225</td>\n",
       "      <td>-0.023754</td>\n",
       "      <td>-0.007977</td>\n",
       "      <td>0.013580</td>\n",
       "      <td>-0.000333</td>\n",
       "      <td>-0.043532</td>\n",
       "      <td>0.012778</td>\n",
       "      <td>0.094271</td>\n",
       "      <td>-0.031639</td>\n",
       "    </tr>\n",
       "    <tr>\n",
       "      <th>2015-06-30</th>\n",
       "      <td>0.059618</td>\n",
       "      <td>0.004123</td>\n",
       "      <td>0.089535</td>\n",
       "      <td>-0.033441</td>\n",
       "      <td>0.048418</td>\n",
       "      <td>0.164206</td>\n",
       "      <td>0.037092</td>\n",
       "      <td>0.063356</td>\n",
       "      <td>0.012025</td>\n",
       "      <td>-0.095653</td>\n",
       "      <td>...</td>\n",
       "      <td>0.074530</td>\n",
       "      <td>-0.056120</td>\n",
       "      <td>-0.049145</td>\n",
       "      <td>0.098919</td>\n",
       "      <td>-0.070980</td>\n",
       "      <td>-0.021490</td>\n",
       "      <td>-0.048392</td>\n",
       "      <td>-0.031281</td>\n",
       "      <td>-0.017323</td>\n",
       "      <td>0.015638</td>\n",
       "    </tr>\n",
       "    <tr>\n",
       "      <th>...</th>\n",
       "      <td>...</td>\n",
       "      <td>...</td>\n",
       "      <td>...</td>\n",
       "      <td>...</td>\n",
       "      <td>...</td>\n",
       "      <td>...</td>\n",
       "      <td>...</td>\n",
       "      <td>...</td>\n",
       "      <td>...</td>\n",
       "      <td>...</td>\n",
       "      <td>...</td>\n",
       "      <td>...</td>\n",
       "      <td>...</td>\n",
       "      <td>...</td>\n",
       "      <td>...</td>\n",
       "      <td>...</td>\n",
       "      <td>...</td>\n",
       "      <td>...</td>\n",
       "      <td>...</td>\n",
       "      <td>...</td>\n",
       "      <td>...</td>\n",
       "    </tr>\n",
       "    <tr>\n",
       "      <th>2024-03-29</th>\n",
       "      <td>-0.058352</td>\n",
       "      <td>-0.127685</td>\n",
       "      <td>-0.150167</td>\n",
       "      <td>-0.006729</td>\n",
       "      <td>-0.103511</td>\n",
       "      <td>0.000000</td>\n",
       "      <td>-0.065027</td>\n",
       "      <td>-0.137420</td>\n",
       "      <td>-0.086406</td>\n",
       "      <td>0.014157</td>\n",
       "      <td>...</td>\n",
       "      <td>-0.000372</td>\n",
       "      <td>0.000000</td>\n",
       "      <td>0.017313</td>\n",
       "      <td>-0.100718</td>\n",
       "      <td>0.011233</td>\n",
       "      <td>0.018579</td>\n",
       "      <td>-0.092828</td>\n",
       "      <td>0.042604</td>\n",
       "      <td>-0.062268</td>\n",
       "      <td>-0.057911</td>\n",
       "    </tr>\n",
       "    <tr>\n",
       "      <th>2024-04-30</th>\n",
       "      <td>-0.049590</td>\n",
       "      <td>-0.161083</td>\n",
       "      <td>-0.032589</td>\n",
       "      <td>0.122424</td>\n",
       "      <td>-0.008645</td>\n",
       "      <td>0.000000</td>\n",
       "      <td>-0.036322</td>\n",
       "      <td>-0.063876</td>\n",
       "      <td>-0.039825</td>\n",
       "      <td>0.156050</td>\n",
       "      <td>...</td>\n",
       "      <td>0.031510</td>\n",
       "      <td>0.000000</td>\n",
       "      <td>-0.000535</td>\n",
       "      <td>-0.068969</td>\n",
       "      <td>0.078576</td>\n",
       "      <td>-0.022561</td>\n",
       "      <td>-0.043587</td>\n",
       "      <td>-0.007082</td>\n",
       "      <td>0.066467</td>\n",
       "      <td>0.062794</td>\n",
       "    </tr>\n",
       "    <tr>\n",
       "      <th>2024-05-31</th>\n",
       "      <td>-0.005999</td>\n",
       "      <td>-0.014893</td>\n",
       "      <td>-0.109237</td>\n",
       "      <td>0.091259</td>\n",
       "      <td>0.061806</td>\n",
       "      <td>0.000000</td>\n",
       "      <td>0.016691</td>\n",
       "      <td>0.072150</td>\n",
       "      <td>0.222406</td>\n",
       "      <td>-0.022946</td>\n",
       "      <td>...</td>\n",
       "      <td>-0.027353</td>\n",
       "      <td>0.000000</td>\n",
       "      <td>-0.018419</td>\n",
       "      <td>-0.110890</td>\n",
       "      <td>-0.038971</td>\n",
       "      <td>-0.036834</td>\n",
       "      <td>-0.056991</td>\n",
       "      <td>-0.010978</td>\n",
       "      <td>0.004159</td>\n",
       "      <td>0.022164</td>\n",
       "    </tr>\n",
       "    <tr>\n",
       "      <th>2024-06-28</th>\n",
       "      <td>0.088783</td>\n",
       "      <td>-0.062834</td>\n",
       "      <td>0.003965</td>\n",
       "      <td>0.052982</td>\n",
       "      <td>0.086566</td>\n",
       "      <td>0.000000</td>\n",
       "      <td>0.024675</td>\n",
       "      <td>0.090204</td>\n",
       "      <td>-0.007027</td>\n",
       "      <td>0.013576</td>\n",
       "      <td>...</td>\n",
       "      <td>0.087261</td>\n",
       "      <td>0.000000</td>\n",
       "      <td>0.029697</td>\n",
       "      <td>0.085739</td>\n",
       "      <td>-0.015829</td>\n",
       "      <td>0.002789</td>\n",
       "      <td>0.025652</td>\n",
       "      <td>0.128213</td>\n",
       "      <td>0.175109</td>\n",
       "      <td>0.040216</td>\n",
       "    </tr>\n",
       "    <tr>\n",
       "      <th>2024-07-31</th>\n",
       "      <td>NaN</td>\n",
       "      <td>NaN</td>\n",
       "      <td>NaN</td>\n",
       "      <td>NaN</td>\n",
       "      <td>NaN</td>\n",
       "      <td>NaN</td>\n",
       "      <td>NaN</td>\n",
       "      <td>NaN</td>\n",
       "      <td>NaN</td>\n",
       "      <td>NaN</td>\n",
       "      <td>...</td>\n",
       "      <td>NaN</td>\n",
       "      <td>NaN</td>\n",
       "      <td>NaN</td>\n",
       "      <td>NaN</td>\n",
       "      <td>NaN</td>\n",
       "      <td>NaN</td>\n",
       "      <td>NaN</td>\n",
       "      <td>NaN</td>\n",
       "      <td>NaN</td>\n",
       "      <td>NaN</td>\n",
       "    </tr>\n",
       "  </tbody>\n",
       "</table>\n",
       "<p>114 rows × 490 columns</p>\n",
       "</div>"
      ],
      "text/plain": [
       "                   A       AAL       AAP      AAPL      ABBV      ABMD  \\\n",
       "date                                                                     \n",
       "2015-02-27 -0.013330  0.097017 -0.034004 -0.031874 -0.032933  0.163390   \n",
       "2015-03-31 -0.004342 -0.086942 -0.045722  0.005770  0.107731 -0.124195   \n",
       "2015-04-30 -0.004360 -0.130680  0.069030  0.044316  0.029412 -0.056954   \n",
       "2015-05-29 -0.062966 -0.059187  0.039229 -0.037978  0.008970  0.095888   \n",
       "2015-06-30  0.059618  0.004123  0.089535 -0.033441  0.048418  0.164206   \n",
       "...              ...       ...       ...       ...       ...       ...   \n",
       "2024-03-29 -0.058352 -0.127685 -0.150167 -0.006729 -0.103511  0.000000   \n",
       "2024-04-30 -0.049590 -0.161083 -0.032589  0.122424 -0.008645  0.000000   \n",
       "2024-05-31 -0.005999 -0.014893 -0.109237  0.091259  0.061806  0.000000   \n",
       "2024-06-28  0.088783 -0.062834  0.003965  0.052982  0.086566  0.000000   \n",
       "2024-07-31       NaN       NaN       NaN       NaN       NaN       NaN   \n",
       "\n",
       "                 ABT       ACN      ADBE       ADI  ...       XEL      XLNX  \\\n",
       "date                                                ...                       \n",
       "2015-02-27 -0.022199  0.039849 -0.067459  0.073424  ... -0.003972 -0.001653   \n",
       "2015-03-31  0.007085 -0.000496  0.028269 -0.018584  ... -0.026195  0.024750   \n",
       "2015-04-30  0.045893  0.035936  0.039064  0.100209  ...  0.004120  0.096547   \n",
       "2015-05-29  0.009828  0.007676  0.023986 -0.057150  ... -0.046651 -0.071225   \n",
       "2015-06-30  0.037092  0.063356  0.012025 -0.095653  ...  0.074530 -0.056120   \n",
       "...              ...       ...       ...       ...  ...       ...       ...   \n",
       "2024-03-29 -0.065027 -0.137420 -0.086406  0.014157  ... -0.000372  0.000000   \n",
       "2024-04-30 -0.036322 -0.063876 -0.039825  0.156050  ...  0.031510  0.000000   \n",
       "2024-05-31  0.016691  0.072150  0.222406 -0.022946  ... -0.027353  0.000000   \n",
       "2024-06-28  0.024675  0.090204 -0.007027  0.013576  ...  0.087261  0.000000   \n",
       "2024-07-31       NaN       NaN       NaN       NaN  ...       NaN       NaN   \n",
       "\n",
       "                 XOM      XRAY       XYL       YUM       ZBH      ZBRA  \\\n",
       "date                                                                     \n",
       "2015-02-27 -0.040803 -0.039385 -0.019231 -0.029909 -0.022277 -0.003686   \n",
       "2015-03-31  0.027501  0.002159  0.055539  0.093207 -0.067584  0.014935   \n",
       "2015-04-30 -0.016774  0.020091 -0.008363  0.047149  0.039928  0.174545   \n",
       "2015-05-29 -0.023754 -0.007977  0.013580 -0.000333 -0.043532  0.012778   \n",
       "2015-06-30 -0.049145  0.098919 -0.070980 -0.021490 -0.048392 -0.031281   \n",
       "...              ...       ...       ...       ...       ...       ...   \n",
       "2024-03-29  0.017313 -0.100718  0.011233  0.018579 -0.092828  0.042604   \n",
       "2024-04-30 -0.000535 -0.068969  0.078576 -0.022561 -0.043587 -0.007082   \n",
       "2024-05-31 -0.018419 -0.110890 -0.038971 -0.036834 -0.056991 -0.010978   \n",
       "2024-06-28  0.029697  0.085739 -0.015829  0.002789  0.025652  0.128213   \n",
       "2024-07-31       NaN       NaN       NaN       NaN       NaN       NaN   \n",
       "\n",
       "                ZION       ZTS  \n",
       "date                            \n",
       "2015-02-27  0.009863  0.004330  \n",
       "2015-03-31  0.048261 -0.039447  \n",
       "2015-04-30  0.021088  0.113723  \n",
       "2015-05-29  0.094271 -0.031639  \n",
       "2015-06-30 -0.017323  0.015638  \n",
       "...              ...       ...  \n",
       "2024-03-29 -0.062268 -0.057911  \n",
       "2024-04-30  0.066467  0.062794  \n",
       "2024-05-31  0.004159  0.022164  \n",
       "2024-06-28  0.175109  0.040216  \n",
       "2024-07-31       NaN       NaN  \n",
       "\n",
       "[114 rows x 490 columns]"
      ]
     },
     "execution_count": 16,
     "metadata": {},
     "output_type": "execute_result"
    }
   ],
   "source": [
    "lookahead_returns = historical_log_returns.shift(-1)\n",
    "lookahead_returns"
   ]
  },
  {
   "cell_type": "code",
   "execution_count": 17,
   "metadata": {},
   "outputs": [],
   "source": [
    "def portfolio_returns(df_long: pd.DataFrame, df_short: pd.DataFrame, lookahead_returns: pd.DataFrame, n_stocks: int) -> pd.DataFrame:\n",
    "    \"\"\"\n",
    "    Compute expected returns for the portfolio, assuming equal investment in each long/short stock.\n",
    "    \n",
    "    Parameters\n",
    "    ----------\n",
    "    df_long : DataFrame\n",
    "        Top stocks for each ticker and date marked with a 1\n",
    "    df_short : DataFrame\n",
    "        Bottom stocks for each ticker and date marked with a 1\n",
    "    lookahead_returns : DataFrame\n",
    "        Lookahead returns for each ticker and date\n",
    "    n_stocks: int\n",
    "        The number number of stocks chosen for each month\n",
    "    \n",
    "    Returns\n",
    "    -------\n",
    "    portfolio_returns : DataFrame\n",
    "        Expected portfolio returns for each ticker and date\n",
    "    \"\"\"\n",
    "\n",
    "    long_returns = df_long * lookahead_returns / n_stocks\n",
    "    short_returns = df_short * lookahead_returns / n_stocks\n",
    "    \n",
    "    portfolio_returns = long_returns - short_returns\n",
    "    \n",
    "    return portfolio_returns"
   ]
  },
  {
   "cell_type": "code",
   "execution_count": 18,
   "metadata": {},
   "outputs": [
    {
     "data": {
      "text/html": [
       "<div>\n",
       "<style scoped>\n",
       "    .dataframe tbody tr th:only-of-type {\n",
       "        vertical-align: middle;\n",
       "    }\n",
       "\n",
       "    .dataframe tbody tr th {\n",
       "        vertical-align: top;\n",
       "    }\n",
       "\n",
       "    .dataframe thead th {\n",
       "        text-align: right;\n",
       "    }\n",
       "</style>\n",
       "<table border=\"1\" class=\"dataframe\">\n",
       "  <thead>\n",
       "    <tr style=\"text-align: right;\">\n",
       "      <th></th>\n",
       "      <th>A</th>\n",
       "      <th>AAL</th>\n",
       "      <th>AAP</th>\n",
       "      <th>AAPL</th>\n",
       "      <th>ABBV</th>\n",
       "      <th>ABMD</th>\n",
       "      <th>ABT</th>\n",
       "      <th>ACN</th>\n",
       "      <th>ADBE</th>\n",
       "      <th>ADI</th>\n",
       "      <th>...</th>\n",
       "      <th>XEL</th>\n",
       "      <th>XLNX</th>\n",
       "      <th>XOM</th>\n",
       "      <th>XRAY</th>\n",
       "      <th>XYL</th>\n",
       "      <th>YUM</th>\n",
       "      <th>ZBH</th>\n",
       "      <th>ZBRA</th>\n",
       "      <th>ZION</th>\n",
       "      <th>ZTS</th>\n",
       "    </tr>\n",
       "    <tr>\n",
       "      <th>date</th>\n",
       "      <th></th>\n",
       "      <th></th>\n",
       "      <th></th>\n",
       "      <th></th>\n",
       "      <th></th>\n",
       "      <th></th>\n",
       "      <th></th>\n",
       "      <th></th>\n",
       "      <th></th>\n",
       "      <th></th>\n",
       "      <th></th>\n",
       "      <th></th>\n",
       "      <th></th>\n",
       "      <th></th>\n",
       "      <th></th>\n",
       "      <th></th>\n",
       "      <th></th>\n",
       "      <th></th>\n",
       "      <th></th>\n",
       "      <th></th>\n",
       "      <th></th>\n",
       "    </tr>\n",
       "  </thead>\n",
       "  <tbody>\n",
       "    <tr>\n",
       "      <th>2015-02-27</th>\n",
       "      <td>0.0</td>\n",
       "      <td>0.000000</td>\n",
       "      <td>0.000000</td>\n",
       "      <td>0.000000</td>\n",
       "      <td>0.000000</td>\n",
       "      <td>0.001634</td>\n",
       "      <td>0.00000</td>\n",
       "      <td>0.000000</td>\n",
       "      <td>0.000000</td>\n",
       "      <td>0.000000</td>\n",
       "      <td>...</td>\n",
       "      <td>0.00004</td>\n",
       "      <td>0.000000</td>\n",
       "      <td>0.0</td>\n",
       "      <td>0.000000</td>\n",
       "      <td>0.0</td>\n",
       "      <td>0.000000</td>\n",
       "      <td>0.0</td>\n",
       "      <td>0.000000</td>\n",
       "      <td>0.000000</td>\n",
       "      <td>0.000000</td>\n",
       "    </tr>\n",
       "    <tr>\n",
       "      <th>2015-03-31</th>\n",
       "      <td>0.0</td>\n",
       "      <td>-0.000869</td>\n",
       "      <td>0.000000</td>\n",
       "      <td>0.000000</td>\n",
       "      <td>0.000000</td>\n",
       "      <td>-0.001242</td>\n",
       "      <td>0.00000</td>\n",
       "      <td>0.000000</td>\n",
       "      <td>-0.000283</td>\n",
       "      <td>-0.000186</td>\n",
       "      <td>...</td>\n",
       "      <td>0.00000</td>\n",
       "      <td>0.000000</td>\n",
       "      <td>0.0</td>\n",
       "      <td>0.000000</td>\n",
       "      <td>0.0</td>\n",
       "      <td>0.000000</td>\n",
       "      <td>0.0</td>\n",
       "      <td>0.000000</td>\n",
       "      <td>0.000000</td>\n",
       "      <td>0.000000</td>\n",
       "    </tr>\n",
       "    <tr>\n",
       "      <th>2015-04-30</th>\n",
       "      <td>0.0</td>\n",
       "      <td>0.001307</td>\n",
       "      <td>0.000000</td>\n",
       "      <td>0.000000</td>\n",
       "      <td>0.000294</td>\n",
       "      <td>0.000570</td>\n",
       "      <td>0.00000</td>\n",
       "      <td>0.000000</td>\n",
       "      <td>0.000000</td>\n",
       "      <td>0.000000</td>\n",
       "      <td>...</td>\n",
       "      <td>0.00000</td>\n",
       "      <td>0.000000</td>\n",
       "      <td>0.0</td>\n",
       "      <td>0.000000</td>\n",
       "      <td>0.0</td>\n",
       "      <td>0.000471</td>\n",
       "      <td>0.0</td>\n",
       "      <td>0.000000</td>\n",
       "      <td>0.000000</td>\n",
       "      <td>0.000000</td>\n",
       "    </tr>\n",
       "    <tr>\n",
       "      <th>2015-05-29</th>\n",
       "      <td>0.0</td>\n",
       "      <td>0.000592</td>\n",
       "      <td>0.000000</td>\n",
       "      <td>0.000000</td>\n",
       "      <td>0.000000</td>\n",
       "      <td>-0.000959</td>\n",
       "      <td>0.00000</td>\n",
       "      <td>0.000000</td>\n",
       "      <td>0.000000</td>\n",
       "      <td>-0.000571</td>\n",
       "      <td>...</td>\n",
       "      <td>0.00000</td>\n",
       "      <td>-0.000712</td>\n",
       "      <td>0.0</td>\n",
       "      <td>0.000000</td>\n",
       "      <td>0.0</td>\n",
       "      <td>0.000000</td>\n",
       "      <td>0.0</td>\n",
       "      <td>0.000128</td>\n",
       "      <td>0.000000</td>\n",
       "      <td>-0.000316</td>\n",
       "    </tr>\n",
       "    <tr>\n",
       "      <th>2015-06-30</th>\n",
       "      <td>0.0</td>\n",
       "      <td>0.000000</td>\n",
       "      <td>0.000000</td>\n",
       "      <td>0.000000</td>\n",
       "      <td>0.000000</td>\n",
       "      <td>0.001642</td>\n",
       "      <td>0.00000</td>\n",
       "      <td>0.000000</td>\n",
       "      <td>0.000000</td>\n",
       "      <td>0.000000</td>\n",
       "      <td>...</td>\n",
       "      <td>0.00000</td>\n",
       "      <td>0.000000</td>\n",
       "      <td>0.0</td>\n",
       "      <td>0.000000</td>\n",
       "      <td>0.0</td>\n",
       "      <td>0.000000</td>\n",
       "      <td>0.0</td>\n",
       "      <td>0.000000</td>\n",
       "      <td>-0.000173</td>\n",
       "      <td>0.000000</td>\n",
       "    </tr>\n",
       "    <tr>\n",
       "      <th>...</th>\n",
       "      <td>...</td>\n",
       "      <td>...</td>\n",
       "      <td>...</td>\n",
       "      <td>...</td>\n",
       "      <td>...</td>\n",
       "      <td>...</td>\n",
       "      <td>...</td>\n",
       "      <td>...</td>\n",
       "      <td>...</td>\n",
       "      <td>...</td>\n",
       "      <td>...</td>\n",
       "      <td>...</td>\n",
       "      <td>...</td>\n",
       "      <td>...</td>\n",
       "      <td>...</td>\n",
       "      <td>...</td>\n",
       "      <td>...</td>\n",
       "      <td>...</td>\n",
       "      <td>...</td>\n",
       "      <td>...</td>\n",
       "      <td>...</td>\n",
       "    </tr>\n",
       "    <tr>\n",
       "      <th>2024-03-29</th>\n",
       "      <td>0.0</td>\n",
       "      <td>0.000000</td>\n",
       "      <td>-0.001502</td>\n",
       "      <td>0.000067</td>\n",
       "      <td>0.000000</td>\n",
       "      <td>0.000000</td>\n",
       "      <td>0.00065</td>\n",
       "      <td>0.001374</td>\n",
       "      <td>0.000864</td>\n",
       "      <td>0.000000</td>\n",
       "      <td>...</td>\n",
       "      <td>0.00000</td>\n",
       "      <td>0.000000</td>\n",
       "      <td>0.0</td>\n",
       "      <td>0.000000</td>\n",
       "      <td>0.0</td>\n",
       "      <td>0.000000</td>\n",
       "      <td>0.0</td>\n",
       "      <td>0.000000</td>\n",
       "      <td>0.000000</td>\n",
       "      <td>0.000579</td>\n",
       "    </tr>\n",
       "    <tr>\n",
       "      <th>2024-04-30</th>\n",
       "      <td>0.0</td>\n",
       "      <td>0.000000</td>\n",
       "      <td>0.000326</td>\n",
       "      <td>0.000000</td>\n",
       "      <td>0.000000</td>\n",
       "      <td>0.000000</td>\n",
       "      <td>0.00000</td>\n",
       "      <td>0.000000</td>\n",
       "      <td>0.000000</td>\n",
       "      <td>0.000000</td>\n",
       "      <td>...</td>\n",
       "      <td>0.00000</td>\n",
       "      <td>0.000000</td>\n",
       "      <td>0.0</td>\n",
       "      <td>0.000000</td>\n",
       "      <td>0.0</td>\n",
       "      <td>0.000000</td>\n",
       "      <td>0.0</td>\n",
       "      <td>-0.000071</td>\n",
       "      <td>0.000000</td>\n",
       "      <td>0.000000</td>\n",
       "    </tr>\n",
       "    <tr>\n",
       "      <th>2024-05-31</th>\n",
       "      <td>0.0</td>\n",
       "      <td>0.000149</td>\n",
       "      <td>0.000000</td>\n",
       "      <td>0.000913</td>\n",
       "      <td>0.000000</td>\n",
       "      <td>0.000000</td>\n",
       "      <td>0.00000</td>\n",
       "      <td>-0.000722</td>\n",
       "      <td>0.000000</td>\n",
       "      <td>-0.000229</td>\n",
       "      <td>...</td>\n",
       "      <td>0.00000</td>\n",
       "      <td>0.000000</td>\n",
       "      <td>0.0</td>\n",
       "      <td>0.001109</td>\n",
       "      <td>0.0</td>\n",
       "      <td>0.000000</td>\n",
       "      <td>0.0</td>\n",
       "      <td>0.000000</td>\n",
       "      <td>0.000000</td>\n",
       "      <td>0.000000</td>\n",
       "    </tr>\n",
       "    <tr>\n",
       "      <th>2024-06-28</th>\n",
       "      <td>0.0</td>\n",
       "      <td>0.000000</td>\n",
       "      <td>-0.000040</td>\n",
       "      <td>0.000530</td>\n",
       "      <td>0.000000</td>\n",
       "      <td>0.000000</td>\n",
       "      <td>0.00000</td>\n",
       "      <td>0.000902</td>\n",
       "      <td>-0.000070</td>\n",
       "      <td>0.000000</td>\n",
       "      <td>...</td>\n",
       "      <td>0.00000</td>\n",
       "      <td>0.000000</td>\n",
       "      <td>0.0</td>\n",
       "      <td>-0.000857</td>\n",
       "      <td>0.0</td>\n",
       "      <td>0.000000</td>\n",
       "      <td>0.0</td>\n",
       "      <td>0.000000</td>\n",
       "      <td>0.000000</td>\n",
       "      <td>0.000000</td>\n",
       "    </tr>\n",
       "    <tr>\n",
       "      <th>2024-07-31</th>\n",
       "      <td>NaN</td>\n",
       "      <td>NaN</td>\n",
       "      <td>NaN</td>\n",
       "      <td>NaN</td>\n",
       "      <td>NaN</td>\n",
       "      <td>NaN</td>\n",
       "      <td>NaN</td>\n",
       "      <td>NaN</td>\n",
       "      <td>NaN</td>\n",
       "      <td>NaN</td>\n",
       "      <td>...</td>\n",
       "      <td>NaN</td>\n",
       "      <td>NaN</td>\n",
       "      <td>NaN</td>\n",
       "      <td>NaN</td>\n",
       "      <td>NaN</td>\n",
       "      <td>NaN</td>\n",
       "      <td>NaN</td>\n",
       "      <td>NaN</td>\n",
       "      <td>NaN</td>\n",
       "      <td>NaN</td>\n",
       "    </tr>\n",
       "  </tbody>\n",
       "</table>\n",
       "<p>114 rows × 490 columns</p>\n",
       "</div>"
      ],
      "text/plain": [
       "              A       AAL       AAP      AAPL      ABBV      ABMD      ABT  \\\n",
       "date                                                                         \n",
       "2015-02-27  0.0  0.000000  0.000000  0.000000  0.000000  0.001634  0.00000   \n",
       "2015-03-31  0.0 -0.000869  0.000000  0.000000  0.000000 -0.001242  0.00000   \n",
       "2015-04-30  0.0  0.001307  0.000000  0.000000  0.000294  0.000570  0.00000   \n",
       "2015-05-29  0.0  0.000592  0.000000  0.000000  0.000000 -0.000959  0.00000   \n",
       "2015-06-30  0.0  0.000000  0.000000  0.000000  0.000000  0.001642  0.00000   \n",
       "...         ...       ...       ...       ...       ...       ...      ...   \n",
       "2024-03-29  0.0  0.000000 -0.001502  0.000067  0.000000  0.000000  0.00065   \n",
       "2024-04-30  0.0  0.000000  0.000326  0.000000  0.000000  0.000000  0.00000   \n",
       "2024-05-31  0.0  0.000149  0.000000  0.000913  0.000000  0.000000  0.00000   \n",
       "2024-06-28  0.0  0.000000 -0.000040  0.000530  0.000000  0.000000  0.00000   \n",
       "2024-07-31  NaN       NaN       NaN       NaN       NaN       NaN      NaN   \n",
       "\n",
       "                 ACN      ADBE       ADI  ...      XEL      XLNX  XOM  \\\n",
       "date                                      ...                           \n",
       "2015-02-27  0.000000  0.000000  0.000000  ...  0.00004  0.000000  0.0   \n",
       "2015-03-31  0.000000 -0.000283 -0.000186  ...  0.00000  0.000000  0.0   \n",
       "2015-04-30  0.000000  0.000000  0.000000  ...  0.00000  0.000000  0.0   \n",
       "2015-05-29  0.000000  0.000000 -0.000571  ...  0.00000 -0.000712  0.0   \n",
       "2015-06-30  0.000000  0.000000  0.000000  ...  0.00000  0.000000  0.0   \n",
       "...              ...       ...       ...  ...      ...       ...  ...   \n",
       "2024-03-29  0.001374  0.000864  0.000000  ...  0.00000  0.000000  0.0   \n",
       "2024-04-30  0.000000  0.000000  0.000000  ...  0.00000  0.000000  0.0   \n",
       "2024-05-31 -0.000722  0.000000 -0.000229  ...  0.00000  0.000000  0.0   \n",
       "2024-06-28  0.000902 -0.000070  0.000000  ...  0.00000  0.000000  0.0   \n",
       "2024-07-31       NaN       NaN       NaN  ...      NaN       NaN  NaN   \n",
       "\n",
       "                XRAY  XYL       YUM  ZBH      ZBRA      ZION       ZTS  \n",
       "date                                                                    \n",
       "2015-02-27  0.000000  0.0  0.000000  0.0  0.000000  0.000000  0.000000  \n",
       "2015-03-31  0.000000  0.0  0.000000  0.0  0.000000  0.000000  0.000000  \n",
       "2015-04-30  0.000000  0.0  0.000471  0.0  0.000000  0.000000  0.000000  \n",
       "2015-05-29  0.000000  0.0  0.000000  0.0  0.000128  0.000000 -0.000316  \n",
       "2015-06-30  0.000000  0.0  0.000000  0.0  0.000000 -0.000173  0.000000  \n",
       "...              ...  ...       ...  ...       ...       ...       ...  \n",
       "2024-03-29  0.000000  0.0  0.000000  0.0  0.000000  0.000000  0.000579  \n",
       "2024-04-30  0.000000  0.0  0.000000  0.0 -0.000071  0.000000  0.000000  \n",
       "2024-05-31  0.001109  0.0  0.000000  0.0  0.000000  0.000000  0.000000  \n",
       "2024-06-28 -0.000857  0.0  0.000000  0.0  0.000000  0.000000  0.000000  \n",
       "2024-07-31       NaN  NaN       NaN  NaN       NaN       NaN       NaN  \n",
       "\n",
       "[114 rows x 490 columns]"
      ]
     },
     "execution_count": 18,
     "metadata": {},
     "output_type": "execute_result"
    }
   ],
   "source": [
    "expected_portfolio_returns = portfolio_returns(longs_df, shorts_df, lookahead_returns, 2*50)\n",
    "expected_portfolio_returns"
   ]
  },
  {
   "cell_type": "code",
   "execution_count": 19,
   "metadata": {},
   "outputs": [
    {
     "name": "stdout",
     "output_type": "stream",
     "text": [
      "\n",
      "Mean:                       -0.000701\n",
      "Standard Error:             0.002392\n",
      "Annualized Rate of Return:  -0.84%\n",
      "\n"
     ]
    }
   ],
   "source": [
    "expected_portfolio_returns_by_date = expected_portfolio_returns.T.sum().dropna()\n",
    "portfolio_ret_mean = expected_portfolio_returns_by_date.mean()\n",
    "portfolio_ret_ste = expected_portfolio_returns_by_date.sem()\n",
    "portfolio_ret_annual_rate = (np.exp(portfolio_ret_mean * 12) - 1) * 100\n",
    "\n",
    "print(\"\"\"\n",
    "Mean:                       {:.6f}\n",
    "Standard Error:             {:.6f}\n",
    "Annualized Rate of Return:  {:.2f}%\n",
    "\"\"\".format(portfolio_ret_mean, portfolio_ret_ste, portfolio_ret_annual_rate))"
   ]
  },
  {
   "cell_type": "code",
   "execution_count": 20,
   "metadata": {},
   "outputs": [
    {
     "data": {
      "application/vnd.plotly.v1+json": {
       "config": {
        "plotlyServerURL": "https://plot.ly"
       },
       "data": [
        {
         "hovertemplate": "date=%{x}<br>cumulative_returns=%{y}<extra></extra>",
         "legendgroup": "",
         "line": {
          "color": "#636efa",
          "dash": "solid"
         },
         "marker": {
          "symbol": "circle"
         },
         "mode": "lines",
         "name": "",
         "orientation": "v",
         "showlegend": false,
         "type": "scatter",
         "x": [
          "2015-02-27T00:00:00",
          "2015-03-31T00:00:00",
          "2015-04-30T00:00:00",
          "2015-05-29T00:00:00",
          "2015-06-30T00:00:00",
          "2015-07-31T00:00:00",
          "2015-08-31T00:00:00",
          "2015-09-30T00:00:00",
          "2015-10-30T00:00:00",
          "2015-11-30T00:00:00",
          "2015-12-31T00:00:00",
          "2016-01-29T00:00:00",
          "2016-02-29T00:00:00",
          "2016-03-31T00:00:00",
          "2016-04-29T00:00:00",
          "2016-05-31T00:00:00",
          "2016-06-30T00:00:00",
          "2016-07-29T00:00:00",
          "2016-08-31T00:00:00",
          "2016-09-30T00:00:00",
          "2016-10-31T00:00:00",
          "2016-11-30T00:00:00",
          "2016-12-30T00:00:00",
          "2017-01-31T00:00:00",
          "2017-02-28T00:00:00",
          "2017-03-31T00:00:00",
          "2017-04-28T00:00:00",
          "2017-05-31T00:00:00",
          "2017-06-30T00:00:00",
          "2017-07-31T00:00:00",
          "2017-08-31T00:00:00",
          "2017-09-29T00:00:00",
          "2017-10-31T00:00:00",
          "2017-11-30T00:00:00",
          "2017-12-29T00:00:00",
          "2018-01-31T00:00:00",
          "2018-02-28T00:00:00",
          "2018-03-30T00:00:00",
          "2018-04-30T00:00:00",
          "2018-05-31T00:00:00",
          "2018-06-29T00:00:00",
          "2018-07-31T00:00:00",
          "2018-08-31T00:00:00",
          "2018-09-28T00:00:00",
          "2018-10-31T00:00:00",
          "2018-11-30T00:00:00",
          "2018-12-31T00:00:00",
          "2019-01-31T00:00:00",
          "2019-02-28T00:00:00",
          "2019-03-29T00:00:00",
          "2019-04-30T00:00:00",
          "2019-05-31T00:00:00",
          "2019-06-28T00:00:00",
          "2019-07-31T00:00:00",
          "2019-08-30T00:00:00",
          "2019-09-30T00:00:00",
          "2019-10-31T00:00:00",
          "2019-11-29T00:00:00",
          "2019-12-31T00:00:00",
          "2020-01-31T00:00:00",
          "2020-02-28T00:00:00",
          "2020-03-31T00:00:00",
          "2020-04-30T00:00:00",
          "2020-05-29T00:00:00",
          "2020-06-30T00:00:00",
          "2020-07-31T00:00:00",
          "2020-08-31T00:00:00",
          "2020-09-30T00:00:00",
          "2020-10-30T00:00:00",
          "2020-11-30T00:00:00",
          "2020-12-31T00:00:00",
          "2021-01-29T00:00:00",
          "2021-02-26T00:00:00",
          "2021-03-31T00:00:00",
          "2021-04-30T00:00:00",
          "2021-05-31T00:00:00",
          "2021-06-30T00:00:00",
          "2021-07-30T00:00:00",
          "2021-08-31T00:00:00",
          "2021-09-30T00:00:00",
          "2021-10-29T00:00:00",
          "2021-11-30T00:00:00",
          "2021-12-31T00:00:00",
          "2022-01-31T00:00:00",
          "2022-02-28T00:00:00",
          "2022-03-31T00:00:00",
          "2022-04-29T00:00:00",
          "2022-05-31T00:00:00",
          "2022-06-30T00:00:00",
          "2022-07-29T00:00:00",
          "2022-08-31T00:00:00",
          "2022-09-30T00:00:00",
          "2022-10-31T00:00:00",
          "2022-11-30T00:00:00",
          "2022-12-30T00:00:00",
          "2023-01-31T00:00:00",
          "2023-02-28T00:00:00",
          "2023-03-31T00:00:00",
          "2023-04-28T00:00:00",
          "2023-05-31T00:00:00",
          "2023-06-30T00:00:00",
          "2023-07-31T00:00:00",
          "2023-08-31T00:00:00",
          "2023-09-29T00:00:00",
          "2023-10-31T00:00:00",
          "2023-11-30T00:00:00",
          "2023-12-29T00:00:00",
          "2024-01-31T00:00:00",
          "2024-02-29T00:00:00",
          "2024-03-29T00:00:00",
          "2024-04-30T00:00:00",
          "2024-05-31T00:00:00",
          "2024-06-28T00:00:00",
          "2024-07-31T00:00:00"
         ],
         "xaxis": "x",
         "y": [
          0.0002274949676399629,
          -0.03931362213675682,
          -0.047321317227119186,
          -0.02836752030967149,
          -0.019284215655689163,
          -0.011925022401787833,
          0.008919419246855353,
          -0.01185513533074889,
          -0.015086976063168667,
          -0.02032318768089747,
          -0.004365749424065868,
          -0.0053046164096384185,
          -0.022068439860988165,
          -0.011057415906231993,
          -0.01834800630997835,
          -0.01409607574315952,
          -0.04768423820275347,
          -0.048466143920231186,
          -0.03806918648561797,
          -0.0375769641000665,
          -0.017830036713863073,
          -0.01844921409164013,
          -0.04003067619123968,
          -0.04487668127887756,
          -0.04144764699175574,
          -0.022787230707600692,
          0.01340761993698436,
          -0.007396260407968702,
          -0.02276394099915613,
          -0.006362644777223592,
          -0.01592924786838723,
          -0.005808136956080401,
          -0.01482975287021815,
          -0.013359280418883901,
          -0.006629645011011931,
          0.004549398315672359,
          0.01239823627050951,
          0.012385608158280936,
          -0.003263858401638342,
          -0.013221377624767494,
          -0.03664353647996088,
          -0.031289539755466333,
          -0.024278591525459747,
          -0.04072541651214434,
          -0.04218717043287823,
          -0.046507106944075005,
          -0.09171561028133668,
          -0.07815991186141902,
          -0.07495687657378758,
          -0.07819533784575372,
          -0.09437534195240138,
          -0.12879523293460005,
          -0.12346041919110107,
          -0.1018933319109373,
          -0.134182680160996,
          -0.13968212558073367,
          -0.13249738503790853,
          -0.1373249336564487,
          -0.15776069795665193,
          -0.13424882080147016,
          0.014995821811850663,
          -0.058738514148388266,
          -0.03834322954033864,
          -0.06098770076794824,
          -0.06417970634772363,
          -0.06717210625820691,
          -0.05764758064892972,
          -0.03505291708037139,
          -0.05518693674767172,
          -0.03942284752645575,
          -0.04448566687537392,
          -0.07563825175473893,
          -0.10254814328126582,
          -0.09951878510360579,
          -0.10982590000078496,
          -0.13062562332472183,
          -0.09545991434031031,
          -0.08876711811820703,
          -0.10289084723844555,
          -0.09724722990953394,
          -0.06733906560396175,
          -0.0789265663692933,
          -0.05238564900652187,
          -0.039840721327196404,
          -0.029808647234474295,
          -0.02371412686003016,
          -0.03663185941449787,
          -0.04300212167964179,
          -0.07197793204365066,
          -0.0854987511877856,
          -0.06886251518701869,
          -0.06262591366144588,
          -0.07392336240334607,
          -0.05962605352189698,
          -0.1099034034961941,
          -0.11338564157739783,
          -0.09172866785787104,
          -0.08055925938556063,
          -0.10058653006076734,
          -0.08931187050807043,
          -0.0912541829990029,
          -0.09071366914886947,
          -0.07832465512639408,
          -0.05185156154992343,
          -0.05940931165327701,
          -0.056516435224937434,
          -0.07605768987070993,
          -0.07380764902673076,
          -0.09222628629884821,
          -0.06215607053519667,
          -0.059272483955229105,
          -0.07335438055124899,
          -0.1091382876367345,
          -0.1091382876367345
         ],
         "yaxis": "y"
        }
       ],
       "layout": {
        "height": 600,
        "legend": {
         "tracegroupgap": 0
        },
        "margin": {
         "t": 60
        },
        "template": {
         "data": {
          "bar": [
           {
            "error_x": {
             "color": "#2a3f5f"
            },
            "error_y": {
             "color": "#2a3f5f"
            },
            "marker": {
             "line": {
              "color": "#E5ECF6",
              "width": 0.5
             },
             "pattern": {
              "fillmode": "overlay",
              "size": 10,
              "solidity": 0.2
             }
            },
            "type": "bar"
           }
          ],
          "barpolar": [
           {
            "marker": {
             "line": {
              "color": "#E5ECF6",
              "width": 0.5
             },
             "pattern": {
              "fillmode": "overlay",
              "size": 10,
              "solidity": 0.2
             }
            },
            "type": "barpolar"
           }
          ],
          "carpet": [
           {
            "aaxis": {
             "endlinecolor": "#2a3f5f",
             "gridcolor": "white",
             "linecolor": "white",
             "minorgridcolor": "white",
             "startlinecolor": "#2a3f5f"
            },
            "baxis": {
             "endlinecolor": "#2a3f5f",
             "gridcolor": "white",
             "linecolor": "white",
             "minorgridcolor": "white",
             "startlinecolor": "#2a3f5f"
            },
            "type": "carpet"
           }
          ],
          "choropleth": [
           {
            "colorbar": {
             "outlinewidth": 0,
             "ticks": ""
            },
            "type": "choropleth"
           }
          ],
          "contour": [
           {
            "colorbar": {
             "outlinewidth": 0,
             "ticks": ""
            },
            "colorscale": [
             [
              0,
              "#0d0887"
             ],
             [
              0.1111111111111111,
              "#46039f"
             ],
             [
              0.2222222222222222,
              "#7201a8"
             ],
             [
              0.3333333333333333,
              "#9c179e"
             ],
             [
              0.4444444444444444,
              "#bd3786"
             ],
             [
              0.5555555555555556,
              "#d8576b"
             ],
             [
              0.6666666666666666,
              "#ed7953"
             ],
             [
              0.7777777777777778,
              "#fb9f3a"
             ],
             [
              0.8888888888888888,
              "#fdca26"
             ],
             [
              1,
              "#f0f921"
             ]
            ],
            "type": "contour"
           }
          ],
          "contourcarpet": [
           {
            "colorbar": {
             "outlinewidth": 0,
             "ticks": ""
            },
            "type": "contourcarpet"
           }
          ],
          "heatmap": [
           {
            "colorbar": {
             "outlinewidth": 0,
             "ticks": ""
            },
            "colorscale": [
             [
              0,
              "#0d0887"
             ],
             [
              0.1111111111111111,
              "#46039f"
             ],
             [
              0.2222222222222222,
              "#7201a8"
             ],
             [
              0.3333333333333333,
              "#9c179e"
             ],
             [
              0.4444444444444444,
              "#bd3786"
             ],
             [
              0.5555555555555556,
              "#d8576b"
             ],
             [
              0.6666666666666666,
              "#ed7953"
             ],
             [
              0.7777777777777778,
              "#fb9f3a"
             ],
             [
              0.8888888888888888,
              "#fdca26"
             ],
             [
              1,
              "#f0f921"
             ]
            ],
            "type": "heatmap"
           }
          ],
          "heatmapgl": [
           {
            "colorbar": {
             "outlinewidth": 0,
             "ticks": ""
            },
            "colorscale": [
             [
              0,
              "#0d0887"
             ],
             [
              0.1111111111111111,
              "#46039f"
             ],
             [
              0.2222222222222222,
              "#7201a8"
             ],
             [
              0.3333333333333333,
              "#9c179e"
             ],
             [
              0.4444444444444444,
              "#bd3786"
             ],
             [
              0.5555555555555556,
              "#d8576b"
             ],
             [
              0.6666666666666666,
              "#ed7953"
             ],
             [
              0.7777777777777778,
              "#fb9f3a"
             ],
             [
              0.8888888888888888,
              "#fdca26"
             ],
             [
              1,
              "#f0f921"
             ]
            ],
            "type": "heatmapgl"
           }
          ],
          "histogram": [
           {
            "marker": {
             "pattern": {
              "fillmode": "overlay",
              "size": 10,
              "solidity": 0.2
             }
            },
            "type": "histogram"
           }
          ],
          "histogram2d": [
           {
            "colorbar": {
             "outlinewidth": 0,
             "ticks": ""
            },
            "colorscale": [
             [
              0,
              "#0d0887"
             ],
             [
              0.1111111111111111,
              "#46039f"
             ],
             [
              0.2222222222222222,
              "#7201a8"
             ],
             [
              0.3333333333333333,
              "#9c179e"
             ],
             [
              0.4444444444444444,
              "#bd3786"
             ],
             [
              0.5555555555555556,
              "#d8576b"
             ],
             [
              0.6666666666666666,
              "#ed7953"
             ],
             [
              0.7777777777777778,
              "#fb9f3a"
             ],
             [
              0.8888888888888888,
              "#fdca26"
             ],
             [
              1,
              "#f0f921"
             ]
            ],
            "type": "histogram2d"
           }
          ],
          "histogram2dcontour": [
           {
            "colorbar": {
             "outlinewidth": 0,
             "ticks": ""
            },
            "colorscale": [
             [
              0,
              "#0d0887"
             ],
             [
              0.1111111111111111,
              "#46039f"
             ],
             [
              0.2222222222222222,
              "#7201a8"
             ],
             [
              0.3333333333333333,
              "#9c179e"
             ],
             [
              0.4444444444444444,
              "#bd3786"
             ],
             [
              0.5555555555555556,
              "#d8576b"
             ],
             [
              0.6666666666666666,
              "#ed7953"
             ],
             [
              0.7777777777777778,
              "#fb9f3a"
             ],
             [
              0.8888888888888888,
              "#fdca26"
             ],
             [
              1,
              "#f0f921"
             ]
            ],
            "type": "histogram2dcontour"
           }
          ],
          "mesh3d": [
           {
            "colorbar": {
             "outlinewidth": 0,
             "ticks": ""
            },
            "type": "mesh3d"
           }
          ],
          "parcoords": [
           {
            "line": {
             "colorbar": {
              "outlinewidth": 0,
              "ticks": ""
             }
            },
            "type": "parcoords"
           }
          ],
          "pie": [
           {
            "automargin": true,
            "type": "pie"
           }
          ],
          "scatter": [
           {
            "fillpattern": {
             "fillmode": "overlay",
             "size": 10,
             "solidity": 0.2
            },
            "type": "scatter"
           }
          ],
          "scatter3d": [
           {
            "line": {
             "colorbar": {
              "outlinewidth": 0,
              "ticks": ""
             }
            },
            "marker": {
             "colorbar": {
              "outlinewidth": 0,
              "ticks": ""
             }
            },
            "type": "scatter3d"
           }
          ],
          "scattercarpet": [
           {
            "marker": {
             "colorbar": {
              "outlinewidth": 0,
              "ticks": ""
             }
            },
            "type": "scattercarpet"
           }
          ],
          "scattergeo": [
           {
            "marker": {
             "colorbar": {
              "outlinewidth": 0,
              "ticks": ""
             }
            },
            "type": "scattergeo"
           }
          ],
          "scattergl": [
           {
            "marker": {
             "colorbar": {
              "outlinewidth": 0,
              "ticks": ""
             }
            },
            "type": "scattergl"
           }
          ],
          "scattermapbox": [
           {
            "marker": {
             "colorbar": {
              "outlinewidth": 0,
              "ticks": ""
             }
            },
            "type": "scattermapbox"
           }
          ],
          "scatterpolar": [
           {
            "marker": {
             "colorbar": {
              "outlinewidth": 0,
              "ticks": ""
             }
            },
            "type": "scatterpolar"
           }
          ],
          "scatterpolargl": [
           {
            "marker": {
             "colorbar": {
              "outlinewidth": 0,
              "ticks": ""
             }
            },
            "type": "scatterpolargl"
           }
          ],
          "scatterternary": [
           {
            "marker": {
             "colorbar": {
              "outlinewidth": 0,
              "ticks": ""
             }
            },
            "type": "scatterternary"
           }
          ],
          "surface": [
           {
            "colorbar": {
             "outlinewidth": 0,
             "ticks": ""
            },
            "colorscale": [
             [
              0,
              "#0d0887"
             ],
             [
              0.1111111111111111,
              "#46039f"
             ],
             [
              0.2222222222222222,
              "#7201a8"
             ],
             [
              0.3333333333333333,
              "#9c179e"
             ],
             [
              0.4444444444444444,
              "#bd3786"
             ],
             [
              0.5555555555555556,
              "#d8576b"
             ],
             [
              0.6666666666666666,
              "#ed7953"
             ],
             [
              0.7777777777777778,
              "#fb9f3a"
             ],
             [
              0.8888888888888888,
              "#fdca26"
             ],
             [
              1,
              "#f0f921"
             ]
            ],
            "type": "surface"
           }
          ],
          "table": [
           {
            "cells": {
             "fill": {
              "color": "#EBF0F8"
             },
             "line": {
              "color": "white"
             }
            },
            "header": {
             "fill": {
              "color": "#C8D4E3"
             },
             "line": {
              "color": "white"
             }
            },
            "type": "table"
           }
          ]
         },
         "layout": {
          "annotationdefaults": {
           "arrowcolor": "#2a3f5f",
           "arrowhead": 0,
           "arrowwidth": 1
          },
          "autotypenumbers": "strict",
          "coloraxis": {
           "colorbar": {
            "outlinewidth": 0,
            "ticks": ""
           }
          },
          "colorscale": {
           "diverging": [
            [
             0,
             "#8e0152"
            ],
            [
             0.1,
             "#c51b7d"
            ],
            [
             0.2,
             "#de77ae"
            ],
            [
             0.3,
             "#f1b6da"
            ],
            [
             0.4,
             "#fde0ef"
            ],
            [
             0.5,
             "#f7f7f7"
            ],
            [
             0.6,
             "#e6f5d0"
            ],
            [
             0.7,
             "#b8e186"
            ],
            [
             0.8,
             "#7fbc41"
            ],
            [
             0.9,
             "#4d9221"
            ],
            [
             1,
             "#276419"
            ]
           ],
           "sequential": [
            [
             0,
             "#0d0887"
            ],
            [
             0.1111111111111111,
             "#46039f"
            ],
            [
             0.2222222222222222,
             "#7201a8"
            ],
            [
             0.3333333333333333,
             "#9c179e"
            ],
            [
             0.4444444444444444,
             "#bd3786"
            ],
            [
             0.5555555555555556,
             "#d8576b"
            ],
            [
             0.6666666666666666,
             "#ed7953"
            ],
            [
             0.7777777777777778,
             "#fb9f3a"
            ],
            [
             0.8888888888888888,
             "#fdca26"
            ],
            [
             1,
             "#f0f921"
            ]
           ],
           "sequentialminus": [
            [
             0,
             "#0d0887"
            ],
            [
             0.1111111111111111,
             "#46039f"
            ],
            [
             0.2222222222222222,
             "#7201a8"
            ],
            [
             0.3333333333333333,
             "#9c179e"
            ],
            [
             0.4444444444444444,
             "#bd3786"
            ],
            [
             0.5555555555555556,
             "#d8576b"
            ],
            [
             0.6666666666666666,
             "#ed7953"
            ],
            [
             0.7777777777777778,
             "#fb9f3a"
            ],
            [
             0.8888888888888888,
             "#fdca26"
            ],
            [
             1,
             "#f0f921"
            ]
           ]
          },
          "colorway": [
           "#636efa",
           "#EF553B",
           "#00cc96",
           "#ab63fa",
           "#FFA15A",
           "#19d3f3",
           "#FF6692",
           "#B6E880",
           "#FF97FF",
           "#FECB52"
          ],
          "font": {
           "color": "#2a3f5f"
          },
          "geo": {
           "bgcolor": "white",
           "lakecolor": "white",
           "landcolor": "#E5ECF6",
           "showlakes": true,
           "showland": true,
           "subunitcolor": "white"
          },
          "hoverlabel": {
           "align": "left"
          },
          "hovermode": "closest",
          "mapbox": {
           "style": "light"
          },
          "paper_bgcolor": "white",
          "plot_bgcolor": "#E5ECF6",
          "polar": {
           "angularaxis": {
            "gridcolor": "white",
            "linecolor": "white",
            "ticks": ""
           },
           "bgcolor": "#E5ECF6",
           "radialaxis": {
            "gridcolor": "white",
            "linecolor": "white",
            "ticks": ""
           }
          },
          "scene": {
           "xaxis": {
            "backgroundcolor": "#E5ECF6",
            "gridcolor": "white",
            "gridwidth": 2,
            "linecolor": "white",
            "showbackground": true,
            "ticks": "",
            "zerolinecolor": "white"
           },
           "yaxis": {
            "backgroundcolor": "#E5ECF6",
            "gridcolor": "white",
            "gridwidth": 2,
            "linecolor": "white",
            "showbackground": true,
            "ticks": "",
            "zerolinecolor": "white"
           },
           "zaxis": {
            "backgroundcolor": "#E5ECF6",
            "gridcolor": "white",
            "gridwidth": 2,
            "linecolor": "white",
            "showbackground": true,
            "ticks": "",
            "zerolinecolor": "white"
           }
          },
          "shapedefaults": {
           "line": {
            "color": "#2a3f5f"
           }
          },
          "ternary": {
           "aaxis": {
            "gridcolor": "white",
            "linecolor": "white",
            "ticks": ""
           },
           "baxis": {
            "gridcolor": "white",
            "linecolor": "white",
            "ticks": ""
           },
           "bgcolor": "#E5ECF6",
           "caxis": {
            "gridcolor": "white",
            "linecolor": "white",
            "ticks": ""
           }
          },
          "title": {
           "x": 0.05
          },
          "xaxis": {
           "automargin": true,
           "gridcolor": "white",
           "linecolor": "white",
           "ticks": "",
           "title": {
            "standoff": 15
           },
           "zerolinecolor": "white",
           "zerolinewidth": 2
          },
          "yaxis": {
           "automargin": true,
           "gridcolor": "white",
           "linecolor": "white",
           "ticks": "",
           "title": {
            "standoff": 15
           },
           "zerolinecolor": "white",
           "zerolinewidth": 2
          }
         }
        },
        "title": {
         "text": "Historical Data of cumulative_returns"
        },
        "width": 1000,
        "xaxis": {
         "anchor": "y",
         "domain": [
          0,
          1
         ],
         "title": {
          "text": "date"
         }
        },
        "yaxis": {
         "anchor": "x",
         "domain": [
          0,
          1
         ],
         "title": {
          "text": "cumulative_returns"
         }
        }
       }
      }
     },
     "metadata": {},
     "output_type": "display_data"
    }
   ],
   "source": [
    "expected_portfolio_returns_df = pd.DataFrame(data=expected_portfolio_returns_by_date, columns=['returns'])\n",
    "expected_portfolio_returns_df.reset_index(inplace=True)\n",
    "\n",
    "expected_portfolio_returns_df['date'] = pd.to_datetime(expected_portfolio_returns_df['date'])\n",
    "expected_portfolio_returns_df = expected_portfolio_returns_df.sort_values(by='date')\n",
    "\n",
    "expected_portfolio_returns_df['cumulative_returns'] = (1 + expected_portfolio_returns_df['returns']).cumprod() - 1\n",
    "\n",
    "plotData(expected_portfolio_returns_df, 'date', 'cumulative_returns')"
   ]
  },
  {
   "cell_type": "code",
   "execution_count": 21,
   "metadata": {},
   "outputs": [],
   "source": [
    "\n",
    "def analyze_alpha(expected_portfolio_returns_by_date):\n",
    "    \"\"\"\n",
    "    Perform a t-test with the null hypothesis being that the expected mean return is zero.\n",
    "    \n",
    "    Parameters\n",
    "    ----------\n",
    "    expected_portfolio_returns_by_date : Pandas Series\n",
    "        Expected portfolio returns for each date\n",
    "    \n",
    "    Returns\n",
    "    -------\n",
    "    t_value\n",
    "        T-statistic from t-test\n",
    "    p_value\n",
    "        Corresponding p-value\n",
    "    \"\"\"\n",
    "    # TODO: Implement Function\n",
    "    \n",
    "    t_test = stats.ttest_1samp(expected_portfolio_returns_by_date,\n",
    "                               popmean=0,\n",
    "                              )\n",
    "                    \n",
    "    \n",
    "    return (t_test[0], t_test[1] / 2)"
   ]
  },
  {
   "cell_type": "code",
   "execution_count": 22,
   "metadata": {},
   "outputs": [
    {
     "data": {
      "text/plain": [
       "(np.float64(-0.2931185058116381), np.float64(0.3849845907064786))"
      ]
     },
     "execution_count": 22,
     "metadata": {},
     "output_type": "execute_result"
    }
   ],
   "source": [
    "analyze_alpha(expected_portfolio_returns_by_date)"
   ]
  },
  {
   "cell_type": "code",
   "execution_count": null,
   "metadata": {},
   "outputs": [],
   "source": []
  },
  {
   "cell_type": "code",
   "execution_count": null,
   "metadata": {},
   "outputs": [],
   "source": []
  },
  {
   "cell_type": "code",
   "execution_count": null,
   "metadata": {},
   "outputs": [],
   "source": []
  },
  {
   "cell_type": "code",
   "execution_count": null,
   "metadata": {},
   "outputs": [],
   "source": []
  },
  {
   "cell_type": "code",
   "execution_count": null,
   "metadata": {},
   "outputs": [],
   "source": []
  },
  {
   "cell_type": "code",
   "execution_count": null,
   "metadata": {},
   "outputs": [],
   "source": []
  },
  {
   "cell_type": "code",
   "execution_count": null,
   "metadata": {},
   "outputs": [],
   "source": []
  },
  {
   "cell_type": "code",
   "execution_count": null,
   "metadata": {},
   "outputs": [],
   "source": []
  },
  {
   "cell_type": "code",
   "execution_count": null,
   "metadata": {},
   "outputs": [],
   "source": []
  },
  {
   "cell_type": "code",
   "execution_count": null,
   "metadata": {},
   "outputs": [],
   "source": []
  },
  {
   "cell_type": "code",
   "execution_count": null,
   "metadata": {},
   "outputs": [],
   "source": []
  }
 ],
 "metadata": {
  "kernelspec": {
   "display_name": "venv",
   "language": "python",
   "name": "python3"
  },
  "language_info": {
   "codemirror_mode": {
    "name": "ipython",
    "version": 3
   },
   "file_extension": ".py",
   "mimetype": "text/x-python",
   "name": "python",
   "nbconvert_exporter": "python",
   "pygments_lexer": "ipython3",
   "version": "3.12.4"
  }
 },
 "nbformat": 4,
 "nbformat_minor": 2
}
